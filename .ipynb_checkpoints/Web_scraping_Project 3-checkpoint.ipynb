{
 "cells": [
  {
   "cell_type": "markdown",
   "metadata": {
    "focus": false,
    "id": "69b9a648-bcc7-490d-9f9b-ea244d156bd6"
   },
   "source": [
    "# Web Scraping for Indeed.com & Predicting Salaries"
   ]
  },
  {
   "cell_type": "markdown",
   "metadata": {
    "focus": false,
    "id": "34681254-c802-462f-829d-8894d0772d08"
   },
   "source": [
    "In this project, we will practice two major skills: collecting data by scraping a website and then building a binary classifier.\n",
    "\n",
    "We are going to collect salary information on data science jobs in a variety of markets. Then using the location, title, and summary of the job we will attempt to predict the salary of the job. For job posting sites, this would be extraordinarily useful. While most listings DO NOT come with salary information (as you will see in this exercise), being to able extrapolate or predict the expected salaries from other listings can help guide negotiations.\n",
    "\n",
    "Normally, we could use regression for this task; however, we will convert this problem into classification and use a random forest classifier, as well as another classifier of your choice; either logistic regression, SVM, or KNN. \n",
    "\n",
    "- **Question**: Why would we want this to be a classification problem?\n",
    "- **Answer**: While more precision may be better, there is a fair amount of natural variance in job salaries - predicting a range be may be useful.\n",
    "\n",
    "Therefore, the first part of the assignment will be focused on scraping Indeed.com. In the second, we'll focus on using listings with salary information to build a model and predict additional salaries."
   ]
  },
  {
   "cell_type": "markdown",
   "metadata": {
    "focus": false,
    "id": "a948d79c-5527-4c0d-ab23-f5d43ce72056"
   },
   "source": [
    "### Scraping job listings from Indeed.com"
   ]
  },
  {
   "cell_type": "markdown",
   "metadata": {
    "focus": true,
    "id": "7203e0c9-e437-4802-a6ad-7dc464f94436"
   },
   "source": [
    "We will be scraping job listings from Indeed.com using BeautifulSoup. Luckily, Indeed.com is a simple text page where we can easily find relevant entries.\n",
    "\n",
    "First, look at the source of an Indeed.com page: (http://www.indeed.com/jobs?q=data+scientist+%2420%2C000&l=New+York&start=10\")\n",
    "\n",
    "Notice, each job listing is underneath a `div` tag with a class name of `result`. We can use BeautifulSoup to extract those. "
   ]
  },
  {
   "cell_type": "markdown",
   "metadata": {},
   "source": [
    "#### Set up a request (using requests) to the URL below. Use BeautifulSoup to parse the page and extract all results (HINT: Look for div tags with class name result)\n",
    "The URL here has many query parameters\n",
    "- q for the job search\n",
    "- This is followed by \"+20,000\" to return results with salaries (or expected salaries >$20,000)\n",
    "- l for a location\n",
    "- start for what result number to start on"
   ]
  },
  {
   "cell_type": "code",
   "execution_count": 2,
   "metadata": {
    "collapsed": true
   },
   "outputs": [],
   "source": [
    "URL = \"http://www.indeed.com/jobs?q=data+scientist+%2420%2C000&l=New+York&start=10\"\n",
    "base_url = 'https://www.indeed.com/jobs?q=data+scientist&l=' "
   ]
  },
  {
   "cell_type": "code",
   "execution_count": 306,
   "metadata": {
    "collapsed": false
   },
   "outputs": [],
   "source": [
    "import bs4\n",
    "from bs4 import BeautifulSoup\n",
    "import urllib\n",
    "from urllib import urlopen\n",
    "import requests\n",
    "import time\n",
    "import pandas as pd"
   ]
  },
  {
   "cell_type": "code",
   "execution_count": 117,
   "metadata": {
    "collapsed": false
   },
   "outputs": [],
   "source": [
    "\n",
    "\n",
    "# visit that url, and grab the html of said page\n",
    "html = urllib.urlopen(URL).read()\n",
    "\n",
    "soup = BeautifulSoup(html, 'html.parser', from_encoding=\"utf-8\")"
   ]
  },
  {
   "cell_type": "code",
   "execution_count": 230,
   "metadata": {
    "collapsed": true
   },
   "outputs": [
    {
     "name": "stdout",
     "output_type": "stream",
     "text": [
      "Data Scientist, Workforce Intelligence\n",
      "New Hyde Park, NY\n",
      "\n",
      "\n",
      "        Northwell Health\n",
      "None\n",
      "Data Scientist\n",
      "New York, NY 10018\n",
      "\n",
      "    Princeton Consulting\n",
      "None\n",
      "Research Analyst/Accountant III\n",
      "New York, NY\n",
      "\n",
      "    1199SEIU Family of Funds\n",
      "None\n",
      "Data Scientist\n",
      "New York, NY\n",
      "\n",
      "\n",
      "    indify\n",
      "\n",
      "<nobr>$90,000 - $170,000 a year</nobr>\n",
      "Data Scientists\n",
      "New York, NY\n",
      "\n",
      "\n",
      "    FXcompared\n",
      "\n",
      "None\n",
      "Data Scientist - Network Infrastructure\n",
      "New York, NY\n",
      "\n",
      "\n",
      "\n",
      "        Bloomberg\n",
      "\n",
      "None\n",
      "Principal Data Scientist\n",
      "New York, NY 10016 (Gramercy area)\n",
      "\n",
      "\n",
      "\n",
      "        Aetna\n",
      "\n",
      "None\n",
      "Data Analyst\n",
      "New York, NY\n",
      "\n",
      "\n",
      "\n",
      "        NYU School of Medicine\n",
      "\n",
      "None\n",
      "Part Time Online Course Mentor: Data Analysis\n",
      "New York, NY\n",
      "\n",
      "\n",
      "\n",
      "        General Assembly\n",
      "\n",
      "None\n",
      "Sr. Data Scientist\n",
      "New York, NY\n",
      "\n",
      "\n",
      "    Hudson Data\n",
      "\n",
      "None\n",
      "Data Analyst/Modeler\n",
      "Manhattan, NY\n",
      "\n",
      "\n",
      "\n",
      "        DEPARTMENT OF FINANCE\n",
      "\n",
      "<nobr>$70,286 - $80,829 a year</nobr>\n",
      "Sr Data Scientist\n",
      "New York, NY 10016 (Gramercy area)\n",
      "\n",
      "\n",
      "\n",
      "        Aetna\n",
      "\n",
      "None\n",
      "Analytics - Ads Team\n",
      "New York, NY\n",
      "\n",
      "\n",
      "\n",
      "        Foursquare\n",
      "\n",
      "None\n",
      "Senior Quantitative Analyst, global investments strategies\n",
      "New York, NY\n",
      "\n",
      "    Elti Solutions\n",
      "None\n",
      "Data Analyst\n",
      "New York, NY\n",
      "\n",
      "\n",
      "        NYU School of Medicine\n",
      "None\n"
     ]
    }
   ],
   "source": [
    "# for entry in soup.find_all('div', {'class':'result'}):\n",
    "#     title =entry.find('a',attrs= {\"class\":\"turnstileLink\"})\n",
    "#     location = entry.find('span',attrs= {\"class\":\"location\"})\n",
    "#     company = entry.find('span', attrs = {\"class\":\"company\"})\n",
    "#     try:\n",
    "#         salary = entry.find('nobr')\n",
    "#     except:\n",
    "#         salary = 'NA'\n",
    "        \n",
    "#     print title.text\n",
    "#     print location.text\n",
    "#     print company.text\n",
    "#     print salary\n",
    "   "
   ]
  },
  {
   "cell_type": "code",
   "execution_count": 332,
   "metadata": {
    "collapsed": true
   },
   "outputs": [],
   "source": [
    "data_science = pd.DataFrame(columns=[\"title\",\"location\",\"company\",\"salary\"])"
   ]
  },
  {
   "cell_type": "code",
   "execution_count": 333,
   "metadata": {
    "collapsed": false
   },
   "outputs": [],
   "source": [
    "def scrap():\n",
    "    for row in soup.find_all('td', {'id':'resultsCol'}):\n",
    "        classes= row.find_all('div', {'class':'result'}) \n",
    "        for entry in classes:\n",
    "            title =entry.find('a',attrs= {\"class\":\"turnstileLink\"}).get_text()\n",
    "            location = entry.find('span',attrs= {\"class\":\"location\"}).get_text()\n",
    "            try:\n",
    "                company = entry.find('span', attrs = {\"class\":\"company\"}).get_text()\n",
    "            except:\n",
    "                company = 'NA'\n",
    "            try:\n",
    "                salary = entry.find('nobr').get_text()\n",
    "            except:\n",
    "                salary = 'NA'\n",
    "            data_science.loc[len(data_science)]=[title.strip(), location.strip(), company.strip(), salary]\n",
    "#             time.sleep(0.05)\n",
    "            \n"
   ]
  },
  {
   "cell_type": "code",
   "execution_count": 335,
   "metadata": {
    "collapsed": false
   },
   "outputs": [],
   "source": [
    "YOUR_CITY = 'Washington DC'\n",
    "url_template = \"http://www.indeed.com/jobs?q=data+scientist+%2420%2C000&l={}&start={}\"\n",
    "max_results_per_city = 2000 # Set this to a high-value (5000) to generate more results. \n",
    "# Crawling more results, will also take much longer. First test your code on a small number of results and then expand.\n",
    "\n",
    "results = []\n",
    "\n",
    "for city in set(['New+York', 'Chicago', 'San+Francisco', 'Austin', 'Seattle', \n",
    "    'Los+Angeles', 'Philadelphia', 'Atlanta', 'Dallas', 'Pittsburgh', \n",
    "    'Portland', 'Phoenix', 'Denver', 'Houston', 'Miami', YOUR_CITY]):\n",
    "    for start in range(0, max_results_per_city, 10):\n",
    "            url_template = \"http://www.indeed.com/jobs?q=data+scientist+%2420%2C000&l={:s}&start={:d}\".format(city, start)\n",
    "            results.append(url_template)\n",
    "            \n",
    "        \n",
    "            pass\n",
    "        "
   ]
  },
  {
   "cell_type": "code",
   "execution_count": 336,
   "metadata": {
    "collapsed": false
   },
   "outputs": [],
   "source": [
    "#counter = 0\n",
    "for i in results:\n",
    "    r = requests.get(i)\n",
    "    soup = BeautifulSoup(r.text, \"html.parser\")\n",
    "    scrap()\n",
    "    #counter += 1\n",
    "    #print counter\n",
    "    "
   ]
  },
  {
   "cell_type": "code",
   "execution_count": 337,
   "metadata": {
    "collapsed": false
   },
   "outputs": [
    {
     "data": {
      "text/html": [
       "<div>\n",
       "<table border=\"1\" class=\"dataframe\">\n",
       "  <thead>\n",
       "    <tr style=\"text-align: right;\">\n",
       "      <th></th>\n",
       "      <th>title</th>\n",
       "      <th>location</th>\n",
       "      <th>company</th>\n",
       "      <th>salary</th>\n",
       "    </tr>\n",
       "  </thead>\n",
       "  <tbody>\n",
       "    <tr>\n",
       "      <th>count</th>\n",
       "      <td>47624</td>\n",
       "      <td>47624</td>\n",
       "      <td>47624</td>\n",
       "      <td>47624</td>\n",
       "    </tr>\n",
       "    <tr>\n",
       "      <th>unique</th>\n",
       "      <td>4413</td>\n",
       "      <td>803</td>\n",
       "      <td>2289</td>\n",
       "      <td>257</td>\n",
       "    </tr>\n",
       "    <tr>\n",
       "      <th>top</th>\n",
       "      <td>Data Scientist</td>\n",
       "      <td>United States</td>\n",
       "      <td>Accenture</td>\n",
       "      <td>NA</td>\n",
       "    </tr>\n",
       "    <tr>\n",
       "      <th>freq</th>\n",
       "      <td>7296</td>\n",
       "      <td>8306</td>\n",
       "      <td>3366</td>\n",
       "      <td>47138</td>\n",
       "    </tr>\n",
       "  </tbody>\n",
       "</table>\n",
       "</div>"
      ],
      "text/plain": [
       "                 title       location    company salary\n",
       "count            47624          47624      47624  47624\n",
       "unique            4413            803       2289    257\n",
       "top     Data Scientist  United States  Accenture     NA\n",
       "freq              7296           8306       3366  47138"
      ]
     },
     "execution_count": 337,
     "metadata": {},
     "output_type": "execute_result"
    }
   ],
   "source": [
    "data_science.describe()"
   ]
  },
  {
   "cell_type": "code",
   "execution_count": 314,
   "metadata": {
    "collapsed": false
   },
   "outputs": [
    {
     "data": {
      "text/plain": [
       "906"
      ]
     },
     "execution_count": 314,
     "metadata": {},
     "output_type": "execute_result"
    }
   ],
   "source": [
    "first_dataset.duplicated().sum()"
   ]
  },
  {
   "cell_type": "code",
   "execution_count": 322,
   "metadata": {
    "collapsed": true
   },
   "outputs": [
    {
     "data": {
      "text/html": [
       "<div>\n",
       "<table border=\"1\" class=\"dataframe\">\n",
       "  <thead>\n",
       "    <tr style=\"text-align: right;\">\n",
       "      <th></th>\n",
       "      <th>title</th>\n",
       "      <th>location</th>\n",
       "      <th>company</th>\n",
       "      <th>salary</th>\n",
       "    </tr>\n",
       "  </thead>\n",
       "  <tbody>\n",
       "    <tr>\n",
       "      <th>0</th>\n",
       "      <td>Data Scientist</td>\n",
       "      <td>United States</td>\n",
       "      <td>Predictive Science</td>\n",
       "      <td>NA</td>\n",
       "    </tr>\n",
       "    <tr>\n",
       "      <th>1</th>\n",
       "      <td>Orbital Debris Scientist - ERC</td>\n",
       "      <td>Johnson, TX</td>\n",
       "      <td>ERC, Inc.</td>\n",
       "      <td>NA</td>\n",
       "    </tr>\n",
       "    <tr>\n",
       "      <th>2</th>\n",
       "      <td>Project Associate</td>\n",
       "      <td>Houston, TX</td>\n",
       "      <td>alliantgroup</td>\n",
       "      <td>NA</td>\n",
       "    </tr>\n",
       "    <tr>\n",
       "      <th>3</th>\n",
       "      <td>Data Scientist</td>\n",
       "      <td>Houston, TX</td>\n",
       "      <td>Platinum Solutions</td>\n",
       "      <td>$80,000 - $120,000 a year</td>\n",
       "    </tr>\n",
       "    <tr>\n",
       "      <th>4</th>\n",
       "      <td>Data Scientist Intern</td>\n",
       "      <td>Houston, TX</td>\n",
       "      <td>HP</td>\n",
       "      <td>NA</td>\n",
       "    </tr>\n",
       "    <tr>\n",
       "      <th>5</th>\n",
       "      <td>Marketing Analyst/Data Scientist</td>\n",
       "      <td>Houston, TX</td>\n",
       "      <td>David Weekley Homes</td>\n",
       "      <td>NA</td>\n",
       "    </tr>\n",
       "    <tr>\n",
       "      <th>6</th>\n",
       "      <td>Ultimate Hoops Statistician</td>\n",
       "      <td>Sugar Land, TX 77478</td>\n",
       "      <td>Life Time Fitness</td>\n",
       "      <td>NA</td>\n",
       "    </tr>\n",
       "    <tr>\n",
       "      <th>7</th>\n",
       "      <td>Senior Data Scientist</td>\n",
       "      <td>Houston, TX</td>\n",
       "      <td>Honeywell</td>\n",
       "      <td>NA</td>\n",
       "    </tr>\n",
       "    <tr>\n",
       "      <th>8</th>\n",
       "      <td>Associate Statistical Analyst, HSR</td>\n",
       "      <td>Houston, TX</td>\n",
       "      <td>MD Anderson Cancer Center</td>\n",
       "      <td>NA</td>\n",
       "    </tr>\n",
       "    <tr>\n",
       "      <th>9</th>\n",
       "      <td>Market Research Analyst</td>\n",
       "      <td>Houston, TX 77056 (Galleria-Uptown area)</td>\n",
       "      <td>Weatherford</td>\n",
       "      <td>NA</td>\n",
       "    </tr>\n",
       "  </tbody>\n",
       "</table>\n",
       "</div>"
      ],
      "text/plain": [
       "                                title  \\\n",
       "0                      Data Scientist   \n",
       "1      Orbital Debris Scientist - ERC   \n",
       "2                   Project Associate   \n",
       "3                      Data Scientist   \n",
       "4               Data Scientist Intern   \n",
       "5    Marketing Analyst/Data Scientist   \n",
       "6         Ultimate Hoops Statistician   \n",
       "7               Senior Data Scientist   \n",
       "8  Associate Statistical Analyst, HSR   \n",
       "9             Market Research Analyst   \n",
       "\n",
       "                                   location                    company  \\\n",
       "0                             United States         Predictive Science   \n",
       "1                               Johnson, TX                  ERC, Inc.   \n",
       "2                               Houston, TX               alliantgroup   \n",
       "3                               Houston, TX         Platinum Solutions   \n",
       "4                               Houston, TX                         HP   \n",
       "5                               Houston, TX        David Weekley Homes   \n",
       "6                      Sugar Land, TX 77478          Life Time Fitness   \n",
       "7                               Houston, TX                  Honeywell   \n",
       "8                               Houston, TX  MD Anderson Cancer Center   \n",
       "9  Houston, TX 77056 (Galleria-Uptown area)                Weatherford   \n",
       "\n",
       "                      salary  \n",
       "0                         NA  \n",
       "1                         NA  \n",
       "2                         NA  \n",
       "3  $80,000 - $120,000 a year  \n",
       "4                         NA  \n",
       "5                         NA  \n",
       "6                         NA  \n",
       "7                         NA  \n",
       "8                         NA  \n",
       "9                         NA  "
      ]
     },
     "execution_count": 322,
     "metadata": {},
     "output_type": "execute_result"
    }
   ],
   "source": [
    "first_dataset.head(10)"
   ]
  },
  {
   "cell_type": "code",
   "execution_count": 327,
   "metadata": {
    "collapsed": true
   },
   "outputs": [],
   "source": [
    "second_dataset = data_science"
   ]
  },
  {
   "cell_type": "code",
   "execution_count": 331,
   "metadata": {
    "collapsed": false
   },
   "outputs": [
    {
     "data": {
      "text/plain": [
       "6478"
      ]
     },
     "execution_count": 331,
     "metadata": {},
     "output_type": "execute_result"
    }
   ],
   "source": [
    "second_dataset.duplicated().sum()"
   ]
  },
  {
   "cell_type": "code",
   "execution_count": 338,
   "metadata": {
    "collapsed": false
   },
   "outputs": [],
   "source": [
    "third_dataset = data_science"
   ]
  },
  {
   "cell_type": "code",
   "execution_count": 339,
   "metadata": {
    "collapsed": false
   },
   "outputs": [
    {
     "data": {
      "text/plain": [
       "41851"
      ]
     },
     "execution_count": 339,
     "metadata": {},
     "output_type": "execute_result"
    }
   ],
   "source": [
    "third_dataset.duplicated().sum()"
   ]
  },
  {
   "cell_type": "code",
   "execution_count": 340,
   "metadata": {
    "collapsed": false
   },
   "outputs": [
    {
     "data": {
      "text/html": [
       "<div>\n",
       "<table border=\"1\" class=\"dataframe\">\n",
       "  <thead>\n",
       "    <tr style=\"text-align: right;\">\n",
       "      <th></th>\n",
       "      <th>title</th>\n",
       "      <th>location</th>\n",
       "      <th>company</th>\n",
       "      <th>salary</th>\n",
       "    </tr>\n",
       "  </thead>\n",
       "  <tbody>\n",
       "    <tr>\n",
       "      <th>count</th>\n",
       "      <td>47624</td>\n",
       "      <td>47624</td>\n",
       "      <td>47624</td>\n",
       "      <td>47624</td>\n",
       "    </tr>\n",
       "    <tr>\n",
       "      <th>unique</th>\n",
       "      <td>4413</td>\n",
       "      <td>803</td>\n",
       "      <td>2289</td>\n",
       "      <td>257</td>\n",
       "    </tr>\n",
       "    <tr>\n",
       "      <th>top</th>\n",
       "      <td>Data Scientist</td>\n",
       "      <td>United States</td>\n",
       "      <td>Accenture</td>\n",
       "      <td>NA</td>\n",
       "    </tr>\n",
       "    <tr>\n",
       "      <th>freq</th>\n",
       "      <td>7296</td>\n",
       "      <td>8306</td>\n",
       "      <td>3366</td>\n",
       "      <td>47138</td>\n",
       "    </tr>\n",
       "  </tbody>\n",
       "</table>\n",
       "</div>"
      ],
      "text/plain": [
       "                 title       location    company salary\n",
       "count            47624          47624      47624  47624\n",
       "unique            4413            803       2289    257\n",
       "top     Data Scientist  United States  Accenture     NA\n",
       "freq              7296           8306       3366  47138"
      ]
     },
     "execution_count": 340,
     "metadata": {},
     "output_type": "execute_result"
    }
   ],
   "source": [
    "third_dataset.describe()"
   ]
  },
  {
   "cell_type": "code",
   "execution_count": 344,
   "metadata": {
    "collapsed": true
   },
   "outputs": [],
   "source": [
    "da = pd.concat([first_dataset, second_dataset], axis=0)"
   ]
  },
  {
   "cell_type": "code",
   "execution_count": 345,
   "metadata": {
    "collapsed": true
   },
   "outputs": [],
   "source": [
    "data = pd.concat([da, third_dataset], axis=0)"
   ]
  },
  {
   "cell_type": "code",
   "execution_count": 352,
   "metadata": {
    "collapsed": false
   },
   "outputs": [],
   "source": [
    "f = pd.read_csv(\"~/Desktop/data.csv\")"
   ]
  },
  {
   "cell_type": "code",
   "execution_count": 362,
   "metadata": {
    "collapsed": true
   },
   "outputs": [],
   "source": [
    "f.drop_duplicates(inplace=True)"
   ]
  },
  {
   "cell_type": "code",
   "execution_count": 360,
   "metadata": {
    "collapsed": false
   },
   "outputs": [],
   "source": [
    "f.drop(['Unnamed: 0'],axis=1, inplace=True)"
   ]
  },
  {
   "cell_type": "code",
   "execution_count": 363,
   "metadata": {
    "collapsed": false
   },
   "outputs": [
    {
     "data": {
      "text/html": [
       "<div>\n",
       "<table border=\"1\" class=\"dataframe\">\n",
       "  <thead>\n",
       "    <tr style=\"text-align: right;\">\n",
       "      <th></th>\n",
       "      <th>title</th>\n",
       "      <th>location</th>\n",
       "      <th>company</th>\n",
       "      <th>salary</th>\n",
       "    </tr>\n",
       "  </thead>\n",
       "  <tbody>\n",
       "    <tr>\n",
       "      <th>count</th>\n",
       "      <td>6332</td>\n",
       "      <td>6332</td>\n",
       "      <td>6329</td>\n",
       "      <td>438</td>\n",
       "    </tr>\n",
       "    <tr>\n",
       "      <th>unique</th>\n",
       "      <td>4768</td>\n",
       "      <td>840</td>\n",
       "      <td>2435</td>\n",
       "      <td>277</td>\n",
       "    </tr>\n",
       "    <tr>\n",
       "      <th>top</th>\n",
       "      <td>Data Scientist</td>\n",
       "      <td>New York, NY</td>\n",
       "      <td>Ball Aerospace</td>\n",
       "      <td>$120,000 a year</td>\n",
       "    </tr>\n",
       "    <tr>\n",
       "      <th>freq</th>\n",
       "      <td>243</td>\n",
       "      <td>467</td>\n",
       "      <td>111</td>\n",
       "      <td>11</td>\n",
       "    </tr>\n",
       "  </tbody>\n",
       "</table>\n",
       "</div>"
      ],
      "text/plain": [
       "                 title      location         company           salary\n",
       "count             6332          6332            6329              438\n",
       "unique            4768           840            2435              277\n",
       "top     Data Scientist  New York, NY  Ball Aerospace  $120,000 a year\n",
       "freq               243           467             111               11"
      ]
     },
     "execution_count": 363,
     "metadata": {},
     "output_type": "execute_result"
    }
   ],
   "source": [
    "f.describe()"
   ]
  },
  {
   "cell_type": "code",
   "execution_count": 348,
   "metadata": {
    "collapsed": false
   },
   "outputs": [],
   "source": [
    "data.to_csv(\"~/Desktop/data.csv\",encoding = 'utf-8')"
   ]
  },
  {
   "cell_type": "code",
   "execution_count": 350,
   "metadata": {
    "collapsed": false
   },
   "outputs": [],
   "source": [
    "data.drop_duplicates(inplace=True)"
   ]
  },
  {
   "cell_type": "code",
   "execution_count": 351,
   "metadata": {
    "collapsed": true
   },
   "outputs": [
    {
     "data": {
      "text/html": [
       "<div>\n",
       "<table border=\"1\" class=\"dataframe\">\n",
       "  <thead>\n",
       "    <tr style=\"text-align: right;\">\n",
       "      <th></th>\n",
       "      <th>title</th>\n",
       "      <th>location</th>\n",
       "      <th>company</th>\n",
       "      <th>salary</th>\n",
       "    </tr>\n",
       "  </thead>\n",
       "  <tbody>\n",
       "    <tr>\n",
       "      <th>count</th>\n",
       "      <td>6332</td>\n",
       "      <td>6332</td>\n",
       "      <td>6332</td>\n",
       "      <td>6332</td>\n",
       "    </tr>\n",
       "    <tr>\n",
       "      <th>unique</th>\n",
       "      <td>4768</td>\n",
       "      <td>840</td>\n",
       "      <td>2436</td>\n",
       "      <td>278</td>\n",
       "    </tr>\n",
       "    <tr>\n",
       "      <th>top</th>\n",
       "      <td>Data Scientist</td>\n",
       "      <td>New York, NY</td>\n",
       "      <td>Ball Aerospace</td>\n",
       "      <td>NA</td>\n",
       "    </tr>\n",
       "    <tr>\n",
       "      <th>freq</th>\n",
       "      <td>243</td>\n",
       "      <td>467</td>\n",
       "      <td>111</td>\n",
       "      <td>5894</td>\n",
       "    </tr>\n",
       "  </tbody>\n",
       "</table>\n",
       "</div>"
      ],
      "text/plain": [
       "                 title      location         company salary\n",
       "count             6332          6332            6332   6332\n",
       "unique            4768           840            2436    278\n",
       "top     Data Scientist  New York, NY  Ball Aerospace     NA\n",
       "freq               243           467             111   5894"
      ]
     },
     "execution_count": 351,
     "metadata": {},
     "output_type": "execute_result"
    }
   ],
   "source": [
    "data.describe()"
   ]
  },
  {
   "cell_type": "code",
   "execution_count": 364,
   "metadata": {
    "collapsed": true
   },
   "outputs": [],
   "source": [
    "#import re"
   ]
  },
  {
   "cell_type": "code",
   "execution_count": 381,
   "metadata": {
    "collapsed": false
   },
   "outputs": [],
   "source": [
    "just_salaried = f[f.salary.notnull()]"
   ]
  },
  {
   "cell_type": "code",
   "execution_count": 383,
   "metadata": {
    "collapsed": true
   },
   "outputs": [
    {
     "data": {
      "text/html": [
       "<div>\n",
       "<table border=\"1\" class=\"dataframe\">\n",
       "  <thead>\n",
       "    <tr style=\"text-align: right;\">\n",
       "      <th></th>\n",
       "      <th>title</th>\n",
       "      <th>location</th>\n",
       "      <th>company</th>\n",
       "      <th>salary</th>\n",
       "    </tr>\n",
       "  </thead>\n",
       "  <tbody>\n",
       "    <tr>\n",
       "      <th>3</th>\n",
       "      <td>Data Scientist</td>\n",
       "      <td>Houston, TX</td>\n",
       "      <td>Platinum Solutions</td>\n",
       "      <td>$80,000 - $120,000 a year</td>\n",
       "    </tr>\n",
       "    <tr>\n",
       "      <th>27</th>\n",
       "      <td>Bioinformatics Software Developer</td>\n",
       "      <td>Houston, TX</td>\n",
       "      <td>Genialis</td>\n",
       "      <td>$50,000 - $80,000 a year</td>\n",
       "    </tr>\n",
       "    <tr>\n",
       "      <th>34</th>\n",
       "      <td>Data Scientist</td>\n",
       "      <td>Houston, TX</td>\n",
       "      <td>Engage Partners</td>\n",
       "      <td>$120 an hour</td>\n",
       "    </tr>\n",
       "    <tr>\n",
       "      <th>37</th>\n",
       "      <td>Quality Assurance Analyst (Research)</td>\n",
       "      <td>Houston, TX</td>\n",
       "      <td>Baylor College of Medicine</td>\n",
       "      <td>$43,794 a year</td>\n",
       "    </tr>\n",
       "    <tr>\n",
       "      <th>40</th>\n",
       "      <td>Sr Data Scientist (Hadoop) - Duluth, Georgia</td>\n",
       "      <td>Houston, TX</td>\n",
       "      <td>Horn Solutions, Inc.</td>\n",
       "      <td>$105,000 a year</td>\n",
       "    </tr>\n",
       "    <tr>\n",
       "      <th>54</th>\n",
       "      <td>Flow Cytometry Specialist I</td>\n",
       "      <td>Houston, TX</td>\n",
       "      <td>Baylor College of Medicine</td>\n",
       "      <td>$46,831 a year</td>\n",
       "    </tr>\n",
       "    <tr>\n",
       "      <th>67</th>\n",
       "      <td>Research Scientist</td>\n",
       "      <td>Houston, TX</td>\n",
       "      <td>Rice University</td>\n",
       "      <td>$40,800 - $79,100 a year</td>\n",
       "    </tr>\n",
       "    <tr>\n",
       "      <th>71</th>\n",
       "      <td>Data Manager</td>\n",
       "      <td>Houston, TX</td>\n",
       "      <td>santosh@compugra.com</td>\n",
       "      <td>$75 an hour</td>\n",
       "    </tr>\n",
       "    <tr>\n",
       "      <th>86</th>\n",
       "      <td>Research Statistical Analyst -Bioinformatics &amp;...</td>\n",
       "      <td>Houston, TX</td>\n",
       "      <td>MD Anderson Cancer Center</td>\n",
       "      <td>$66,400 - $99,600 a year</td>\n",
       "    </tr>\n",
       "    <tr>\n",
       "      <th>157</th>\n",
       "      <td>Data Architect</td>\n",
       "      <td>Phoenix, AZ</td>\n",
       "      <td>Career Evolutions</td>\n",
       "      <td>$150,000 a year</td>\n",
       "    </tr>\n",
       "    <tr>\n",
       "      <th>192</th>\n",
       "      <td>RESEARCH AND STATISTICAL ANALYST</td>\n",
       "      <td>Phoenix, AZ</td>\n",
       "      <td>Arizona Health Care Cost Containment System</td>\n",
       "      <td>$39,983 - $55,500 a year</td>\n",
       "    </tr>\n",
       "    <tr>\n",
       "      <th>215</th>\n",
       "      <td>AIR QUALITY PLANNER 2-3</td>\n",
       "      <td>Phoenix, AZ</td>\n",
       "      <td>State of Arizona</td>\n",
       "      <td>$45,000 - $77,000 a year</td>\n",
       "    </tr>\n",
       "    <tr>\n",
       "      <th>222</th>\n",
       "      <td>Budget &amp; Research Analyst</td>\n",
       "      <td>Goodyear, AZ</td>\n",
       "      <td>City of Goodyear, AZ</td>\n",
       "      <td>$63,696 - $94,557 a year</td>\n",
       "    </tr>\n",
       "    <tr>\n",
       "      <th>230</th>\n",
       "      <td>Paralegal</td>\n",
       "      <td>Gilbert, AZ 85295</td>\n",
       "      <td>Emord &amp; Associates, P.C.</td>\n",
       "      <td>$45,000 - $55,000 a year</td>\n",
       "    </tr>\n",
       "    <tr>\n",
       "      <th>245</th>\n",
       "      <td>ENVIRONMENTAL SCIENTIST - EMISSIONS</td>\n",
       "      <td>Phoenix, AZ</td>\n",
       "      <td>State of Arizona</td>\n",
       "      <td>$49,000 - $61,000 a year</td>\n",
       "    </tr>\n",
       "    <tr>\n",
       "      <th>247</th>\n",
       "      <td>Web Security Research Analyst</td>\n",
       "      <td>Scottsdale, AZ</td>\n",
       "      <td>SiteLock</td>\n",
       "      <td>$50,000 - $55,000 a year</td>\n",
       "    </tr>\n",
       "    <tr>\n",
       "      <th>249</th>\n",
       "      <td>COMPLIANCE OFFICER - HAZ WASTE</td>\n",
       "      <td>Phoenix, AZ</td>\n",
       "      <td>State of Arizona</td>\n",
       "      <td>$50,000 - $61,500 a year</td>\n",
       "    </tr>\n",
       "    <tr>\n",
       "      <th>274</th>\n",
       "      <td>RESEARCH &amp; STATISTICS ANALYST</td>\n",
       "      <td>Phoenix, AZ</td>\n",
       "      <td>State of Arizona</td>\n",
       "      <td>$30,000 - $45,000 a year</td>\n",
       "    </tr>\n",
       "    <tr>\n",
       "      <th>278</th>\n",
       "      <td>ENVIRONMENTAL TECHNICIAN</td>\n",
       "      <td>Phoenix, AZ</td>\n",
       "      <td>State of Arizona</td>\n",
       "      <td>$33,000 - $42,000 a year</td>\n",
       "    </tr>\n",
       "    <tr>\n",
       "      <th>281</th>\n",
       "      <td>Digital Marketing (Data Scientist)</td>\n",
       "      <td>Phoenix, AZ</td>\n",
       "      <td>Kennedy Unlimited Inc, Professional Staffing</td>\n",
       "      <td>$100,000 - $130,000 a year</td>\n",
       "    </tr>\n",
       "    <tr>\n",
       "      <th>290</th>\n",
       "      <td>WAH Data Entry and Research Analyst</td>\n",
       "      <td>Gilbert, AZ</td>\n",
       "      <td>AZ Appraising</td>\n",
       "      <td>$10 - $15 an hour</td>\n",
       "    </tr>\n",
       "    <tr>\n",
       "      <th>293</th>\n",
       "      <td>Information Technology Support Analyst, Senior...</td>\n",
       "      <td>Phoenix, AZ</td>\n",
       "      <td>The University of Arizona</td>\n",
       "      <td>$39,173 - $54,944 a year</td>\n",
       "    </tr>\n",
       "    <tr>\n",
       "      <th>295</th>\n",
       "      <td>Clinical/Research Nurse, OB/GYN (Phoenix, AZ)</td>\n",
       "      <td>Phoenix, AZ</td>\n",
       "      <td>The University of Arizona</td>\n",
       "      <td>$60,000 - $80,000 a year</td>\n",
       "    </tr>\n",
       "    <tr>\n",
       "      <th>307</th>\n",
       "      <td>Data Engineer</td>\n",
       "      <td>Chicago, IL</td>\n",
       "      <td>Enodo Score</td>\n",
       "      <td>$70,000 - $90,000 a year</td>\n",
       "    </tr>\n",
       "    <tr>\n",
       "      <th>309</th>\n",
       "      <td>Data Scientist</td>\n",
       "      <td>Chicago, IL</td>\n",
       "      <td>Huxley Associates</td>\n",
       "      <td>$100,000 a year</td>\n",
       "    </tr>\n",
       "    <tr>\n",
       "      <th>317</th>\n",
       "      <td>Data Scientist</td>\n",
       "      <td>Chicago, IL</td>\n",
       "      <td>Jobspring Partners</td>\n",
       "      <td>$120,000 - $140,000 a year</td>\n",
       "    </tr>\n",
       "    <tr>\n",
       "      <th>332</th>\n",
       "      <td>Sr. Data Scientist // Contract // West Loop Ch...</td>\n",
       "      <td>Chicago, IL 60661 (Near West Side area)</td>\n",
       "      <td>Modis</td>\n",
       "      <td>$85 - $110 an hour</td>\n",
       "    </tr>\n",
       "    <tr>\n",
       "      <th>333</th>\n",
       "      <td>Data Engineer Contractor</td>\n",
       "      <td>Chicago, IL</td>\n",
       "      <td>Workbridge Associates</td>\n",
       "      <td>$45 - $80 an hour</td>\n",
       "    </tr>\n",
       "    <tr>\n",
       "      <th>337</th>\n",
       "      <td>Analyst/Senior Analyst, Advanced Analytics</td>\n",
       "      <td>Chicago, IL</td>\n",
       "      <td>Liberty Mutual</td>\n",
       "      <td>$73,300 - $114,900 a year</td>\n",
       "    </tr>\n",
       "    <tr>\n",
       "      <th>341</th>\n",
       "      <td>Data Engineer</td>\n",
       "      <td>Chicago, IL</td>\n",
       "      <td>Pathfinder Search Group</td>\n",
       "      <td>$50 - $70 an hour</td>\n",
       "    </tr>\n",
       "    <tr>\n",
       "      <th>362</th>\n",
       "      <td>Data Scientist</td>\n",
       "      <td>Chicago, IL</td>\n",
       "      <td>Workbridge Associates</td>\n",
       "      <td>$125,000 a year</td>\n",
       "    </tr>\n",
       "    <tr>\n",
       "      <th>369</th>\n",
       "      <td>Contract Data Science</td>\n",
       "      <td>Chicago, IL</td>\n",
       "      <td>Jobspring Partners</td>\n",
       "      <td>$60 - $70 an hour</td>\n",
       "    </tr>\n",
       "    <tr>\n",
       "      <th>370</th>\n",
       "      <td>Machine Learning Engineer</td>\n",
       "      <td>Chicago, IL</td>\n",
       "      <td>Jobspring Partners</td>\n",
       "      <td>$120,000 - $150,000 a year</td>\n",
       "    </tr>\n",
       "    <tr>\n",
       "      <th>371</th>\n",
       "      <td>Statistical Analyst</td>\n",
       "      <td>Chicago, IL 60601 (Loop area)</td>\n",
       "      <td>The LaSalle Network</td>\n",
       "      <td>$80,000 a year</td>\n",
       "    </tr>\n",
       "    <tr>\n",
       "      <th>386</th>\n",
       "      <td>Principal Data Lead (Machine Learning)</td>\n",
       "      <td>Chicago, IL 60604 (Loop area)</td>\n",
       "      <td>Jobspring Partners</td>\n",
       "      <td>$180,000 a year</td>\n",
       "    </tr>\n",
       "  </tbody>\n",
       "</table>\n",
       "</div>"
      ],
      "text/plain": [
       "                                                 title  \\\n",
       "3                                       Data Scientist   \n",
       "27                   Bioinformatics Software Developer   \n",
       "34                                      Data Scientist   \n",
       "37                Quality Assurance Analyst (Research)   \n",
       "40        Sr Data Scientist (Hadoop) - Duluth, Georgia   \n",
       "54                         Flow Cytometry Specialist I   \n",
       "67                                  Research Scientist   \n",
       "71                                        Data Manager   \n",
       "86   Research Statistical Analyst -Bioinformatics &...   \n",
       "157                                     Data Architect   \n",
       "192                   RESEARCH AND STATISTICAL ANALYST   \n",
       "215                            AIR QUALITY PLANNER 2-3   \n",
       "222                          Budget & Research Analyst   \n",
       "230                                          Paralegal   \n",
       "245                ENVIRONMENTAL SCIENTIST - EMISSIONS   \n",
       "247                      Web Security Research Analyst   \n",
       "249                     COMPLIANCE OFFICER - HAZ WASTE   \n",
       "274                      RESEARCH & STATISTICS ANALYST   \n",
       "278                           ENVIRONMENTAL TECHNICIAN   \n",
       "281                 Digital Marketing (Data Scientist)   \n",
       "290                WAH Data Entry and Research Analyst   \n",
       "293  Information Technology Support Analyst, Senior...   \n",
       "295      Clinical/Research Nurse, OB/GYN (Phoenix, AZ)   \n",
       "307                                      Data Engineer   \n",
       "309                                     Data Scientist   \n",
       "317                                     Data Scientist   \n",
       "332  Sr. Data Scientist // Contract // West Loop Ch...   \n",
       "333                           Data Engineer Contractor   \n",
       "337         Analyst/Senior Analyst, Advanced Analytics   \n",
       "341                                      Data Engineer   \n",
       "362                                     Data Scientist   \n",
       "369                              Contract Data Science   \n",
       "370                          Machine Learning Engineer   \n",
       "371                                Statistical Analyst   \n",
       "386             Principal Data Lead (Machine Learning)   \n",
       "\n",
       "                                    location  \\\n",
       "3                                Houston, TX   \n",
       "27                               Houston, TX   \n",
       "34                               Houston, TX   \n",
       "37                               Houston, TX   \n",
       "40                               Houston, TX   \n",
       "54                               Houston, TX   \n",
       "67                               Houston, TX   \n",
       "71                               Houston, TX   \n",
       "86                               Houston, TX   \n",
       "157                              Phoenix, AZ   \n",
       "192                              Phoenix, AZ   \n",
       "215                              Phoenix, AZ   \n",
       "222                             Goodyear, AZ   \n",
       "230                        Gilbert, AZ 85295   \n",
       "245                              Phoenix, AZ   \n",
       "247                           Scottsdale, AZ   \n",
       "249                              Phoenix, AZ   \n",
       "274                              Phoenix, AZ   \n",
       "278                              Phoenix, AZ   \n",
       "281                              Phoenix, AZ   \n",
       "290                              Gilbert, AZ   \n",
       "293                              Phoenix, AZ   \n",
       "295                              Phoenix, AZ   \n",
       "307                              Chicago, IL   \n",
       "309                              Chicago, IL   \n",
       "317                              Chicago, IL   \n",
       "332  Chicago, IL 60661 (Near West Side area)   \n",
       "333                              Chicago, IL   \n",
       "337                              Chicago, IL   \n",
       "341                              Chicago, IL   \n",
       "362                              Chicago, IL   \n",
       "369                              Chicago, IL   \n",
       "370                              Chicago, IL   \n",
       "371            Chicago, IL 60601 (Loop area)   \n",
       "386            Chicago, IL 60604 (Loop area)   \n",
       "\n",
       "                                          company                      salary  \n",
       "3                              Platinum Solutions   $80,000 - $120,000 a year  \n",
       "27                                       Genialis    $50,000 - $80,000 a year  \n",
       "34                                Engage Partners                $120 an hour  \n",
       "37                     Baylor College of Medicine              $43,794 a year  \n",
       "40                           Horn Solutions, Inc.             $105,000 a year  \n",
       "54                     Baylor College of Medicine              $46,831 a year  \n",
       "67                                Rice University    $40,800 - $79,100 a year  \n",
       "71                           santosh@compugra.com                 $75 an hour  \n",
       "86                      MD Anderson Cancer Center    $66,400 - $99,600 a year  \n",
       "157                             Career Evolutions             $150,000 a year  \n",
       "192   Arizona Health Care Cost Containment System    $39,983 - $55,500 a year  \n",
       "215                              State of Arizona    $45,000 - $77,000 a year  \n",
       "222                          City of Goodyear, AZ    $63,696 - $94,557 a year  \n",
       "230                      Emord & Associates, P.C.    $45,000 - $55,000 a year  \n",
       "245                              State of Arizona    $49,000 - $61,000 a year  \n",
       "247                                      SiteLock    $50,000 - $55,000 a year  \n",
       "249                              State of Arizona    $50,000 - $61,500 a year  \n",
       "274                              State of Arizona    $30,000 - $45,000 a year  \n",
       "278                              State of Arizona    $33,000 - $42,000 a year  \n",
       "281  Kennedy Unlimited Inc, Professional Staffing  $100,000 - $130,000 a year  \n",
       "290                                 AZ Appraising           $10 - $15 an hour  \n",
       "293                     The University of Arizona    $39,173 - $54,944 a year  \n",
       "295                     The University of Arizona    $60,000 - $80,000 a year  \n",
       "307                                   Enodo Score    $70,000 - $90,000 a year  \n",
       "309                             Huxley Associates             $100,000 a year  \n",
       "317                            Jobspring Partners  $120,000 - $140,000 a year  \n",
       "332                                         Modis          $85 - $110 an hour  \n",
       "333                         Workbridge Associates           $45 - $80 an hour  \n",
       "337                                Liberty Mutual   $73,300 - $114,900 a year  \n",
       "341                       Pathfinder Search Group           $50 - $70 an hour  \n",
       "362                         Workbridge Associates             $125,000 a year  \n",
       "369                            Jobspring Partners           $60 - $70 an hour  \n",
       "370                            Jobspring Partners  $120,000 - $150,000 a year  \n",
       "371                           The LaSalle Network              $80,000 a year  \n",
       "386                            Jobspring Partners             $180,000 a year  "
      ]
     },
     "execution_count": 383,
     "metadata": {},
     "output_type": "execute_result"
    }
   ],
   "source": [
    "just_salaried.head(35)"
   ]
  },
  {
   "cell_type": "code",
   "execution_count": 385,
   "metadata": {
    "collapsed": false
   },
   "outputs": [],
   "source": [
    "yearly = just_salaried[just_salaried.salary.str.contains('year')]"
   ]
  },
  {
   "cell_type": "code",
   "execution_count": 387,
   "metadata": {
    "collapsed": false
   },
   "outputs": [
    {
     "name": "stderr",
     "output_type": "stream",
     "text": [
      "/Users/brookeneubauer/anaconda/lib/python2.7/site-packages/ipykernel/__main__.py:1: SettingWithCopyWarning: \n",
      "A value is trying to be set on a copy of a slice from a DataFrame.\n",
      "Try using .loc[row_indexer,col_indexer] = value instead\n",
      "\n",
      "See the caveats in the documentation: http://pandas.pydata.org/pandas-docs/stable/indexing.html#indexing-view-versus-copy\n",
      "  if __name__ == '__main__':\n"
     ]
    }
   ],
   "source": [
    "yearly['salary_split'] = yearly['salary'].str.split('-')"
   ]
  },
  {
   "cell_type": "code",
   "execution_count": 394,
   "metadata": {
    "collapsed": true
   },
   "outputs": [
    {
     "name": "stderr",
     "output_type": "stream",
     "text": [
      "/Users/brookeneubauer/anaconda/lib/python2.7/site-packages/ipykernel/__main__.py:1: SettingWithCopyWarning: \n",
      "A value is trying to be set on a copy of a slice from a DataFrame.\n",
      "Try using .loc[row_indexer,col_indexer] = value instead\n",
      "\n",
      "See the caveats in the documentation: http://pandas.pydata.org/pandas-docs/stable/indexing.html#indexing-view-versus-copy\n",
      "  if __name__ == '__main__':\n"
     ]
    }
   ],
   "source": [
    "yearly['lower'] = yearly['salary_split'].str[0]"
   ]
  },
  {
   "cell_type": "code",
   "execution_count": 396,
   "metadata": {
    "collapsed": true
   },
   "outputs": [
    {
     "name": "stderr",
     "output_type": "stream",
     "text": [
      "/Users/brookeneubauer/anaconda/lib/python2.7/site-packages/ipykernel/__main__.py:1: SettingWithCopyWarning: \n",
      "A value is trying to be set on a copy of a slice from a DataFrame.\n",
      "Try using .loc[row_indexer,col_indexer] = value instead\n",
      "\n",
      "See the caveats in the documentation: http://pandas.pydata.org/pandas-docs/stable/indexing.html#indexing-view-versus-copy\n",
      "  if __name__ == '__main__':\n"
     ]
    }
   ],
   "source": [
    "yearly['upper'] = yearly['salary_split'].str[1]"
   ]
  },
  {
   "cell_type": "code",
   "execution_count": 398,
   "metadata": {
    "collapsed": false
   },
   "outputs": [
    {
     "name": "stderr",
     "output_type": "stream",
     "text": [
      "/Users/brookeneubauer/anaconda/lib/python2.7/site-packages/pandas/core/generic.py:3554: SettingWithCopyWarning: \n",
      "A value is trying to be set on a copy of a slice from a DataFrame\n",
      "\n",
      "See the caveats in the documentation: http://pandas.pydata.org/pandas-docs/stable/indexing.html#indexing-view-versus-copy\n",
      "  self._update_inplace(new_data)\n"
     ]
    }
   ],
   "source": [
    "yearly.lower.replace(regex=True, inplace=True, to_replace=\"a year\", value=\"\") # replace a year"
   ]
  },
  {
   "cell_type": "code",
   "execution_count": 399,
   "metadata": {
    "collapsed": true
   },
   "outputs": [],
   "source": [
    "yearly.upper.replace(regex=True, inplace=True, to_replace=\"a year\", value=\"\")"
   ]
  },
  {
   "cell_type": "code",
   "execution_count": 401,
   "metadata": {
    "collapsed": false
   },
   "outputs": [
    {
     "name": "stderr",
     "output_type": "stream",
     "text": [
      "/Users/brookeneubauer/anaconda/lib/python2.7/site-packages/ipykernel/__main__.py:1: SettingWithCopyWarning: \n",
      "A value is trying to be set on a copy of a slice from a DataFrame.\n",
      "Try using .loc[row_indexer,col_indexer] = value instead\n",
      "\n",
      "See the caveats in the documentation: http://pandas.pydata.org/pandas-docs/stable/indexing.html#indexing-view-versus-copy\n",
      "  if __name__ == '__main__':\n"
     ]
    }
   ],
   "source": [
    "yearly['lower'] = yearly.lower.str.replace('[\\$,]', '').astype(float)"
   ]
  },
  {
   "cell_type": "code",
   "execution_count": 402,
   "metadata": {
    "collapsed": false
   },
   "outputs": [
    {
     "name": "stderr",
     "output_type": "stream",
     "text": [
      "/Users/brookeneubauer/anaconda/lib/python2.7/site-packages/ipykernel/__main__.py:1: SettingWithCopyWarning: \n",
      "A value is trying to be set on a copy of a slice from a DataFrame.\n",
      "Try using .loc[row_indexer,col_indexer] = value instead\n",
      "\n",
      "See the caveats in the documentation: http://pandas.pydata.org/pandas-docs/stable/indexing.html#indexing-view-versus-copy\n",
      "  if __name__ == '__main__':\n"
     ]
    }
   ],
   "source": [
    "yearly['upper'] = yearly.upper.str.replace('[\\$,]', '').astype(float)"
   ]
  },
  {
   "cell_type": "code",
   "execution_count": 411,
   "metadata": {
    "collapsed": true
   },
   "outputs": [
    {
     "data": {
      "text/html": [
       "<div>\n",
       "<table border=\"1\" class=\"dataframe\">\n",
       "  <thead>\n",
       "    <tr style=\"text-align: right;\">\n",
       "      <th></th>\n",
       "      <th>title</th>\n",
       "      <th>location</th>\n",
       "      <th>company</th>\n",
       "      <th>salary</th>\n",
       "      <th>salary_split</th>\n",
       "      <th>lower</th>\n",
       "      <th>upper</th>\n",
       "      <th>median</th>\n",
       "    </tr>\n",
       "  </thead>\n",
       "  <tbody>\n",
       "    <tr>\n",
       "      <th>3</th>\n",
       "      <td>Data Scientist</td>\n",
       "      <td>Houston, TX</td>\n",
       "      <td>Platinum Solutions</td>\n",
       "      <td>$80,000 - $120,000 a year</td>\n",
       "      <td>[$80,000 ,  $120,000 a year]</td>\n",
       "      <td>80000.0</td>\n",
       "      <td>120000.0</td>\n",
       "      <td>207305.953846</td>\n",
       "    </tr>\n",
       "    <tr>\n",
       "      <th>27</th>\n",
       "      <td>Bioinformatics Software Developer</td>\n",
       "      <td>Houston, TX</td>\n",
       "      <td>Genialis</td>\n",
       "      <td>$50,000 - $80,000 a year</td>\n",
       "      <td>[$50,000 ,  $80,000 a year]</td>\n",
       "      <td>50000.0</td>\n",
       "      <td>80000.0</td>\n",
       "      <td>207305.953846</td>\n",
       "    </tr>\n",
       "    <tr>\n",
       "      <th>37</th>\n",
       "      <td>Quality Assurance Analyst (Research)</td>\n",
       "      <td>Houston, TX</td>\n",
       "      <td>Baylor College of Medicine</td>\n",
       "      <td>$43,794 a year</td>\n",
       "      <td>[$43,794 a year]</td>\n",
       "      <td>43794.0</td>\n",
       "      <td>0.0</td>\n",
       "      <td>207305.953846</td>\n",
       "    </tr>\n",
       "    <tr>\n",
       "      <th>40</th>\n",
       "      <td>Sr Data Scientist (Hadoop) - Duluth, Georgia</td>\n",
       "      <td>Houston, TX</td>\n",
       "      <td>Horn Solutions, Inc.</td>\n",
       "      <td>$105,000 a year</td>\n",
       "      <td>[$105,000 a year]</td>\n",
       "      <td>105000.0</td>\n",
       "      <td>0.0</td>\n",
       "      <td>207305.953846</td>\n",
       "    </tr>\n",
       "    <tr>\n",
       "      <th>54</th>\n",
       "      <td>Flow Cytometry Specialist I</td>\n",
       "      <td>Houston, TX</td>\n",
       "      <td>Baylor College of Medicine</td>\n",
       "      <td>$46,831 a year</td>\n",
       "      <td>[$46,831 a year]</td>\n",
       "      <td>46831.0</td>\n",
       "      <td>0.0</td>\n",
       "      <td>207305.953846</td>\n",
       "    </tr>\n",
       "    <tr>\n",
       "      <th>67</th>\n",
       "      <td>Research Scientist</td>\n",
       "      <td>Houston, TX</td>\n",
       "      <td>Rice University</td>\n",
       "      <td>$40,800 - $79,100 a year</td>\n",
       "      <td>[$40,800 ,  $79,100 a year]</td>\n",
       "      <td>40800.0</td>\n",
       "      <td>79100.0</td>\n",
       "      <td>207305.953846</td>\n",
       "    </tr>\n",
       "    <tr>\n",
       "      <th>86</th>\n",
       "      <td>Research Statistical Analyst -Bioinformatics &amp;...</td>\n",
       "      <td>Houston, TX</td>\n",
       "      <td>MD Anderson Cancer Center</td>\n",
       "      <td>$66,400 - $99,600 a year</td>\n",
       "      <td>[$66,400 ,  $99,600 a year]</td>\n",
       "      <td>66400.0</td>\n",
       "      <td>99600.0</td>\n",
       "      <td>207305.953846</td>\n",
       "    </tr>\n",
       "    <tr>\n",
       "      <th>157</th>\n",
       "      <td>Data Architect</td>\n",
       "      <td>Phoenix, AZ</td>\n",
       "      <td>Career Evolutions</td>\n",
       "      <td>$150,000 a year</td>\n",
       "      <td>[$150,000 a year]</td>\n",
       "      <td>150000.0</td>\n",
       "      <td>0.0</td>\n",
       "      <td>207305.953846</td>\n",
       "    </tr>\n",
       "    <tr>\n",
       "      <th>192</th>\n",
       "      <td>RESEARCH AND STATISTICAL ANALYST</td>\n",
       "      <td>Phoenix, AZ</td>\n",
       "      <td>Arizona Health Care Cost Containment System</td>\n",
       "      <td>$39,983 - $55,500 a year</td>\n",
       "      <td>[$39,983 ,  $55,500 a year]</td>\n",
       "      <td>39983.0</td>\n",
       "      <td>55500.0</td>\n",
       "      <td>207305.953846</td>\n",
       "    </tr>\n",
       "    <tr>\n",
       "      <th>215</th>\n",
       "      <td>AIR QUALITY PLANNER 2-3</td>\n",
       "      <td>Phoenix, AZ</td>\n",
       "      <td>State of Arizona</td>\n",
       "      <td>$45,000 - $77,000 a year</td>\n",
       "      <td>[$45,000 ,  $77,000 a year]</td>\n",
       "      <td>45000.0</td>\n",
       "      <td>77000.0</td>\n",
       "      <td>207305.953846</td>\n",
       "    </tr>\n",
       "    <tr>\n",
       "      <th>222</th>\n",
       "      <td>Budget &amp; Research Analyst</td>\n",
       "      <td>Goodyear, AZ</td>\n",
       "      <td>City of Goodyear, AZ</td>\n",
       "      <td>$63,696 - $94,557 a year</td>\n",
       "      <td>[$63,696 ,  $94,557 a year]</td>\n",
       "      <td>63696.0</td>\n",
       "      <td>94557.0</td>\n",
       "      <td>207305.953846</td>\n",
       "    </tr>\n",
       "    <tr>\n",
       "      <th>230</th>\n",
       "      <td>Paralegal</td>\n",
       "      <td>Gilbert, AZ 85295</td>\n",
       "      <td>Emord &amp; Associates, P.C.</td>\n",
       "      <td>$45,000 - $55,000 a year</td>\n",
       "      <td>[$45,000 ,  $55,000 a year]</td>\n",
       "      <td>45000.0</td>\n",
       "      <td>55000.0</td>\n",
       "      <td>207305.953846</td>\n",
       "    </tr>\n",
       "    <tr>\n",
       "      <th>245</th>\n",
       "      <td>ENVIRONMENTAL SCIENTIST - EMISSIONS</td>\n",
       "      <td>Phoenix, AZ</td>\n",
       "      <td>State of Arizona</td>\n",
       "      <td>$49,000 - $61,000 a year</td>\n",
       "      <td>[$49,000 ,  $61,000 a year]</td>\n",
       "      <td>49000.0</td>\n",
       "      <td>61000.0</td>\n",
       "      <td>207305.953846</td>\n",
       "    </tr>\n",
       "    <tr>\n",
       "      <th>247</th>\n",
       "      <td>Web Security Research Analyst</td>\n",
       "      <td>Scottsdale, AZ</td>\n",
       "      <td>SiteLock</td>\n",
       "      <td>$50,000 - $55,000 a year</td>\n",
       "      <td>[$50,000 ,  $55,000 a year]</td>\n",
       "      <td>50000.0</td>\n",
       "      <td>55000.0</td>\n",
       "      <td>207305.953846</td>\n",
       "    </tr>\n",
       "    <tr>\n",
       "      <th>249</th>\n",
       "      <td>COMPLIANCE OFFICER - HAZ WASTE</td>\n",
       "      <td>Phoenix, AZ</td>\n",
       "      <td>State of Arizona</td>\n",
       "      <td>$50,000 - $61,500 a year</td>\n",
       "      <td>[$50,000 ,  $61,500 a year]</td>\n",
       "      <td>50000.0</td>\n",
       "      <td>61500.0</td>\n",
       "      <td>207305.953846</td>\n",
       "    </tr>\n",
       "    <tr>\n",
       "      <th>274</th>\n",
       "      <td>RESEARCH &amp; STATISTICS ANALYST</td>\n",
       "      <td>Phoenix, AZ</td>\n",
       "      <td>State of Arizona</td>\n",
       "      <td>$30,000 - $45,000 a year</td>\n",
       "      <td>[$30,000 ,  $45,000 a year]</td>\n",
       "      <td>30000.0</td>\n",
       "      <td>45000.0</td>\n",
       "      <td>207305.953846</td>\n",
       "    </tr>\n",
       "    <tr>\n",
       "      <th>278</th>\n",
       "      <td>ENVIRONMENTAL TECHNICIAN</td>\n",
       "      <td>Phoenix, AZ</td>\n",
       "      <td>State of Arizona</td>\n",
       "      <td>$33,000 - $42,000 a year</td>\n",
       "      <td>[$33,000 ,  $42,000 a year]</td>\n",
       "      <td>33000.0</td>\n",
       "      <td>42000.0</td>\n",
       "      <td>207305.953846</td>\n",
       "    </tr>\n",
       "    <tr>\n",
       "      <th>281</th>\n",
       "      <td>Digital Marketing (Data Scientist)</td>\n",
       "      <td>Phoenix, AZ</td>\n",
       "      <td>Kennedy Unlimited Inc, Professional Staffing</td>\n",
       "      <td>$100,000 - $130,000 a year</td>\n",
       "      <td>[$100,000 ,  $130,000 a year]</td>\n",
       "      <td>100000.0</td>\n",
       "      <td>130000.0</td>\n",
       "      <td>207305.953846</td>\n",
       "    </tr>\n",
       "    <tr>\n",
       "      <th>293</th>\n",
       "      <td>Information Technology Support Analyst, Senior...</td>\n",
       "      <td>Phoenix, AZ</td>\n",
       "      <td>The University of Arizona</td>\n",
       "      <td>$39,173 - $54,944 a year</td>\n",
       "      <td>[$39,173 ,  $54,944 a year]</td>\n",
       "      <td>39173.0</td>\n",
       "      <td>54944.0</td>\n",
       "      <td>207305.953846</td>\n",
       "    </tr>\n",
       "    <tr>\n",
       "      <th>295</th>\n",
       "      <td>Clinical/Research Nurse, OB/GYN (Phoenix, AZ)</td>\n",
       "      <td>Phoenix, AZ</td>\n",
       "      <td>The University of Arizona</td>\n",
       "      <td>$60,000 - $80,000 a year</td>\n",
       "      <td>[$60,000 ,  $80,000 a year]</td>\n",
       "      <td>60000.0</td>\n",
       "      <td>80000.0</td>\n",
       "      <td>207305.953846</td>\n",
       "    </tr>\n",
       "    <tr>\n",
       "      <th>307</th>\n",
       "      <td>Data Engineer</td>\n",
       "      <td>Chicago, IL</td>\n",
       "      <td>Enodo Score</td>\n",
       "      <td>$70,000 - $90,000 a year</td>\n",
       "      <td>[$70,000 ,  $90,000 a year]</td>\n",
       "      <td>70000.0</td>\n",
       "      <td>90000.0</td>\n",
       "      <td>207305.953846</td>\n",
       "    </tr>\n",
       "    <tr>\n",
       "      <th>309</th>\n",
       "      <td>Data Scientist</td>\n",
       "      <td>Chicago, IL</td>\n",
       "      <td>Huxley Associates</td>\n",
       "      <td>$100,000 a year</td>\n",
       "      <td>[$100,000 a year]</td>\n",
       "      <td>100000.0</td>\n",
       "      <td>0.0</td>\n",
       "      <td>207305.953846</td>\n",
       "    </tr>\n",
       "    <tr>\n",
       "      <th>317</th>\n",
       "      <td>Data Scientist</td>\n",
       "      <td>Chicago, IL</td>\n",
       "      <td>Jobspring Partners</td>\n",
       "      <td>$120,000 - $140,000 a year</td>\n",
       "      <td>[$120,000 ,  $140,000 a year]</td>\n",
       "      <td>120000.0</td>\n",
       "      <td>140000.0</td>\n",
       "      <td>207305.953846</td>\n",
       "    </tr>\n",
       "    <tr>\n",
       "      <th>337</th>\n",
       "      <td>Analyst/Senior Analyst, Advanced Analytics</td>\n",
       "      <td>Chicago, IL</td>\n",
       "      <td>Liberty Mutual</td>\n",
       "      <td>$73,300 - $114,900 a year</td>\n",
       "      <td>[$73,300 ,  $114,900 a year]</td>\n",
       "      <td>73300.0</td>\n",
       "      <td>114900.0</td>\n",
       "      <td>207305.953846</td>\n",
       "    </tr>\n",
       "    <tr>\n",
       "      <th>362</th>\n",
       "      <td>Data Scientist</td>\n",
       "      <td>Chicago, IL</td>\n",
       "      <td>Workbridge Associates</td>\n",
       "      <td>$125,000 a year</td>\n",
       "      <td>[$125,000 a year]</td>\n",
       "      <td>125000.0</td>\n",
       "      <td>0.0</td>\n",
       "      <td>207305.953846</td>\n",
       "    </tr>\n",
       "    <tr>\n",
       "      <th>370</th>\n",
       "      <td>Machine Learning Engineer</td>\n",
       "      <td>Chicago, IL</td>\n",
       "      <td>Jobspring Partners</td>\n",
       "      <td>$120,000 - $150,000 a year</td>\n",
       "      <td>[$120,000 ,  $150,000 a year]</td>\n",
       "      <td>120000.0</td>\n",
       "      <td>150000.0</td>\n",
       "      <td>207305.953846</td>\n",
       "    </tr>\n",
       "    <tr>\n",
       "      <th>371</th>\n",
       "      <td>Statistical Analyst</td>\n",
       "      <td>Chicago, IL 60601 (Loop area)</td>\n",
       "      <td>The LaSalle Network</td>\n",
       "      <td>$80,000 a year</td>\n",
       "      <td>[$80,000 a year]</td>\n",
       "      <td>80000.0</td>\n",
       "      <td>0.0</td>\n",
       "      <td>207305.953846</td>\n",
       "    </tr>\n",
       "    <tr>\n",
       "      <th>386</th>\n",
       "      <td>Principal Data Lead (Machine Learning)</td>\n",
       "      <td>Chicago, IL 60604 (Loop area)</td>\n",
       "      <td>Jobspring Partners</td>\n",
       "      <td>$180,000 a year</td>\n",
       "      <td>[$180,000 a year]</td>\n",
       "      <td>180000.0</td>\n",
       "      <td>0.0</td>\n",
       "      <td>207305.953846</td>\n",
       "    </tr>\n",
       "    <tr>\n",
       "      <th>408</th>\n",
       "      <td>Lead Data Scientist (Tableau, RShiny, D3)</td>\n",
       "      <td>Chicago, IL</td>\n",
       "      <td>Workbridge Associates</td>\n",
       "      <td>$130,000 a year</td>\n",
       "      <td>[$130,000 a year]</td>\n",
       "      <td>130000.0</td>\n",
       "      <td>0.0</td>\n",
       "      <td>207305.953846</td>\n",
       "    </tr>\n",
       "    <tr>\n",
       "      <th>424</th>\n",
       "      <td>Principal Data Scientist</td>\n",
       "      <td>Chicago, IL 60610 (Near North Side area)</td>\n",
       "      <td>Jobspring Partners</td>\n",
       "      <td>$160,000 a year</td>\n",
       "      <td>[$160,000 a year]</td>\n",
       "      <td>160000.0</td>\n",
       "      <td>0.0</td>\n",
       "      <td>207305.953846</td>\n",
       "    </tr>\n",
       "    <tr>\n",
       "      <th>...</th>\n",
       "      <td>...</td>\n",
       "      <td>...</td>\n",
       "      <td>...</td>\n",
       "      <td>...</td>\n",
       "      <td>...</td>\n",
       "      <td>...</td>\n",
       "      <td>...</td>\n",
       "      <td>...</td>\n",
       "    </tr>\n",
       "    <tr>\n",
       "      <th>58133</th>\n",
       "      <td>Data Scientist</td>\n",
       "      <td>Washington, DC</td>\n",
       "      <td>Gunther Douglas, Inc.</td>\n",
       "      <td>$110,000 - $140,000 a year</td>\n",
       "      <td>[$110,000 ,  $140,000 a year]</td>\n",
       "      <td>110000.0</td>\n",
       "      <td>140000.0</td>\n",
       "      <td>207305.953846</td>\n",
       "    </tr>\n",
       "    <tr>\n",
       "      <th>58198</th>\n",
       "      <td>Machine Learning Data Engineer</td>\n",
       "      <td>Washington, DC</td>\n",
       "      <td>Jobspring Partners</td>\n",
       "      <td>$100,000 - $150,000 a year</td>\n",
       "      <td>[$100,000 ,  $150,000 a year]</td>\n",
       "      <td>100000.0</td>\n",
       "      <td>150000.0</td>\n",
       "      <td>207305.953846</td>\n",
       "    </tr>\n",
       "    <tr>\n",
       "      <th>58229</th>\n",
       "      <td>Criminal Patronage Network (CPN) Research Anal...</td>\n",
       "      <td>Reston, VA</td>\n",
       "      <td>Quiet Professionals LLC</td>\n",
       "      <td>$180,000 a year</td>\n",
       "      <td>[$180,000 a year]</td>\n",
       "      <td>180000.0</td>\n",
       "      <td>0.0</td>\n",
       "      <td>207305.953846</td>\n",
       "    </tr>\n",
       "    <tr>\n",
       "      <th>58289</th>\n",
       "      <td>Business Development/ Market Research Analyst</td>\n",
       "      <td>Alexandria, VA 22314 (Southwest Quadrant area)</td>\n",
       "      <td>Eyebrow Express</td>\n",
       "      <td>$43,200 a year</td>\n",
       "      <td>[$43,200 a year]</td>\n",
       "      <td>43200.0</td>\n",
       "      <td>0.0</td>\n",
       "      <td>207305.953846</td>\n",
       "    </tr>\n",
       "    <tr>\n",
       "      <th>58303</th>\n",
       "      <td>Afghan Ministry of Defense (MoD) Research Anal...</td>\n",
       "      <td>Reston, VA</td>\n",
       "      <td>Quiet Professionals LLC</td>\n",
       "      <td>$180,000 - $220,000 a year</td>\n",
       "      <td>[$180,000 ,  $220,000 a year]</td>\n",
       "      <td>180000.0</td>\n",
       "      <td>220000.0</td>\n",
       "      <td>207305.953846</td>\n",
       "    </tr>\n",
       "    <tr>\n",
       "      <th>58370</th>\n",
       "      <td>Front End Developer</td>\n",
       "      <td>Silver Spring, MD</td>\n",
       "      <td>FlashX</td>\n",
       "      <td>$75,000 - $105,000 a year</td>\n",
       "      <td>[$75,000 ,  $105,000 a year]</td>\n",
       "      <td>75000.0</td>\n",
       "      <td>105000.0</td>\n",
       "      <td>207305.953846</td>\n",
       "    </tr>\n",
       "    <tr>\n",
       "      <th>58389</th>\n",
       "      <td>Post-Doctoral Scientist</td>\n",
       "      <td>College Park, MD</td>\n",
       "      <td>University of Maryland</td>\n",
       "      <td>$40,000 - $45,000 a year</td>\n",
       "      <td>[$40,000 ,  $45,000 a year]</td>\n",
       "      <td>40000.0</td>\n",
       "      <td>45000.0</td>\n",
       "      <td>207305.953846</td>\n",
       "    </tr>\n",
       "    <tr>\n",
       "      <th>58738</th>\n",
       "      <td>Apps Developer</td>\n",
       "      <td>Washington, DC</td>\n",
       "      <td>Central Intelligence Agency</td>\n",
       "      <td>$58,638 - $123,234 a year</td>\n",
       "      <td>[$58,638 ,  $123,234 a year]</td>\n",
       "      <td>58638.0</td>\n",
       "      <td>123234.0</td>\n",
       "      <td>207305.953846</td>\n",
       "    </tr>\n",
       "    <tr>\n",
       "      <th>58806</th>\n",
       "      <td>Senior Software Engineer (Data Engineer, IoT)</td>\n",
       "      <td>Washington, DC</td>\n",
       "      <td>Jobspring Partners</td>\n",
       "      <td>$110,000 - $160,000 a year</td>\n",
       "      <td>[$110,000 ,  $160,000 a year]</td>\n",
       "      <td>110000.0</td>\n",
       "      <td>160000.0</td>\n",
       "      <td>207305.953846</td>\n",
       "    </tr>\n",
       "    <tr>\n",
       "      <th>58841</th>\n",
       "      <td>Research Associate Level I (Process Developmen...</td>\n",
       "      <td>Rockville, MD</td>\n",
       "      <td>ProMetic BioTherapeutics, Inc. (PBT)</td>\n",
       "      <td>$46,000 a year</td>\n",
       "      <td>[$46,000 a year]</td>\n",
       "      <td>46000.0</td>\n",
       "      <td>0.0</td>\n",
       "      <td>207305.953846</td>\n",
       "    </tr>\n",
       "    <tr>\n",
       "      <th>58900</th>\n",
       "      <td>Machine Learning Data Engineer (Manager)</td>\n",
       "      <td>Washington, DC</td>\n",
       "      <td>Jobspring Partners</td>\n",
       "      <td>$120,000 - $160,000 a year</td>\n",
       "      <td>[$120,000 ,  $160,000 a year]</td>\n",
       "      <td>120000.0</td>\n",
       "      <td>160000.0</td>\n",
       "      <td>207305.953846</td>\n",
       "    </tr>\n",
       "    <tr>\n",
       "      <th>58957</th>\n",
       "      <td>Research Analyst - Law Firm</td>\n",
       "      <td>Washington, DC</td>\n",
       "      <td>Fawkes IDM</td>\n",
       "      <td>$70,000 - $80,000 a year</td>\n",
       "      <td>[$70,000 ,  $80,000 a year]</td>\n",
       "      <td>70000.0</td>\n",
       "      <td>80000.0</td>\n",
       "      <td>207305.953846</td>\n",
       "    </tr>\n",
       "    <tr>\n",
       "      <th>59149</th>\n",
       "      <td>Front End Engineer</td>\n",
       "      <td>Arlington, VA 22201 (Lyon Village area)</td>\n",
       "      <td>Workbridge Associates</td>\n",
       "      <td>$140,000 a year</td>\n",
       "      <td>[$140,000 a year]</td>\n",
       "      <td>140000.0</td>\n",
       "      <td>0.0</td>\n",
       "      <td>207305.953846</td>\n",
       "    </tr>\n",
       "    <tr>\n",
       "      <th>59364</th>\n",
       "      <td>Senior Credit Risk Transfer Research Analyst</td>\n",
       "      <td>Alexandria, VA</td>\n",
       "      <td>KVR Consultant</td>\n",
       "      <td>$135,000 a year</td>\n",
       "      <td>[$135,000 a year]</td>\n",
       "      <td>135000.0</td>\n",
       "      <td>0.0</td>\n",
       "      <td>207305.953846</td>\n",
       "    </tr>\n",
       "    <tr>\n",
       "      <th>59428</th>\n",
       "      <td>OPIR Scientist - Laser Specialist 1</td>\n",
       "      <td>Alexandria, VA</td>\n",
       "      <td>TULKORP.</td>\n",
       "      <td>$97,000 a year</td>\n",
       "      <td>[$97,000 a year]</td>\n",
       "      <td>97000.0</td>\n",
       "      <td>0.0</td>\n",
       "      <td>207305.953846</td>\n",
       "    </tr>\n",
       "    <tr>\n",
       "      <th>59434</th>\n",
       "      <td>Principal Environmental Engineer</td>\n",
       "      <td>Laurel, MD 20707</td>\n",
       "      <td>WSSC</td>\n",
       "      <td>$74,399 - $113,574 a year</td>\n",
       "      <td>[$74,399 ,  $113,574 a year]</td>\n",
       "      <td>74399.0</td>\n",
       "      <td>113574.0</td>\n",
       "      <td>207305.953846</td>\n",
       "    </tr>\n",
       "    <tr>\n",
       "      <th>59503</th>\n",
       "      <td>Data Scientist:Veteran+Military Only</td>\n",
       "      <td>McLean, VA</td>\n",
       "      <td>Veteran Staffing Network of Easter Seals</td>\n",
       "      <td>$150,000 a year</td>\n",
       "      <td>[$150,000 a year]</td>\n",
       "      <td>150000.0</td>\n",
       "      <td>0.0</td>\n",
       "      <td>207305.953846</td>\n",
       "    </tr>\n",
       "    <tr>\n",
       "      <th>59559</th>\n",
       "      <td>Research Assistant</td>\n",
       "      <td>Gaithersburg, MD 20879</td>\n",
       "      <td>Sirnaomics,Inc</td>\n",
       "      <td>$28,000 - $35,000 a year</td>\n",
       "      <td>[$28,000 ,  $35,000 a year]</td>\n",
       "      <td>28000.0</td>\n",
       "      <td>35000.0</td>\n",
       "      <td>207305.953846</td>\n",
       "    </tr>\n",
       "    <tr>\n",
       "      <th>59571</th>\n",
       "      <td>JAVA Software Developer</td>\n",
       "      <td>Greenbelt, MD</td>\n",
       "      <td>Information Technology Coalition, Inc.</td>\n",
       "      <td>$85,000 a year</td>\n",
       "      <td>[$85,000 a year]</td>\n",
       "      <td>85000.0</td>\n",
       "      <td>0.0</td>\n",
       "      <td>207305.953846</td>\n",
       "    </tr>\n",
       "    <tr>\n",
       "      <th>59578</th>\n",
       "      <td>SVP Big Data and Analytics</td>\n",
       "      <td>Washington, DC</td>\n",
       "      <td>Harnham</td>\n",
       "      <td>$250,000 a year</td>\n",
       "      <td>[$250,000 a year]</td>\n",
       "      <td>250000.0</td>\n",
       "      <td>0.0</td>\n",
       "      <td>207305.953846</td>\n",
       "    </tr>\n",
       "    <tr>\n",
       "      <th>59579</th>\n",
       "      <td>VP of Advanced Analytics</td>\n",
       "      <td>Washington, DC</td>\n",
       "      <td>Harnham</td>\n",
       "      <td>$250,000 a year</td>\n",
       "      <td>[$250,000 a year]</td>\n",
       "      <td>250000.0</td>\n",
       "      <td>0.0</td>\n",
       "      <td>207305.953846</td>\n",
       "    </tr>\n",
       "    <tr>\n",
       "      <th>59586</th>\n",
       "      <td>Data Architect</td>\n",
       "      <td>Falls Church, VA</td>\n",
       "      <td>TEKSystems</td>\n",
       "      <td>$100,000 - $140,000 a year</td>\n",
       "      <td>[$100,000 ,  $140,000 a year]</td>\n",
       "      <td>100000.0</td>\n",
       "      <td>140000.0</td>\n",
       "      <td>207305.953846</td>\n",
       "    </tr>\n",
       "    <tr>\n",
       "      <th>61492</th>\n",
       "      <td>Data Scientist - Healthcare</td>\n",
       "      <td>Atlanta, GA</td>\n",
       "      <td>Harnham</td>\n",
       "      <td>$170,000 a year</td>\n",
       "      <td>[$170,000 a year]</td>\n",
       "      <td>170000.0</td>\n",
       "      <td>0.0</td>\n",
       "      <td>207305.953846</td>\n",
       "    </tr>\n",
       "    <tr>\n",
       "      <th>64333</th>\n",
       "      <td>Predoctoral Research Fellow</td>\n",
       "      <td>Seattle, WA 98101 (Downtown area)</td>\n",
       "      <td>Seattle Children's Hospital</td>\n",
       "      <td>$36,700 - $55,000 a year</td>\n",
       "      <td>[$36,700 ,  $55,000 a year]</td>\n",
       "      <td>36700.0</td>\n",
       "      <td>55000.0</td>\n",
       "      <td>207305.953846</td>\n",
       "    </tr>\n",
       "    <tr>\n",
       "      <th>64376</th>\n",
       "      <td>Software Development Engineer (Back End) (Loca...</td>\n",
       "      <td>Seattle, WA</td>\n",
       "      <td>Laetus Recruitment</td>\n",
       "      <td>$120,000 - $150,000 a year</td>\n",
       "      <td>[$120,000 ,  $150,000 a year]</td>\n",
       "      <td>120000.0</td>\n",
       "      <td>150000.0</td>\n",
       "      <td>207305.953846</td>\n",
       "    </tr>\n",
       "    <tr>\n",
       "      <th>64528</th>\n",
       "      <td>Certifying Scientist</td>\n",
       "      <td>Seattle, WA</td>\n",
       "      <td>Lighthouse Recruiting</td>\n",
       "      <td>$65,000 - $80,000 a year</td>\n",
       "      <td>[$65,000 ,  $80,000 a year]</td>\n",
       "      <td>65000.0</td>\n",
       "      <td>80000.0</td>\n",
       "      <td>207305.953846</td>\n",
       "    </tr>\n",
       "    <tr>\n",
       "      <th>64770</th>\n",
       "      <td>Variant Scientist (Remote)</td>\n",
       "      <td>Seattle, WA</td>\n",
       "      <td>Lighthouse Recruiting</td>\n",
       "      <td>$90,000 - $100,000 a year</td>\n",
       "      <td>[$90,000 ,  $100,000 a year]</td>\n",
       "      <td>90000.0</td>\n",
       "      <td>100000.0</td>\n",
       "      <td>207305.953846</td>\n",
       "    </tr>\n",
       "    <tr>\n",
       "      <th>69996</th>\n",
       "      <td>Associate Director for Clinical Research</td>\n",
       "      <td>Portland, OR</td>\n",
       "      <td>Oregon Health &amp; Science University</td>\n",
       "      <td>$250,000 - $300,000 a year</td>\n",
       "      <td>[$250,000 ,  $300,000 a year]</td>\n",
       "      <td>250000.0</td>\n",
       "      <td>300000.0</td>\n",
       "      <td>207305.953846</td>\n",
       "    </tr>\n",
       "    <tr>\n",
       "      <th>69999</th>\n",
       "      <td>Postdoctoral Researcher</td>\n",
       "      <td>Portland, OR</td>\n",
       "      <td>Oregon Health &amp; Science University</td>\n",
       "      <td>$45,000 a year</td>\n",
       "      <td>[$45,000 a year]</td>\n",
       "      <td>45000.0</td>\n",
       "      <td>0.0</td>\n",
       "      <td>207305.953846</td>\n",
       "    </tr>\n",
       "    <tr>\n",
       "      <th>70073</th>\n",
       "      <td>Research/Evaluation Analyst 1 (Medical Monitor...</td>\n",
       "      <td>Portland, OR</td>\n",
       "      <td>Multnomah County, OR</td>\n",
       "      <td>$43,744 - $53,808 a year</td>\n",
       "      <td>[$43,744 ,  $53,808 a year]</td>\n",
       "      <td>43744.0</td>\n",
       "      <td>53808.0</td>\n",
       "      <td>207305.953846</td>\n",
       "    </tr>\n",
       "  </tbody>\n",
       "</table>\n",
       "<p>318 rows × 8 columns</p>\n",
       "</div>"
      ],
      "text/plain": [
       "                                                   title  \\\n",
       "3                                         Data Scientist   \n",
       "27                     Bioinformatics Software Developer   \n",
       "37                  Quality Assurance Analyst (Research)   \n",
       "40          Sr Data Scientist (Hadoop) - Duluth, Georgia   \n",
       "54                           Flow Cytometry Specialist I   \n",
       "67                                    Research Scientist   \n",
       "86     Research Statistical Analyst -Bioinformatics &...   \n",
       "157                                       Data Architect   \n",
       "192                     RESEARCH AND STATISTICAL ANALYST   \n",
       "215                              AIR QUALITY PLANNER 2-3   \n",
       "222                            Budget & Research Analyst   \n",
       "230                                            Paralegal   \n",
       "245                  ENVIRONMENTAL SCIENTIST - EMISSIONS   \n",
       "247                        Web Security Research Analyst   \n",
       "249                       COMPLIANCE OFFICER - HAZ WASTE   \n",
       "274                        RESEARCH & STATISTICS ANALYST   \n",
       "278                             ENVIRONMENTAL TECHNICIAN   \n",
       "281                   Digital Marketing (Data Scientist)   \n",
       "293    Information Technology Support Analyst, Senior...   \n",
       "295        Clinical/Research Nurse, OB/GYN (Phoenix, AZ)   \n",
       "307                                        Data Engineer   \n",
       "309                                       Data Scientist   \n",
       "317                                       Data Scientist   \n",
       "337           Analyst/Senior Analyst, Advanced Analytics   \n",
       "362                                       Data Scientist   \n",
       "370                            Machine Learning Engineer   \n",
       "371                                  Statistical Analyst   \n",
       "386               Principal Data Lead (Machine Learning)   \n",
       "408            Lead Data Scientist (Tableau, RShiny, D3)   \n",
       "424                             Principal Data Scientist   \n",
       "...                                                  ...   \n",
       "58133                                     Data Scientist   \n",
       "58198                     Machine Learning Data Engineer   \n",
       "58229  Criminal Patronage Network (CPN) Research Anal...   \n",
       "58289      Business Development/ Market Research Analyst   \n",
       "58303  Afghan Ministry of Defense (MoD) Research Anal...   \n",
       "58370                                Front End Developer   \n",
       "58389                            Post-Doctoral Scientist   \n",
       "58738                                     Apps Developer   \n",
       "58806      Senior Software Engineer (Data Engineer, IoT)   \n",
       "58841  Research Associate Level I (Process Developmen...   \n",
       "58900           Machine Learning Data Engineer (Manager)   \n",
       "58957                        Research Analyst - Law Firm   \n",
       "59149                                 Front End Engineer   \n",
       "59364       Senior Credit Risk Transfer Research Analyst   \n",
       "59428                OPIR Scientist - Laser Specialist 1   \n",
       "59434                   Principal Environmental Engineer   \n",
       "59503               Data Scientist:Veteran+Military Only   \n",
       "59559                                 Research Assistant   \n",
       "59571                            JAVA Software Developer   \n",
       "59578                         SVP Big Data and Analytics   \n",
       "59579                           VP of Advanced Analytics   \n",
       "59586                                     Data Architect   \n",
       "61492                        Data Scientist - Healthcare   \n",
       "64333                        Predoctoral Research Fellow   \n",
       "64376  Software Development Engineer (Back End) (Loca...   \n",
       "64528                               Certifying Scientist   \n",
       "64770                         Variant Scientist (Remote)   \n",
       "69996           Associate Director for Clinical Research   \n",
       "69999                            Postdoctoral Researcher   \n",
       "70073  Research/Evaluation Analyst 1 (Medical Monitor...   \n",
       "\n",
       "                                             location  \\\n",
       "3                                         Houston, TX   \n",
       "27                                        Houston, TX   \n",
       "37                                        Houston, TX   \n",
       "40                                        Houston, TX   \n",
       "54                                        Houston, TX   \n",
       "67                                        Houston, TX   \n",
       "86                                        Houston, TX   \n",
       "157                                       Phoenix, AZ   \n",
       "192                                       Phoenix, AZ   \n",
       "215                                       Phoenix, AZ   \n",
       "222                                      Goodyear, AZ   \n",
       "230                                 Gilbert, AZ 85295   \n",
       "245                                       Phoenix, AZ   \n",
       "247                                    Scottsdale, AZ   \n",
       "249                                       Phoenix, AZ   \n",
       "274                                       Phoenix, AZ   \n",
       "278                                       Phoenix, AZ   \n",
       "281                                       Phoenix, AZ   \n",
       "293                                       Phoenix, AZ   \n",
       "295                                       Phoenix, AZ   \n",
       "307                                       Chicago, IL   \n",
       "309                                       Chicago, IL   \n",
       "317                                       Chicago, IL   \n",
       "337                                       Chicago, IL   \n",
       "362                                       Chicago, IL   \n",
       "370                                       Chicago, IL   \n",
       "371                     Chicago, IL 60601 (Loop area)   \n",
       "386                     Chicago, IL 60604 (Loop area)   \n",
       "408                                       Chicago, IL   \n",
       "424          Chicago, IL 60610 (Near North Side area)   \n",
       "...                                               ...   \n",
       "58133                                  Washington, DC   \n",
       "58198                                  Washington, DC   \n",
       "58229                                      Reston, VA   \n",
       "58289  Alexandria, VA 22314 (Southwest Quadrant area)   \n",
       "58303                                      Reston, VA   \n",
       "58370                               Silver Spring, MD   \n",
       "58389                                College Park, MD   \n",
       "58738                                  Washington, DC   \n",
       "58806                                  Washington, DC   \n",
       "58841                                   Rockville, MD   \n",
       "58900                                  Washington, DC   \n",
       "58957                                  Washington, DC   \n",
       "59149         Arlington, VA 22201 (Lyon Village area)   \n",
       "59364                                  Alexandria, VA   \n",
       "59428                                  Alexandria, VA   \n",
       "59434                                Laurel, MD 20707   \n",
       "59503                                      McLean, VA   \n",
       "59559                          Gaithersburg, MD 20879   \n",
       "59571                                   Greenbelt, MD   \n",
       "59578                                  Washington, DC   \n",
       "59579                                  Washington, DC   \n",
       "59586                                Falls Church, VA   \n",
       "61492                                     Atlanta, GA   \n",
       "64333               Seattle, WA 98101 (Downtown area)   \n",
       "64376                                     Seattle, WA   \n",
       "64528                                     Seattle, WA   \n",
       "64770                                     Seattle, WA   \n",
       "69996                                    Portland, OR   \n",
       "69999                                    Portland, OR   \n",
       "70073                                    Portland, OR   \n",
       "\n",
       "                                            company  \\\n",
       "3                                Platinum Solutions   \n",
       "27                                         Genialis   \n",
       "37                       Baylor College of Medicine   \n",
       "40                             Horn Solutions, Inc.   \n",
       "54                       Baylor College of Medicine   \n",
       "67                                  Rice University   \n",
       "86                        MD Anderson Cancer Center   \n",
       "157                               Career Evolutions   \n",
       "192     Arizona Health Care Cost Containment System   \n",
       "215                                State of Arizona   \n",
       "222                            City of Goodyear, AZ   \n",
       "230                        Emord & Associates, P.C.   \n",
       "245                                State of Arizona   \n",
       "247                                        SiteLock   \n",
       "249                                State of Arizona   \n",
       "274                                State of Arizona   \n",
       "278                                State of Arizona   \n",
       "281    Kennedy Unlimited Inc, Professional Staffing   \n",
       "293                       The University of Arizona   \n",
       "295                       The University of Arizona   \n",
       "307                                     Enodo Score   \n",
       "309                               Huxley Associates   \n",
       "317                              Jobspring Partners   \n",
       "337                                  Liberty Mutual   \n",
       "362                           Workbridge Associates   \n",
       "370                              Jobspring Partners   \n",
       "371                             The LaSalle Network   \n",
       "386                              Jobspring Partners   \n",
       "408                           Workbridge Associates   \n",
       "424                              Jobspring Partners   \n",
       "...                                             ...   \n",
       "58133                         Gunther Douglas, Inc.   \n",
       "58198                            Jobspring Partners   \n",
       "58229                       Quiet Professionals LLC   \n",
       "58289                               Eyebrow Express   \n",
       "58303                       Quiet Professionals LLC   \n",
       "58370                                        FlashX   \n",
       "58389                        University of Maryland   \n",
       "58738                   Central Intelligence Agency   \n",
       "58806                            Jobspring Partners   \n",
       "58841          ProMetic BioTherapeutics, Inc. (PBT)   \n",
       "58900                            Jobspring Partners   \n",
       "58957                                    Fawkes IDM   \n",
       "59149                         Workbridge Associates   \n",
       "59364                                KVR Consultant   \n",
       "59428                                      TULKORP.   \n",
       "59434                                          WSSC   \n",
       "59503      Veteran Staffing Network of Easter Seals   \n",
       "59559                                Sirnaomics,Inc   \n",
       "59571        Information Technology Coalition, Inc.   \n",
       "59578                                       Harnham   \n",
       "59579                                       Harnham   \n",
       "59586                                    TEKSystems   \n",
       "61492                                       Harnham   \n",
       "64333                   Seattle Children's Hospital   \n",
       "64376                            Laetus Recruitment   \n",
       "64528                         Lighthouse Recruiting   \n",
       "64770                         Lighthouse Recruiting   \n",
       "69996            Oregon Health & Science University   \n",
       "69999            Oregon Health & Science University   \n",
       "70073                          Multnomah County, OR   \n",
       "\n",
       "                           salary                   salary_split     lower  \\\n",
       "3       $80,000 - $120,000 a year   [$80,000 ,  $120,000 a year]   80000.0   \n",
       "27       $50,000 - $80,000 a year    [$50,000 ,  $80,000 a year]   50000.0   \n",
       "37                 $43,794 a year               [$43,794 a year]   43794.0   \n",
       "40                $105,000 a year              [$105,000 a year]  105000.0   \n",
       "54                 $46,831 a year               [$46,831 a year]   46831.0   \n",
       "67       $40,800 - $79,100 a year    [$40,800 ,  $79,100 a year]   40800.0   \n",
       "86       $66,400 - $99,600 a year    [$66,400 ,  $99,600 a year]   66400.0   \n",
       "157               $150,000 a year              [$150,000 a year]  150000.0   \n",
       "192      $39,983 - $55,500 a year    [$39,983 ,  $55,500 a year]   39983.0   \n",
       "215      $45,000 - $77,000 a year    [$45,000 ,  $77,000 a year]   45000.0   \n",
       "222      $63,696 - $94,557 a year    [$63,696 ,  $94,557 a year]   63696.0   \n",
       "230      $45,000 - $55,000 a year    [$45,000 ,  $55,000 a year]   45000.0   \n",
       "245      $49,000 - $61,000 a year    [$49,000 ,  $61,000 a year]   49000.0   \n",
       "247      $50,000 - $55,000 a year    [$50,000 ,  $55,000 a year]   50000.0   \n",
       "249      $50,000 - $61,500 a year    [$50,000 ,  $61,500 a year]   50000.0   \n",
       "274      $30,000 - $45,000 a year    [$30,000 ,  $45,000 a year]   30000.0   \n",
       "278      $33,000 - $42,000 a year    [$33,000 ,  $42,000 a year]   33000.0   \n",
       "281    $100,000 - $130,000 a year  [$100,000 ,  $130,000 a year]  100000.0   \n",
       "293      $39,173 - $54,944 a year    [$39,173 ,  $54,944 a year]   39173.0   \n",
       "295      $60,000 - $80,000 a year    [$60,000 ,  $80,000 a year]   60000.0   \n",
       "307      $70,000 - $90,000 a year    [$70,000 ,  $90,000 a year]   70000.0   \n",
       "309               $100,000 a year              [$100,000 a year]  100000.0   \n",
       "317    $120,000 - $140,000 a year  [$120,000 ,  $140,000 a year]  120000.0   \n",
       "337     $73,300 - $114,900 a year   [$73,300 ,  $114,900 a year]   73300.0   \n",
       "362               $125,000 a year              [$125,000 a year]  125000.0   \n",
       "370    $120,000 - $150,000 a year  [$120,000 ,  $150,000 a year]  120000.0   \n",
       "371                $80,000 a year               [$80,000 a year]   80000.0   \n",
       "386               $180,000 a year              [$180,000 a year]  180000.0   \n",
       "408               $130,000 a year              [$130,000 a year]  130000.0   \n",
       "424               $160,000 a year              [$160,000 a year]  160000.0   \n",
       "...                           ...                            ...       ...   \n",
       "58133  $110,000 - $140,000 a year  [$110,000 ,  $140,000 a year]  110000.0   \n",
       "58198  $100,000 - $150,000 a year  [$100,000 ,  $150,000 a year]  100000.0   \n",
       "58229             $180,000 a year              [$180,000 a year]  180000.0   \n",
       "58289              $43,200 a year               [$43,200 a year]   43200.0   \n",
       "58303  $180,000 - $220,000 a year  [$180,000 ,  $220,000 a year]  180000.0   \n",
       "58370   $75,000 - $105,000 a year   [$75,000 ,  $105,000 a year]   75000.0   \n",
       "58389    $40,000 - $45,000 a year    [$40,000 ,  $45,000 a year]   40000.0   \n",
       "58738   $58,638 - $123,234 a year   [$58,638 ,  $123,234 a year]   58638.0   \n",
       "58806  $110,000 - $160,000 a year  [$110,000 ,  $160,000 a year]  110000.0   \n",
       "58841              $46,000 a year               [$46,000 a year]   46000.0   \n",
       "58900  $120,000 - $160,000 a year  [$120,000 ,  $160,000 a year]  120000.0   \n",
       "58957    $70,000 - $80,000 a year    [$70,000 ,  $80,000 a year]   70000.0   \n",
       "59149             $140,000 a year              [$140,000 a year]  140000.0   \n",
       "59364             $135,000 a year              [$135,000 a year]  135000.0   \n",
       "59428              $97,000 a year               [$97,000 a year]   97000.0   \n",
       "59434   $74,399 - $113,574 a year   [$74,399 ,  $113,574 a year]   74399.0   \n",
       "59503             $150,000 a year              [$150,000 a year]  150000.0   \n",
       "59559    $28,000 - $35,000 a year    [$28,000 ,  $35,000 a year]   28000.0   \n",
       "59571              $85,000 a year               [$85,000 a year]   85000.0   \n",
       "59578             $250,000 a year              [$250,000 a year]  250000.0   \n",
       "59579             $250,000 a year              [$250,000 a year]  250000.0   \n",
       "59586  $100,000 - $140,000 a year  [$100,000 ,  $140,000 a year]  100000.0   \n",
       "61492             $170,000 a year              [$170,000 a year]  170000.0   \n",
       "64333    $36,700 - $55,000 a year    [$36,700 ,  $55,000 a year]   36700.0   \n",
       "64376  $120,000 - $150,000 a year  [$120,000 ,  $150,000 a year]  120000.0   \n",
       "64528    $65,000 - $80,000 a year    [$65,000 ,  $80,000 a year]   65000.0   \n",
       "64770   $90,000 - $100,000 a year   [$90,000 ,  $100,000 a year]   90000.0   \n",
       "69996  $250,000 - $300,000 a year  [$250,000 ,  $300,000 a year]  250000.0   \n",
       "69999              $45,000 a year               [$45,000 a year]   45000.0   \n",
       "70073    $43,744 - $53,808 a year    [$43,744 ,  $53,808 a year]   43744.0   \n",
       "\n",
       "          upper         median  \n",
       "3      120000.0  207305.953846  \n",
       "27      80000.0  207305.953846  \n",
       "37          0.0  207305.953846  \n",
       "40          0.0  207305.953846  \n",
       "54          0.0  207305.953846  \n",
       "67      79100.0  207305.953846  \n",
       "86      99600.0  207305.953846  \n",
       "157         0.0  207305.953846  \n",
       "192     55500.0  207305.953846  \n",
       "215     77000.0  207305.953846  \n",
       "222     94557.0  207305.953846  \n",
       "230     55000.0  207305.953846  \n",
       "245     61000.0  207305.953846  \n",
       "247     55000.0  207305.953846  \n",
       "249     61500.0  207305.953846  \n",
       "274     45000.0  207305.953846  \n",
       "278     42000.0  207305.953846  \n",
       "281    130000.0  207305.953846  \n",
       "293     54944.0  207305.953846  \n",
       "295     80000.0  207305.953846  \n",
       "307     90000.0  207305.953846  \n",
       "309         0.0  207305.953846  \n",
       "317    140000.0  207305.953846  \n",
       "337    114900.0  207305.953846  \n",
       "362         0.0  207305.953846  \n",
       "370    150000.0  207305.953846  \n",
       "371         0.0  207305.953846  \n",
       "386         0.0  207305.953846  \n",
       "408         0.0  207305.953846  \n",
       "424         0.0  207305.953846  \n",
       "...         ...            ...  \n",
       "58133  140000.0  207305.953846  \n",
       "58198  150000.0  207305.953846  \n",
       "58229       0.0  207305.953846  \n",
       "58289       0.0  207305.953846  \n",
       "58303  220000.0  207305.953846  \n",
       "58370  105000.0  207305.953846  \n",
       "58389   45000.0  207305.953846  \n",
       "58738  123234.0  207305.953846  \n",
       "58806  160000.0  207305.953846  \n",
       "58841       0.0  207305.953846  \n",
       "58900  160000.0  207305.953846  \n",
       "58957   80000.0  207305.953846  \n",
       "59149       0.0  207305.953846  \n",
       "59364       0.0  207305.953846  \n",
       "59428       0.0  207305.953846  \n",
       "59434  113574.0  207305.953846  \n",
       "59503       0.0  207305.953846  \n",
       "59559   35000.0  207305.953846  \n",
       "59571       0.0  207305.953846  \n",
       "59578       0.0  207305.953846  \n",
       "59579       0.0  207305.953846  \n",
       "59586  140000.0  207305.953846  \n",
       "61492       0.0  207305.953846  \n",
       "64333   55000.0  207305.953846  \n",
       "64376  150000.0  207305.953846  \n",
       "64528   80000.0  207305.953846  \n",
       "64770  100000.0  207305.953846  \n",
       "69996  300000.0  207305.953846  \n",
       "69999       0.0  207305.953846  \n",
       "70073   53808.0  207305.953846  \n",
       "\n",
       "[318 rows x 8 columns]"
      ]
     },
     "execution_count": 411,
     "metadata": {},
     "output_type": "execute_result"
    }
   ],
   "source": []
  },
  {
   "cell_type": "code",
   "execution_count": 415,
   "metadata": {
    "collapsed": false
   },
   "outputs": [
    {
     "name": "stderr",
     "output_type": "stream",
     "text": [
      "/Users/brookeneubauer/anaconda/lib/python2.7/site-packages/ipykernel/__main__.py:1: SettingWithCopyWarning: \n",
      "A value is trying to be set on a copy of a slice from a DataFrame.\n",
      "Try using .loc[row_indexer,col_indexer] = value instead\n",
      "\n",
      "See the caveats in the documentation: http://pandas.pydata.org/pandas-docs/stable/indexing.html#indexing-view-versus-copy\n",
      "  if __name__ == '__main__':\n"
     ]
    }
   ],
   "source": [
    "yearly['mean']= yearly[[\"upper\", \"lower\"]].mean(axis=1)"
   ]
  },
  {
   "cell_type": "code",
   "execution_count": 416,
   "metadata": {
    "collapsed": true
   },
   "outputs": [],
   "source": [
    "# for entry in soup.find_all('span',attrs= {\"class\":\"location\"}):\n",
    "#     print entry.text"
   ]
  },
  {
   "cell_type": "code",
   "execution_count": 418,
   "metadata": {
    "collapsed": false
   },
   "outputs": [
    {
     "name": "stderr",
     "output_type": "stream",
     "text": [
      "/Users/brookeneubauer/anaconda/lib/python2.7/site-packages/ipykernel/__main__.py:1: SettingWithCopyWarning: \n",
      "A value is trying to be set on a copy of a slice from a DataFrame.\n",
      "Try using .loc[row_indexer,col_indexer] = value instead\n",
      "\n",
      "See the caveats in the documentation: http://pandas.pydata.org/pandas-docs/stable/indexing.html#indexing-view-versus-copy\n",
      "  if __name__ == '__main__':\n"
     ]
    }
   ],
   "source": [
    "yearly['city_state'] = yearly['location'].str.split(',')"
   ]
  },
  {
   "cell_type": "code",
   "execution_count": 431,
   "metadata": {
    "collapsed": false
   },
   "outputs": [
    {
     "name": "stderr",
     "output_type": "stream",
     "text": [
      "/Users/brookeneubauer/anaconda/lib/python2.7/site-packages/ipykernel/__main__.py:1: SettingWithCopyWarning: \n",
      "A value is trying to be set on a copy of a slice from a DataFrame.\n",
      "Try using .loc[row_indexer,col_indexer] = value instead\n",
      "\n",
      "See the caveats in the documentation: http://pandas.pydata.org/pandas-docs/stable/indexing.html#indexing-view-versus-copy\n",
      "  if __name__ == '__main__':\n",
      "/Users/brookeneubauer/anaconda/lib/python2.7/site-packages/ipykernel/__main__.py:2: SettingWithCopyWarning: \n",
      "A value is trying to be set on a copy of a slice from a DataFrame.\n",
      "Try using .loc[row_indexer,col_indexer] = value instead\n",
      "\n",
      "See the caveats in the documentation: http://pandas.pydata.org/pandas-docs/stable/indexing.html#indexing-view-versus-copy\n",
      "  from ipykernel import kernelapp as app\n"
     ]
    }
   ],
   "source": [
    "yearly['city'] = yearly['city_state'].str[0]\n",
    "yearly['state'] = yearly['city_state'].str[1]"
   ]
  },
  {
   "cell_type": "code",
   "execution_count": 432,
   "metadata": {
    "collapsed": false
   },
   "outputs": [
    {
     "name": "stderr",
     "output_type": "stream",
     "text": [
      "/Users/brookeneubauer/anaconda/lib/python2.7/site-packages/ipykernel/__main__.py:1: SettingWithCopyWarning: \n",
      "A value is trying to be set on a copy of a slice from a DataFrame.\n",
      "Try using .loc[row_indexer,col_indexer] = value instead\n",
      "\n",
      "See the caveats in the documentation: http://pandas.pydata.org/pandas-docs/stable/indexing.html#indexing-view-versus-copy\n",
      "  if __name__ == '__main__':\n"
     ]
    }
   ],
   "source": [
    "yearly['state'] = yearly['state'].str[0:3]"
   ]
  },
  {
   "cell_type": "code",
   "execution_count": 438,
   "metadata": {
    "collapsed": false
   },
   "outputs": [
    {
     "data": {
      "text/plain": [
       "100000.0"
      ]
     },
     "execution_count": 438,
     "metadata": {},
     "output_type": "execute_result"
    }
   ],
   "source": [
    "yearly['mean'].median()"
   ]
  },
  {
   "cell_type": "code",
   "execution_count": 442,
   "metadata": {
    "collapsed": false
   },
   "outputs": [
    {
     "name": "stderr",
     "output_type": "stream",
     "text": [
      "/Users/brookeneubauer/anaconda/lib/python2.7/site-packages/ipykernel/__main__.py:1: SettingWithCopyWarning: \n",
      "A value is trying to be set on a copy of a slice from a DataFrame.\n",
      "Try using .loc[row_indexer,col_indexer] = value instead\n",
      "\n",
      "See the caveats in the documentation: http://pandas.pydata.org/pandas-docs/stable/indexing.html#indexing-view-versus-copy\n",
      "  if __name__ == '__main__':\n"
     ]
    }
   ],
   "source": [
    "yearly['high_low'] = (yearly[\"mean\"] >= yearly[\"mean\"].median()).astype(int)"
   ]
  },
  {
   "cell_type": "code",
   "execution_count": 456,
   "metadata": {
    "collapsed": false
   },
   "outputs": [
    {
     "data": {
      "text/html": [
       "<div>\n",
       "<table border=\"1\" class=\"dataframe\">\n",
       "  <thead>\n",
       "    <tr style=\"text-align: right;\">\n",
       "      <th></th>\n",
       "      <th>title</th>\n",
       "      <th>company</th>\n",
       "      <th>mean</th>\n",
       "      <th>city</th>\n",
       "      <th>state</th>\n",
       "      <th>high_low</th>\n",
       "    </tr>\n",
       "  </thead>\n",
       "  <tbody>\n",
       "    <tr>\n",
       "      <th>3</th>\n",
       "      <td>Data Scientist</td>\n",
       "      <td>Platinum Solutions</td>\n",
       "      <td>100000.0</td>\n",
       "      <td>Houston</td>\n",
       "      <td>TX</td>\n",
       "      <td>1</td>\n",
       "    </tr>\n",
       "    <tr>\n",
       "      <th>27</th>\n",
       "      <td>Bioinformatics Software Developer</td>\n",
       "      <td>Genialis</td>\n",
       "      <td>65000.0</td>\n",
       "      <td>Houston</td>\n",
       "      <td>TX</td>\n",
       "      <td>0</td>\n",
       "    </tr>\n",
       "    <tr>\n",
       "      <th>37</th>\n",
       "      <td>Quality Assurance Analyst (Research)</td>\n",
       "      <td>Baylor College of Medicine</td>\n",
       "      <td>43794.0</td>\n",
       "      <td>Houston</td>\n",
       "      <td>TX</td>\n",
       "      <td>0</td>\n",
       "    </tr>\n",
       "    <tr>\n",
       "      <th>40</th>\n",
       "      <td>Sr Data Scientist (Hadoop) - Duluth, Georgia</td>\n",
       "      <td>Horn Solutions, Inc.</td>\n",
       "      <td>105000.0</td>\n",
       "      <td>Houston</td>\n",
       "      <td>TX</td>\n",
       "      <td>1</td>\n",
       "    </tr>\n",
       "    <tr>\n",
       "      <th>54</th>\n",
       "      <td>Flow Cytometry Specialist I</td>\n",
       "      <td>Baylor College of Medicine</td>\n",
       "      <td>46831.0</td>\n",
       "      <td>Houston</td>\n",
       "      <td>TX</td>\n",
       "      <td>0</td>\n",
       "    </tr>\n",
       "    <tr>\n",
       "      <th>67</th>\n",
       "      <td>Research Scientist</td>\n",
       "      <td>Rice University</td>\n",
       "      <td>59950.0</td>\n",
       "      <td>Houston</td>\n",
       "      <td>TX</td>\n",
       "      <td>0</td>\n",
       "    </tr>\n",
       "    <tr>\n",
       "      <th>86</th>\n",
       "      <td>Research Statistical Analyst -Bioinformatics &amp;...</td>\n",
       "      <td>MD Anderson Cancer Center</td>\n",
       "      <td>83000.0</td>\n",
       "      <td>Houston</td>\n",
       "      <td>TX</td>\n",
       "      <td>0</td>\n",
       "    </tr>\n",
       "    <tr>\n",
       "      <th>157</th>\n",
       "      <td>Data Architect</td>\n",
       "      <td>Career Evolutions</td>\n",
       "      <td>150000.0</td>\n",
       "      <td>Phoenix</td>\n",
       "      <td>AZ</td>\n",
       "      <td>1</td>\n",
       "    </tr>\n",
       "    <tr>\n",
       "      <th>192</th>\n",
       "      <td>RESEARCH AND STATISTICAL ANALYST</td>\n",
       "      <td>Arizona Health Care Cost Containment System</td>\n",
       "      <td>47741.5</td>\n",
       "      <td>Phoenix</td>\n",
       "      <td>AZ</td>\n",
       "      <td>0</td>\n",
       "    </tr>\n",
       "    <tr>\n",
       "      <th>215</th>\n",
       "      <td>AIR QUALITY PLANNER 2-3</td>\n",
       "      <td>State of Arizona</td>\n",
       "      <td>61000.0</td>\n",
       "      <td>Phoenix</td>\n",
       "      <td>AZ</td>\n",
       "      <td>0</td>\n",
       "    </tr>\n",
       "  </tbody>\n",
       "</table>\n",
       "</div>"
      ],
      "text/plain": [
       "                                                 title  \\\n",
       "3                                       Data Scientist   \n",
       "27                   Bioinformatics Software Developer   \n",
       "37                Quality Assurance Analyst (Research)   \n",
       "40        Sr Data Scientist (Hadoop) - Duluth, Georgia   \n",
       "54                         Flow Cytometry Specialist I   \n",
       "67                                  Research Scientist   \n",
       "86   Research Statistical Analyst -Bioinformatics &...   \n",
       "157                                     Data Architect   \n",
       "192                   RESEARCH AND STATISTICAL ANALYST   \n",
       "215                            AIR QUALITY PLANNER 2-3   \n",
       "\n",
       "                                         company      mean     city state  \\\n",
       "3                             Platinum Solutions  100000.0  Houston    TX   \n",
       "27                                      Genialis   65000.0  Houston    TX   \n",
       "37                    Baylor College of Medicine   43794.0  Houston    TX   \n",
       "40                          Horn Solutions, Inc.  105000.0  Houston    TX   \n",
       "54                    Baylor College of Medicine   46831.0  Houston    TX   \n",
       "67                               Rice University   59950.0  Houston    TX   \n",
       "86                     MD Anderson Cancer Center   83000.0  Houston    TX   \n",
       "157                            Career Evolutions  150000.0  Phoenix    AZ   \n",
       "192  Arizona Health Care Cost Containment System   47741.5  Phoenix    AZ   \n",
       "215                             State of Arizona   61000.0  Phoenix    AZ   \n",
       "\n",
       "     high_low  \n",
       "3           1  \n",
       "27          0  \n",
       "37          0  \n",
       "40          1  \n",
       "54          0  \n",
       "67          0  \n",
       "86          0  \n",
       "157         1  \n",
       "192         0  \n",
       "215         0  "
      ]
     },
     "execution_count": 456,
     "metadata": {},
     "output_type": "execute_result"
    }
   ],
   "source": [
    "yearly.head(10)"
   ]
  },
  {
   "cell_type": "code",
   "execution_count": null,
   "metadata": {
    "collapsed": true
   },
   "outputs": [],
   "source": []
  },
  {
   "cell_type": "code",
   "execution_count": 196,
   "metadata": {
    "collapsed": false
   },
   "outputs": [
    {
     "name": "stdout",
     "output_type": "stream",
     "text": [
      "None\n"
     ]
    }
   ],
   "source": [
    "# print(soup.find('span',attrs= {\"class\":\"row result\"}))"
   ]
  },
  {
   "cell_type": "code",
   "execution_count": 65,
   "metadata": {
    "collapsed": true
   },
   "outputs": [
    {
     "name": "stdout",
     "output_type": "stream",
     "text": [
      "\n",
      "Analytics Strategy & Transformation Manager (Life Sciences)\n",
      "\n",
      "\n",
      "\n",
      "\n",
      "        Accenture\n",
      "\n",
      " - \n",
      "8,969 reviews\n",
      " - New York, NY 10011\n",
      "\n",
      "\n",
      "Understanding of analytics roles and responsibilities (e.g., data scientist). Data management skills....\n",
      "\n",
      "\n",
      "\n",
      "Sponsored - save jobwindow['sj_result_e7ad8ab2cdd18cbc'] = {\"showSource\": false, \"source\": \"Accenture\", \"loggedIn\": false, \"showMyJobsLinks\": true,\"undoAction\": \"unsave\",\"jobKey\": \"e7ad8ab2cdd18cbc\", \"myIndeedAvailable\": true, \"tellAFriendEnabled\": false, \"showMoreActionsLink\": false, \"resultNumber\": 10, \"jobStateChangedToSaved\": false, \"searchState\": \"q=data scientist $20,000&amp;l=New+York&amp;start=10\", \"basicPermaLink\": \"http://www.indeed.com\", \"saveJobFailed\": false, \"removeJobFailed\": false, \"requestPending\": false, \"notesEnabled\": false, \"currentPage\" : \"serp\", \"sponsored\" : true,\"showSponsor\" : true,\"reportJobButtonEnabled\": false, \"showMyJobsHired\": false, \"showSaveForSponsored\": true, \"showJobAge\": true};\n",
      "\n",
      "\n",
      "\n",
      "\n",
      "\n",
      "\n",
      "\n",
      "Data Research Analyst - Office of Chief Nurse Executive\n",
      "\n",
      "\n",
      "\n",
      "\n",
      "        Northwell Health\n",
      "\n",
      " - \n",
      "311 reviews\n",
      " - New Hyde Park, NY\n",
      "\n",
      "\n",
      "Trains staff on data capture and data entry. Analyzes and trends data. Extracts patient clinical data from medical records or other sources containing patient...\n",
      "\n",
      "\n",
      "\n",
      "Sponsored - save jobwindow['sj_result_17d8a2a69988b540'] = {\"showSource\": false, \"source\": \"Northwell Health\", \"loggedIn\": false, \"showMyJobsLinks\": true,\"undoAction\": \"unsave\",\"jobKey\": \"17d8a2a69988b540\", \"myIndeedAvailable\": true, \"tellAFriendEnabled\": false, \"showMoreActionsLink\": false, \"resultNumber\": 11, \"jobStateChangedToSaved\": false, \"searchState\": \"q=data scientist $20,000&amp;l=New+York&amp;start=10\", \"basicPermaLink\": \"http://www.indeed.com\", \"saveJobFailed\": false, \"removeJobFailed\": false, \"requestPending\": false, \"notesEnabled\": false, \"currentPage\" : \"serp\", \"sponsored\" : true,\"showSponsor\" : true,\"reportJobButtonEnabled\": false, \"showMyJobsHired\": false, \"showSaveForSponsored\": true, \"showJobAge\": true};\n",
      "\n",
      "\n",
      "\n",
      "\n",
      "\n",
      "\n",
      "\n",
      "Senior Associate - Cognitive Data Scientist Natural Language...\n",
      "\n",
      "\n",
      "\n",
      "\n",
      "        KPMG\n",
      "\n",
      " - \n",
      "2,883 reviews\n",
      " - New York, NY 10154\n",
      "\n",
      "\n",
      "KPMG is currently seeking a Senior Associate - Cognitive Data Scientist Natural Language Processing, to join our National Organization....\n",
      "\n",
      "\n",
      "\n",
      "Sponsored by KPMG LLP - save jobwindow['sj_result_ae3e0449b428806f'] = {\"showSource\": false, \"source\": \"KPMG LLP\", \"loggedIn\": false, \"showMyJobsLinks\": true,\"undoAction\": \"unsave\",\"jobKey\": \"ae3e0449b428806f\", \"myIndeedAvailable\": true, \"tellAFriendEnabled\": false, \"showMoreActionsLink\": false, \"resultNumber\": 13, \"jobStateChangedToSaved\": false, \"searchState\": \"q=data scientist $20,000&amp;l=New+York&amp;start=10\", \"basicPermaLink\": \"http://www.indeed.com\", \"saveJobFailed\": false, \"removeJobFailed\": false, \"requestPending\": false, \"notesEnabled\": false, \"currentPage\" : \"serp\", \"sponsored\" : true,\"showSponsor\" : true,\"sponsorName\" : \"KPMG LLP\",\"reportJobButtonEnabled\": false, \"showMyJobsHired\": false, \"showSaveForSponsored\": true, \"showJobAge\": true};\n",
      "\n",
      "\n",
      "\n",
      "\n",
      "\n",
      "\n"
     ]
    }
   ],
   "source": [
    "# for entry in soup.find_all('div',attrs= {\"class\":\"row result\"}):\n",
    "#     try:\n",
    "#         print entry.text\n",
    "#     except:\n",
    "#         print 'ZERO'"
   ]
  },
  {
   "cell_type": "code",
   "execution_count": 67,
   "metadata": {
    "collapsed": true
   },
   "outputs": [
    {
     "name": "stdout",
     "output_type": "stream",
     "text": [
      "New York, NY 10011\n",
      "New Hyde Park, NY\n",
      "New York, NY\n",
      "New York, NY 10154 (Midtown area)\n",
      "New York, NY\n",
      "New York, NY\n",
      "New York, NY\n",
      "New York, NY\n",
      "New York, NY\n",
      "New York, NY 10010 (Gramercy area)\n",
      "New York, NY\n",
      "New York, NY 10016 (Gramercy area)\n",
      "New York, NY 10029 (Yorkville area)\n",
      "New York, NY 10154\n",
      "New York, NY\n"
     ]
    }
   ],
   "source": [
    "# for entry in soup.find_all(name='span', attrs={'class':'location'}):\n",
    "#     print entry.text"
   ]
  },
  {
   "cell_type": "code",
   "execution_count": 190,
   "metadata": {
    "collapsed": true
   },
   "outputs": [
    {
     "name": "stdout",
     "output_type": "stream",
     "text": [
      "Data Scientist, Workforce Intelligence\n",
      "Data Scientist\n",
      "Research Analyst/Accountant III\n",
      "Senior Quantitative Analyst, global investments strategies\n",
      "Data Analyst\n"
     ]
    }
   ],
   "source": [
    "# for entry in soup.find_all(name='a', attrs={'class': 'jobtitle turnstileLink'}):\n",
    "#     print entry.text"
   ]
  },
  {
   "cell_type": "code",
   "execution_count": 115,
   "metadata": {
    "collapsed": false
   },
   "outputs": [
    {
     "name": "stdout",
     "output_type": "stream",
     "text": [
      "None\n"
     ]
    }
   ],
   "source": [
    "# five = soup.find_all(name='td', attrs={'id':'resultsCol'})\n",
    "# for x in five:\n",
    "#     for x in soup.findAll('a'):\n",
    "#         print x.get('href')\n",
    "#     row = x.find(name ='div',attrs ={'class':'row result'})\n",
    "#     for i in row:\n",
    "# #         home_url = \"http://www.indeed.com\"\n",
    "#         #job_link = \"%s\" % (i.find('a').get('href'))\n",
    "#         job_link = i.find('href')"
   ]
  },
  {
   "cell_type": "code",
   "execution_count": null,
   "metadata": {
    "collapsed": true
   },
   "outputs": [],
   "source": [
    "# five = soup.find_all(name='td', attrs={'id':'resultsCol'})\n",
    "# for x in five:\n",
    "#     for x in soup.findAll('a'):\n",
    "#         print x.get('href')"
   ]
  },
  {
   "cell_type": "code",
   "execution_count": 111,
   "metadata": {
    "collapsed": true
   },
   "outputs": [
    {
     "name": "stdout",
     "output_type": "stream",
     "text": [
      "#jobPostingsAnchor\n",
      "#what\n",
      "None\n",
      "/\n",
      "/resumes?isid=find-resumes&ikw=SERPtop&co=US&hl=en\n",
      "/hire?hl=en&cc=US\n",
      "/promo/resume\n",
      "http://www.indeed.com/account/login?dest=%2Fjobs%3Fq%3Ddata%2Bscientist%2B%2420%2C000%26l%3DNew%2BYork%26start%3D10\n",
      "/\n",
      "/advanced_search?q=data+scientist+%2420%2C000&l=New+York\n",
      "/jobs?q=data+scientist+%2420%2C000&l=New+York&sort=date\n",
      "/q-data-scientist-l-New-York-jobs.html\n",
      "http://support.indeed.com/hc/en-us/articles/204489020-What-is-a-Salary-Estimate-\n",
      "/jobs?q=data+scientist+$20,000&l=New+York&jt=fulltime\n",
      "/jobs?q=data+scientist+$20,000&l=New+York&jt=contract\n",
      "/jobs?q=data+scientist+$20,000&l=New+York&jt=temporary\n",
      "/jobs?q=data+scientist+$20,000&l=New+York&jt=internship\n",
      "/jobs?q=data+scientist+$20,000&l=New+York&jt=parttime\n",
      "/jobs?q=data+scientist+$20,000&l=New+York&jt=commission\n",
      "/jobs?q=data+scientist+$20,000&l=New+York&rbl=New+York,+NY&jlid=45f6c4ded55c00bf\n",
      "/jobs?q=data+scientist+$20,000&l=New+York&rbl=Summit,+NJ&jlid=f3c783c0c5425d6a\n",
      "/jobs?q=data+scientist+$20,000&l=New+York&rbl=Manhattan,+NY&jlid=ea5405905f293f14\n",
      "/jobs?q=data+scientist+$20,000&l=New+York&rbl=Jersey+City,+NJ&jlid=a8725547cbf3b706\n",
      "/jobs?q=data+scientist+$20,000&l=New+York&rbl=Bronx,+NY&jlid=609f72bcaf2fb185\n",
      "/jobs?q=data+scientist+$20,000&l=New+York&rbl=East+Hanover,+NJ&jlid=0133c97d9389fa29\n",
      "/jobs?q=data+scientist+$20,000&l=New+York&rbl=Murray+Hill,+NJ&jlid=8c71b3fa513833d1\n",
      "/jobs?q=data+scientist+$20,000&l=New+York&rbl=Newark,+NJ&jlid=fc0723f9333e9830\n",
      "/jobs?q=data+scientist+$20,000&l=New+York&rbl=Clark,+NJ&jlid=27829490440682b8\n",
      "/jobs?q=data+scientist+$20,000&l=New+York&rbl=Parsippany,+NJ&jlid=61d39317b53e0380\n",
      "/jobs?q=data+scientist+$20,000&l=New+York&rbl=Berkeley+Heights,+NJ&jlid=53861cbd532c8f01\n",
      "/jobs?q=data+scientist+$20,000&l=New+York&rbl=Kenilworth,+NJ&jlid=d4ba7419e50dc16c\n",
      "/jobs?q=data+scientist+$20,000&l=New+York&rbl=Manhasset,+NY&jlid=71daa0d0b90308b6\n",
      "/jobs?q=data+scientist+$20,000&l=New+York&rbl=Rahway,+NJ&jlid=4ee8dde7f79849a9\n",
      "/jobs?q=data+scientist+$20,000&l=New+York&rbl=South+Plainfield,+NJ&jlid=eb63caa7149dc6dd\n",
      "/q-Data-Scientist-$20,000-jobs.html\n",
      "/jobs?q=data+scientist+$20,000&l=New+York&rbc=NYU+School+of+Medicine&jcid=fb8afb99610b0769\n",
      "/jobs?q=data+scientist+$20,000&l=New+York&rbc=Mount+Sinai+Health+System&jcid=c007936ceb766fe5\n",
      "/jobs?q=data+scientist+$20,000&l=New+York&rbc=Weill+Cornell+Medical+College&jcid=eab46b3ba6851e42\n",
      "/jobs?q=data+scientist+$20,000&l=New+York&rbc=NYU+Hospitals+Center&jcid=7533ecbac58681c6\n",
      "/jobs?q=data+scientist+$20,000&l=New+York&rbc=BuzzFeed&jcid=aadc8cd1bc50c192\n",
      "/jobs?q=data+scientist+$20,000&l=New+York&rbc=NYU+Langone+Health+System&jcid=3df9eda493a589ff\n",
      "/jobs?q=data+scientist+$20,000&l=New+York&rbc=Columbia+University&jcid=bd976cc171c690e0\n",
      "/jobs?q=data+scientist+$20,000&l=New+York&rbc=Celgene+Corporation&jcid=b7b2b0ecc148eab5\n",
      "/jobs?q=data+scientist+$20,000&l=New+York&rbc=Celgene&jcid=5d4039033d28e663\n",
      "/jobs?q=data+scientist+$20,000&l=New+York&rbc=Ambulatory%2FOutpatient+NYU+School+of+Medicine&jcid=4b8b92c33c447c01\n",
      "/jobs?q=data+scientist+$20,000&l=New+York&rbc=JPMorgan+Chase&jcid=c46d0116f6e69eae\n",
      "/jobs?q=data+scientist+$20,000&l=New+York&rbc=Morgan+Stanley&jcid=0c39fb2c91742dcf\n",
      "/jobs?q=data+scientist+$20,000&l=New+York&rbc=Albert+Einstein+College+of+Medicine&jcid=65ce85f45facac9b\n",
      "/jobs?q=data+scientist+$20,000&l=New+York&rbc=Capital+One&jcid=b85c5070c3d3d8c8\n",
      "/jobs?q=data+scientist+$20,000&l=New+York&rbc=Bloomberg&jcid=f770da67b3b51c62\n",
      "/jobs?q=data+scientist+$20,000&l=New+York&explvl=mid_level\n",
      "/jobs?q=data+scientist+$20,000&l=New+York&explvl=entry_level\n",
      "/jobs?q=data+scientist+$20,000&l=New+York&explvl=senior_level\n",
      "/promo/prime\n",
      "None\n",
      "/pagead/clk?mo=r&ad=-6NYlbfkN0AMNd6tC0S23lhdZ0umHTp0DzufZ-32jGT3Eur2xSP8mc9MwJrtk2qCmrhOpH8_1pElVgZr5VQygC5GRaYLwmvTjgrzC4ja-CogMa2-MWbncL8QgAbPdm6zrM9B28omzF4HZBc5j60w44Kgml6zuLyx-99ClkNvDYnHT-aDggqfxvd-oTfzVGtX1e_S4tMZj90HSwPE_f4QoYByeBZ0tjJfz1IShgvxYuh9tgiFByGeKCGDTrBPjRne-Iu5UxMIlS6r1z95rpwNaKiy_SqPx70K41KSGgWipKECbt1V9DYdRTnT2joEnMNkFQTlS10_8FGY4KR-3J7RUgZT4hgXOLFpzecszUiFUYSv11MY6DBnUaxWTA9OGfm5s4IZght33HZcblV8b4VtsAIzImFUpherXfIoSL9vB0ZJoIfkzaBGeBMlfGBF54AiNv-x4In8mLzoik90SxH51tR-jv5u0E1efT-cSOIVLqX3VcSEFevzQtVYLmq0iw9Qhx9b17PSCes=&p=1&sk=&fvj=0\n",
      "/cmp/Accenture\n",
      "/cmp/Accenture/reviews\n",
      "#\n",
      "/pagead/clk?mo=r&ad=-6NYlbfkN0A685IVOxDeoatz6vIylE5AY46nGr72CYzX_Ik6NYY6DwRe8exBFr01xZ8MZJ_4ZR8afxwpF35PFKt9CgDpGjqa3s3I3mDomU-Di9X24nwXJsJSAs4Lnap4tk1DvXHH2PbH0ZmzYq9gCZDA80a2eDp6mA2sjkwyn07LqMbpLrr4nFppkyGQ25JAq3azjaRLakMJh_nppr49PJ-TzpOPdFmUYgcxLh5KSVpA9pxTB246f_izIkfGUthdXy1qV2QAa1aUCrmq8-QC4OreQztPyHDzmooEUhGunftqjgtlK9WSR4iJ9zMyzDN8qWrYHEg5zFfS6XSjyKQf9nQDDSK78EjSL3Zg3NrFAbxT82jzHPR-IGZxcLMpoN4ANEDQzUxsnp0yl0lLbODib4AUtGI5wFeTcSS6zGL0E1I=&p=2&sk=&fvj=0\n",
      "/cmp/Northwell-Health\n",
      "/cmp/Northwell-Health/reviews\n",
      "#\n",
      "/pagead/clk?mo=r&ad=-6NYlbfkN0D-8NnA5uVQKDkAtHzTcLMov1KPiEqpKe-vlWczONZXG4AooBa1LsCvmr8e7GI7juflFtAYTjmbWRdZcv0cve6Rygtk7PvxfrrEUAGt55HaR7bbjHKTU7cbbRelnc13JHfZs3QA87_vsL36CrfX1MRsoWdRCQQEnaYuGo5U5sd0Vbnx93u3ZIOQilYwxPXD7h5QDJi324ADU5M8uxB01EfXoPWlwHYYGps9m4X3gMqVuaSZ6_vIMnt09JlLlU6M9GTBxQ5cG92HVUbqXNmQAF6Dk15H6fBAl2D8aQaxXTwcygSs8rEOmIGvEXc2WvQnSbqKHXIMoAUoOQQo5FieM_3-Q8bD4sC-Lq8uSujpu-Y8qiwhQ1_Zm_8kgCiTxysOBrwcp8YPT67lnpYwDypDM3n8pIWy0RBG_nVyFsS9Zpq5N6Yiuczaf7lReSwT7eul2Jc3TNDlNAbe0huMQTb_kmoLCAZODctFI7l3cERmfwuCodKRcRVZBRRh6eQLREj0uwYVO3J2-cwlMYNxjG3H8zWijoxDpj73M8Y=&p=3&sk=&fvj=0\n",
      "#\n",
      "/rc/clk?jk=46999702ffdf7e2a&fccid=2dd390c3a48a7ed0\n",
      "/cmp/Kpmg\n",
      "/cmp/Kpmg/reviews\n",
      "#\n",
      "#\n",
      "#\n",
      "/q-Kpmg-l-New-York,-NY-jobs.html\n",
      "/l-New-York,-NY-jobs.html\n",
      "/salaries/Data-Scientist-Salaries,-New-York-NY\n",
      "/cmp/Kpmg\n",
      "/cmp/Kpmg/faq\n",
      "/cmp/Kpmg/faq/how-long-does-it-take-to-get-hired-from-start-to-finish-what-are-the-steps-along-the-way?quid=1an36j5sfak918gq\n",
      "/cmp/Kpmg/faq/what-is-the-interview-process-like-what-is-the-best-way-to-get-an-interview?quid=1ac0bq3oo5n9i8gq\n",
      "/forum/cmp/Kpmg.html\n",
      "/forum/loc/New-York-New-York.html\n",
      "/rc/clk?jk=2ca4c55740ebcf54&fccid=3757f9e794d323e6\n",
      "#\n",
      "#\n",
      "#\n",
      "/q-Carto-l-New-York,-NY-jobs.html\n",
      "/l-New-York,-NY-jobs.html\n",
      "/salaries/Data-Scientist-Salaries,-New-York-NY\n",
      "/forum/cmp/Carto.html\n",
      "/forum/loc/New-York-New-York.html\n",
      "/rc/clk?jk=6789b21430367234&fccid=f5cebfe6f3f8cccd\n",
      "#\n",
      "#\n",
      "#\n",
      "/q-Brooklyn-Data-Science-l-New-York,-NY-jobs.html\n",
      "/l-New-York,-NY-jobs.html\n",
      "/salaries/Data-Scientist-Salaries,-New-York-NY\n",
      "/cmp/Brooklyn-Data-Science\n",
      "/forum/cmp/Brooklyn-Data-Science.html\n",
      "/forum/loc/New-York-New-York.html\n",
      "/company/indify/jobs/Data-Scientist-86f0ee0fb3cfe734?fccid=feaa7021f13bf9de\n",
      "#\n",
      "#\n",
      "#\n",
      "/q-Indify-l-New-York,-NY-jobs.html\n",
      "/l-New-York,-NY-jobs.html\n",
      "/salaries/Data-Scientist-Salaries,-New-York-NY\n",
      "/forum/cmp/Indify.html\n",
      "/forum/loc/New-York-New-York.html\n",
      "/rc/clk?jk=88b2bb963c86c34d&fccid=8f04ebcdc1ee8430\n",
      "/cmp/Life-Time-Fitness\n",
      "/cmp/Life-Time-Fitness/reviews\n",
      "/jobs?q=data+scientist+%2420%2C000&l=New+York&rbt=Ultimate+Hoops+Statistician&rbc=Life+Time+Fitness&jtid=9e5a06bf9e4d6cb4&jcid=8f04ebcdc1ee8430&grp=tcl\n",
      "#\n",
      "#\n",
      "#\n",
      "/q-Life-Time-Fitness-l-New-York,-NY-jobs.html\n",
      "/l-New-York,-NY-jobs.html\n",
      "/salaries/Statistician-Salaries,-New-York-NY\n",
      "/cmp/Life-Time-Fitness\n",
      "/cmp/Life-Time-Fitness/faq\n",
      "/cmp/Life-Time-Fitness/faq/how-did-you-get-your-first-interview-at-life-time-fitness?quid=1amj2j75ob814br0\n",
      "/cmp/Life-Time-Fitness/faq/what-benefits-does-the-company-provide?quid=1amj2j75vb851fnu\n",
      "/forum/cmp/Life-Time-Fitness.html\n",
      "/forum/loc/New-York-New-York.html\n",
      "/rc/clk?jk=3557628ac6e50d97&fccid=f770da67b3b51c62\n",
      "/cmp/Bloomberg\n",
      "/cmp/Bloomberg/reviews\n",
      "#\n",
      "#\n",
      "#\n",
      "/q-Bloomberg-l-New-York,-NY-jobs.html\n",
      "/l-New-York,-NY-jobs.html\n",
      "/salaries/Data-Scientist-Salaries,-New-York-NY\n",
      "/cmp/Bloomberg\n",
      "/cmp/Bloomberg/faq\n",
      "/cmp/Bloomberg/faq/how-are-the-working-hours?quid=1as7r3dj05nd5dgd\n",
      "/cmp/Bloomberg/faq/what-tips-or-advice-would-you-give-to-someone-interviewing-at-bloomberg?quid=1bbujs6h8aqgtbfl\n",
      "/forum/cmp/Bloomberg.html\n",
      "/forum/loc/New-York-New-York.html\n",
      "/rc/clk?jk=1abc29e8a59b6f4e&fccid=0bfd6b75d98e7714\n",
      "#\n",
      "#\n",
      "#\n",
      "/q-Clarifai-l-New-York,-NY-jobs.html\n",
      "/l-New-York,-NY-jobs.html\n",
      "/salaries/Data-Scientist-Salaries,-New-York-NY\n",
      "/forum/cmp/Clarifai.html\n",
      "/forum/loc/New-York-New-York.html\n",
      "/rc/clk?jk=863aafb1eb78349b&fccid=26e916214f939c5b\n",
      "/cmp/Dailymotion\n",
      "/cmp/Dailymotion/reviews\n",
      "#\n",
      "#\n",
      "#\n",
      "/q-Dailymotion-l-New-York,-NY-jobs.html\n",
      "/l-New-York,-NY-jobs.html\n",
      "/salaries/Data-Warehouse-Engineer-Salaries,-New-York-NY\n",
      "/cmp/Dailymotion\n",
      "/forum/cmp/Dailymotion.html\n",
      "/forum/loc/New-York-New-York.html\n",
      "/rc/clk?jk=165effc70e2f00c0&fccid=7077d7e88049c02a\n",
      "/cmp/Aetna\n",
      "/cmp/Aetna/reviews\n",
      "#\n",
      "#\n",
      "#\n",
      "/q-Aetna-l-New-York,-NY-jobs.html\n",
      "/l-New-York,-NY-jobs.html\n",
      "/salaries/Data-Scientist-Salaries,-New-York-NY\n",
      "/cmp/Aetna\n",
      "/cmp/Aetna/faq\n",
      "/cmp/Aetna/faq/how-are-the-working-hours?quid=1alm3q1nkb80rdiv\n",
      "/cmp/Aetna/faq/how-long-does-it-take-to-get-hired-from-start-to-finish-what-are-the-steps-along-the-way?quid=1an0ig2ph5ncmc6j\n",
      "/forum/cmp/Aetna.html\n",
      "/forum/loc/New-York-New-York.html\n",
      "/rc/clk?jk=87f320822e297a08&fccid=c007936ceb766fe5\n",
      "/cmp/Mount-Sinai-Health-System\n",
      "/cmp/Mount-Sinai-Health-System/reviews\n",
      "#\n",
      "#\n",
      "#\n",
      "/q-Mount-Sinai-Health-System-l-New-York,-NY-jobs.html\n",
      "/l-New-York,-NY-jobs.html\n",
      "/salaries/Senior-Scientist-Salaries,-New-York-NY\n",
      "/cmp/Mount-Sinai-Health-System\n",
      "/cmp/Mount-Sinai-Health-System/faq\n",
      "/cmp/Mount-Sinai-Health-System/faq/how-did-you-get-your-first-interview-at-mount-sinai-health-system?quid=1amh562nv5ncoff7\n",
      "/cmp/Mount-Sinai-Health-System/faq/what-is-the-work-environment-and-culture-like-at-mount-sinai-health-system?quid=1anfjgccnb85f8fn\n",
      "/forum/job/Scientist.html\n",
      "/forum/cmp/Mount-Sinai-Health-System.html\n",
      "/forum/loc/New-York-New-York.html\n",
      "/pagead/clk?mo=r&ad=-6NYlbfkN0DAgAc92q6iRaEfcJAuaSGKVeICOvW3P0dpzElS8ir45AVr2KnXyohmCH6uVD67Lw61KWJVZBp66A5QCZYeQBht6oSOuPS7Yt0EtPEW3UZ4wrm-vpM7g2hyt2uUpQCCRMyoyfLWykzM4m9KX1KLtrhiD6QPsB9onft2OlRLJKY2M5kTYz2zNbpH06k8w8M9vHDB-9QOxnq6PkNruEajv-glT_nSSBArfM2KxYMNXtlDYqoesUwJMHcBInj3Rve2kc2QEberiLNuFqaaAEYBpylNo_QQM6qhiKbp2VHaeSjcEpzruwcDJMsQJIj6S8UvNgiRYPARfLJWpDZ27teScA2KiPSRPn9epy_wNqj_dmMptZPL0Vqdp5mgq__SbtGFIV6IlPOhu08-lg==&p=4&sk=&fvj=0\n",
      "/cmp/Kpmg\n",
      "/cmp/Kpmg/reviews\n",
      "#\n",
      "/pagead/clk?mo=r&ad=-6NYlbfkN0DufbCI2HIYwgBtoz6kWO8JhBjFXIWlM4Ym8nprWE4oz47-KULISevlXmrGISptzZjwKfsKua60614khjE5rJ7RfTACq78wspTRNQ3RsUKiniNuByIAMcvDaVerlk_unkDTpakZCwnxnSX2RQrNvn9hUGtEUe3qfWGozwO0pVzQbm3eWsyTIX3hPmdiklqO0cs4B5-OOUaAFhyznIl6Xuh_DFUY_uzrLc0WT9K74hWitt7mgG7aEidJidnHChvYMyiSlH5Eb7d5XF701RNfd2pyqiMsWuR7XIRKqbg5nVaRLVSxhI_PZuyeLLXFfuQOOUEEH3O4x8TtoLDTDqh3XXNEvuvpbeGhKF5s-1pas3Rs71fp68EvpdA6pzXRHf7ISVxERNAvGKW4VofgktbUFVJaVR_-0kkOUho_xe0e5hUN6p1SIDBKwtRj8EGRe1QFqVMDIeju0Di6xrKaZzDvlDNKfBnClB7JBJx6jukVVzfEgplRHqPlyS47HcSra_5VdeW1Hse6SJO5yeUrVLR0yM-D1-o_JOyUYCX7COWQjxv3qhLh2gpv3RiMoLGeA8P6rUl7mnC9tNmYxA==&p=5&sk=&fvj=0\n",
      "/cmp/State-Street\n",
      "/cmp/State-Street/reviews\n",
      "#\n",
      "/jobs?q=data+scientist+%2420%2C000&l=New+York\n",
      "/jobs?q=data+scientist+%2420%2C000&l=New+York\n",
      "/jobs?q=data+scientist+%2420%2C000&l=New+York&start=20&pp=ABQAAAAAAAAAAAAAAAEIcZspAQEBCADAU9aIekd2CxREs0SyWs42x3AVZnah_wu7ts9U8ZPR6T3lt3Y8qaDRq5oeMrGHu6bDXZtI\n",
      "/jobs?q=data+scientist+%2420%2C000&l=New+York&start=30&pp=AB4AAAAAAAAAAAAAAAEIcZspAQEBES70dCJW_iIaiFws5efC-5i45j-mJAQfshbVkWLYSfbkwpJTgyh--VNn58tIZeQYDET5Liu4BPLJno8WeuWV9E6ac9HSNIbqEMc\n",
      "/jobs?q=data+scientist+%2420%2C000&l=New+York&start=40&pp=ACgAAAAAAAAAAAAAAAEIcZspAQEBEwDFEb_oPisqRXiBG4EBMP_BmM1-5jBWOiLhaexNgti98C_fnkPA76tUk5kdHYz6xZA_Cf4-3tuCGywJFUZRGLPqQ2T6dzHWprXXxaLeSzODkdILs1HDEmklt97OWQ\n",
      "/jobs?q=data+scientist+%2420%2C000&l=New+York&start=50&pp=ADIAAAAAAAAAAAAAAAEIcZspAQIBGDgGAsDN5xAnLo5IdUig1-G4KvufDM1e3nEZUZ3w3RQWaRO1sSHAL_aSELVhPEl0BmvCfTI6h6P0q0GEn__z2uxWBymVW_ws_uuDiUuV_rJ86bXpQ7ppzFw5EPqLuOV_AFgw72MVN4oYJ74\n",
      "/jobs?q=data+scientist+%2420%2C000&l=New+York&start=20&pp=ABQAAAAAAAAAAAAAAAEIcZspAQEBCADAU9aIekd2CxREs0SyWs42x3AVZnah_wu7ts9U8ZPR6T3lt3Y8qaDRq5oeMrGHu6bDXZtI\n",
      "/cmp/Accenture\n",
      "/cmp/Accenture\n",
      "/jobs?q=company%3A%22Accenture%22&l=New+York\n",
      "/cmp/Accenture/reviews\n",
      "/cmp/Accenture/photos\n",
      "/cmp/Accenture/salaries\n",
      "/promo/prime\n",
      "/promo/gotajob\n",
      "/\n",
      "/Best-Places-to-Work\n",
      "/salaries\n",
      "/jobtrends\n",
      "/forum\n",
      "/find-jobs.jsp\n",
      "/tools/jobseeker/\n",
      "http://www.indeed.jobs\n",
      "/publisher\n",
      "/intl/en/about.html\n",
      "https://indeed.zendesk.com/hc/en-us\n",
      "/legal\n"
     ]
    }
   ],
   "source": [
    "# for link in soup.findAll('a'):\n",
    "#     print link.get('href')"
   ]
  },
  {
   "cell_type": "code",
   "execution_count": 163,
   "metadata": {
    "collapsed": false
   },
   "outputs": [],
   "source": [
    "# data_science = pd.DataFrame(columns=[\"company\",\"title\",\"location\",\"salary\"])\n",
    "\n",
    "# results = soup.find_all('a', {'data-tn-element':'jobTitle'})"
   ]
  },
  {
   "cell_type": "code",
   "execution_count": null,
   "metadata": {
    "collapsed": true
   },
   "outputs": [],
   "source": [
    "# 'div',{'class':'lastRow row result'}\n",
    "# 'div',{'class':'row sjlast result'}\n",
    "# 'div',{'class':'row result'}"
   ]
  },
  {
   "cell_type": "code",
   "execution_count": 193,
   "metadata": {
    "collapsed": true
   },
   "outputs": [
    {
     "name": "stdout",
     "output_type": "stream",
     "text": [
      "\n",
      "    Elti Solutions\n",
      "[<a class=\"jobtitle turnstileLink\" data-tn-element=\"jobTitle\" href=\"/pagead/clk?mo=r&amp;ad=-6NYlbfkN0A685IVOxDeoatz6vIylE5AY46nGr72CYzX_Ik6NYY6DysZHJzt1oXqY-wYsA5DaSAr0ANStCS2iTmVuqefNPzIvfkx-2JSX5kjSV4ZCn39wc0_czIKVrfX0cyQ3MDQpp34SMMDG5RyPgVWujoZrLu1-vtdVQIY--lsM-SsCXQgYKPPqLppaD-clNDISMMn9RsSDgRKsLLx7SDw2UQR1dvkl1iq75GtIMU-XKvymLscpl9C9jE-NPLDEkC1N5td6UQFp7v0Du42AXRhEQkj6o_ycvMukxsv15BWeiEnqqWCexbsq1KxzilTwUQCr1OScGzeiDEOn89qZJhkH6fJxdiejMdJVdkFiIUqGnT51fWQBstdlQUDLk7IwZJ_CsMLA3t2qqmvuknAs3ASfD4UxsmTfnyyOLwGspg=&amp;p=1&amp;sk=&amp;fvj=0\" id=\"sja1\" onclick=\"setRefineByCookie(['salest']); sjoc('sja1',0); convCtr('SJ', pingUrlsForGA)\" onmousedown=\"sjomd('sja1'); clk('sja1');\" rel=\"nofollow\" target=\"_blank\" title=\"Data Scientist, Workforce Intelligence\"><b>Data</b> <b>Scientist</b>, Workforce Intelligence</a>, <a class=\"jobtitle turnstileLink\" data-tn-element=\"jobTitle\" href=\"/pagead/clk?mo=r&amp;ad=-6NYlbfkN0Cn4Im-s36KJ-1O3dXdgPBebtUcKxZsLGiQHs_Un5nwi5wiOpqYbWjwBHgqhi9HrMUTpvrXyiGOkPiPQ7tks79zZZ__L7w2hxL-PdCgrX7NfMmphU0a4pg0udDfJtItRv3luKmJHXOfLMOVDqnUazVHsADHOhLzUoceF4Vsdao81KqJ3eZEZHfZ6GkN0RbFUEFLWuhY7u9g9o8CwvYMvCWUkSrgKpl1D0ORLKeaG2vHt2kQkj3w4UCQFmucFbaW9rE64-YSg_zKnHPX8_TiwpUo_uP-7kTVMYio3DF4pSY_exWCEw42-7YYGXES9Lxx1GufOGNXe9ZtiD8Un7ZSyecrScGmCrgGliGImVBl1BLZ8SKeigdCRiRBW76vqA5awINAGYG2TioRr7noyg4029oCkFz6AtYf901GuXKETF7pECiF98eetChGITx4J43bNdHgodN5niZONxI20oot-OUxD4IErcQaQuHRnY_Z2NOO6_PzAawS5BVgUrfJtsH09hSbsRJw0tF3zIiF7GA1u1jbWtd48jJ0NUrA_aXeL92qACVRirAuCtL-D6ghz13XH1QXE3lEYz_NIr7-fLdnDhvguEMp4PGWTOc=&amp;p=2&amp;sk=&amp;fvj=0\" id=\"sja2\" onclick=\"setRefineByCookie(['salest']); sjoc('sja2',1); convCtr('SJ', pingUrlsForGA)\" onmousedown=\"sjomd('sja2'); clk('sja2');\" rel=\"nofollow\" target=\"_blank\" title=\"Data Scientist\"><b>Data</b> <b>Scientist</b></a>, <a class=\"jobtitle turnstileLink\" data-tn-element=\"jobTitle\" href=\"/pagead/clk?mo=r&amp;ad=-6NYlbfkN0D-8NnA5uVQKDkAtHzTcLMov1KPiEqpKe-vlWczONZXG4AooBa1LsCvmr8e7GI7juflFtAYTjmbWRdZcv0cve6Rygtk7PvxfrrEUAGt55HaR7bbjHKTU7cbbRelnc13JHfZs3QA87_vsJknQCwm6IqafbNDwEMJPikc3meB-6do7Hs_Hd_onHFQX0XNsEZmYmivdzkkEO383LfUj5rgWCdqumQcIiP19WE9e1gjkZH88DVq_nPjVxUKW4LP7083nub57rAZ_tz3yjAVwgRwRGhZLXou2lpCl7R2qQMQ38mRX4N6rMF_UT6TCS4Usz9kTuaeIrwJK8DjC2FoiXYAFG5KJhbKX4hDIXgkOhsxqRO2Uzrapl28vO1Tlpqpri5KRiT3RoMN-ajipuGSYCfcG17HW9qDEnoOSWFeQ3WyDLhlzQz6HE0FluqyANEGKLrLW_cfyM53gGDVBhZgRqUKFtMcFZxpX3UBx3r-dHQ3DnyPjvJVMscntEoUalOqdXnV9G8Vnucshixx8uT8_7JoDhVSOSopuD-Jwrk=&amp;p=3&amp;sk=&amp;fvj=0\" id=\"sja3\" onclick=\"setRefineByCookie(['salest']); sjoc('sja3',0); convCtr('SJ', pingUrlsForGA)\" onmousedown=\"sjomd('sja3'); clk('sja3');\" rel=\"nofollow\" target=\"_blank\" title=\"Research Analyst/Accountant III\">Research Analyst/Accountant III</a>, <a class=\"jobtitle turnstileLink\" data-tn-element=\"jobTitle\" href=\"/pagead/clk?mo=r&amp;ad=-6NYlbfkN0C643Sflugd-K2GhfIkdp7ER3rWOneS7bpzaR_MIcptfdHueUOK83QGLUezKslIQzOjvDDRekSwJR0-KAYgDGYguNacjYc8RSULLTjxC4YHBCagEDqugsjSaB6EIMJhirS413GeubJC9-97YvtnqiHHMS4mZuqG74kxxqnmgNszNX8BC4pNg7Jf7z69PYnZ5pBUUoa0qnkRt2AbsOpzTLjSXonkychl-3ArPKyQJbGqEsibJQfEGu92AzrhN2rXNOgsJVTSuSPZATenIRz2PwMC1csDOlo0eraLRl79OZnZn_Ou_BBryYi76rxsBmLDxP4j93RdaferFqXE9FyXOP72Hy4rm1OEiK5GjxJsancu1Bo_ftrGGjFt9UKkARjCLLplgSRKGE4BqrPefqH5wrMm_-D-QsUg_JaIIgl9LTjPuStTqWhH-Dq4KraQJI1_BXN9jjDQrkKrbDbwzm9B0vvgvl-RUrv-QiMLq0dau1npbkJP7aG--0ZMtFKdtjF9g5glKDfCpQSKETBSCPxYalBYBZIXcIyhLHbQ2LFedhrRLzHogAKLLLVsmzc60dSKMye3a4ZML76xOu_z3xlHR8tRUOYVinPDM7k=&amp;p=4&amp;sk=&amp;fvj=0\" id=\"sja4\" onclick=\"setRefineByCookie(['salest']); sjoc('sja4',0); convCtr('SJ', pingUrlsForGA)\" onmousedown=\"sjomd('sja4'); clk('sja4');\" rel=\"nofollow\" target=\"_blank\" title=\"Senior Quantitative Analyst, global investments strategies\">Senior Quantitative Analyst, global investments strategies</a>, <a class=\"jobtitle turnstileLink\" data-tn-element=\"jobTitle\" href=\"/pagead/clk?mo=r&amp;ad=-6NYlbfkN0BSCWuGwTuu3QMrdTW-t4zrCEiaThb9Yemd6Ku5rGHTKi7lSdTw8LbXM_9I3SxTOqfTvbwqKd-ayGpPtEWebfwsg-TZ6oGs7N3icrxzN8g2z3SyXVv3x-W38trazCFJ9lQZ-0B3gz9R3y_etwITqsiwTy_k3k8V5LehGDl27J2CB277t4NJziisGNNGQe2IFnkibYQqH1Nn8uNa5BRF6pHIb1kc7EsqiATV7x4uq9Q99ApoUPxwIsejW0Sc_nrpDztQ6oloe9UZekKhRTRrx1wRmfm4IaW5DQLjliT7LAlDcbq4ZzEoAamBQOgwXjxXWGNFkkCtwVY7vtdpQ-vPPBAMLKix_yuLliYQjqiGoIdI8mLJYphxZD6ZiU6RoQXy9ZFO9kQMzwmB4YJhHb3uzW_8FkcUnZ_97C_tdqIKglfuFkXgrHnWYJmxGfFLKdjZIbeU2PO0Ily7YDl6bgIrnPNUpgS8J0CNnd6yunoqxDOlinelczMSIWMB6yMhNmRgoyrMKZaSAYNg8DNSY0FBKfTqpsNwETmW_w-ph2_6c-j95Anke8oCKPshzR_gP_NT8F4ainOvJV8el34p_EQkwza025aB7EcSet3GPuBUjiSuAXMSczRPgXkOig05uk4SRt47hYT9jxE75lqiPMNLD8DHLCwk-pZCnuCI08MjAEgsZdez2zQcUbKuGbQEjb1y62p6AR4sfWCixobQ6Mo9aj9KsD82Rf8ERU3iBdNde2VAuQ2hBz4TV4heFTt4H3vkx3tLPkpyqECsOfhGNloKglXlovFHhs3XLT0Si9YdNavSntxsF7TpF4v53JZYD7wbij038u6hOhHsqg==&amp;p=5&amp;sk=&amp;fvj=0\" id=\"sja5\" onclick=\"setRefineByCookie(['salest']); sjoc('sja5',0); convCtr('SJ', pingUrlsForGA)\" onmousedown=\"sjomd('sja5'); clk('sja5');\" rel=\"nofollow\" target=\"_blank\" title=\"Data Analyst\"><b>Data</b> Analyst</a>]\n",
      "New York, NY\n",
      "\n",
      "    Elti Solutions\n",
      "[<a class=\"jobtitle turnstileLink\" data-tn-element=\"jobTitle\" href=\"/pagead/clk?mo=r&amp;ad=-6NYlbfkN0A685IVOxDeoatz6vIylE5AY46nGr72CYzX_Ik6NYY6DysZHJzt1oXqY-wYsA5DaSAr0ANStCS2iTmVuqefNPzIvfkx-2JSX5kjSV4ZCn39wc0_czIKVrfX0cyQ3MDQpp34SMMDG5RyPgVWujoZrLu1-vtdVQIY--lsM-SsCXQgYKPPqLppaD-clNDISMMn9RsSDgRKsLLx7SDw2UQR1dvkl1iq75GtIMU-XKvymLscpl9C9jE-NPLDEkC1N5td6UQFp7v0Du42AXRhEQkj6o_ycvMukxsv15BWeiEnqqWCexbsq1KxzilTwUQCr1OScGzeiDEOn89qZJhkH6fJxdiejMdJVdkFiIUqGnT51fWQBstdlQUDLk7IwZJ_CsMLA3t2qqmvuknAs3ASfD4UxsmTfnyyOLwGspg=&amp;p=1&amp;sk=&amp;fvj=0\" id=\"sja1\" onclick=\"setRefineByCookie(['salest']); sjoc('sja1',0); convCtr('SJ', pingUrlsForGA)\" onmousedown=\"sjomd('sja1'); clk('sja1');\" rel=\"nofollow\" target=\"_blank\" title=\"Data Scientist, Workforce Intelligence\"><b>Data</b> <b>Scientist</b>, Workforce Intelligence</a>, <a class=\"jobtitle turnstileLink\" data-tn-element=\"jobTitle\" href=\"/pagead/clk?mo=r&amp;ad=-6NYlbfkN0Cn4Im-s36KJ-1O3dXdgPBebtUcKxZsLGiQHs_Un5nwi5wiOpqYbWjwBHgqhi9HrMUTpvrXyiGOkPiPQ7tks79zZZ__L7w2hxL-PdCgrX7NfMmphU0a4pg0udDfJtItRv3luKmJHXOfLMOVDqnUazVHsADHOhLzUoceF4Vsdao81KqJ3eZEZHfZ6GkN0RbFUEFLWuhY7u9g9o8CwvYMvCWUkSrgKpl1D0ORLKeaG2vHt2kQkj3w4UCQFmucFbaW9rE64-YSg_zKnHPX8_TiwpUo_uP-7kTVMYio3DF4pSY_exWCEw42-7YYGXES9Lxx1GufOGNXe9ZtiD8Un7ZSyecrScGmCrgGliGImVBl1BLZ8SKeigdCRiRBW76vqA5awINAGYG2TioRr7noyg4029oCkFz6AtYf901GuXKETF7pECiF98eetChGITx4J43bNdHgodN5niZONxI20oot-OUxD4IErcQaQuHRnY_Z2NOO6_PzAawS5BVgUrfJtsH09hSbsRJw0tF3zIiF7GA1u1jbWtd48jJ0NUrA_aXeL92qACVRirAuCtL-D6ghz13XH1QXE3lEYz_NIr7-fLdnDhvguEMp4PGWTOc=&amp;p=2&amp;sk=&amp;fvj=0\" id=\"sja2\" onclick=\"setRefineByCookie(['salest']); sjoc('sja2',1); convCtr('SJ', pingUrlsForGA)\" onmousedown=\"sjomd('sja2'); clk('sja2');\" rel=\"nofollow\" target=\"_blank\" title=\"Data Scientist\"><b>Data</b> <b>Scientist</b></a>, <a class=\"jobtitle turnstileLink\" data-tn-element=\"jobTitle\" href=\"/pagead/clk?mo=r&amp;ad=-6NYlbfkN0D-8NnA5uVQKDkAtHzTcLMov1KPiEqpKe-vlWczONZXG4AooBa1LsCvmr8e7GI7juflFtAYTjmbWRdZcv0cve6Rygtk7PvxfrrEUAGt55HaR7bbjHKTU7cbbRelnc13JHfZs3QA87_vsJknQCwm6IqafbNDwEMJPikc3meB-6do7Hs_Hd_onHFQX0XNsEZmYmivdzkkEO383LfUj5rgWCdqumQcIiP19WE9e1gjkZH88DVq_nPjVxUKW4LP7083nub57rAZ_tz3yjAVwgRwRGhZLXou2lpCl7R2qQMQ38mRX4N6rMF_UT6TCS4Usz9kTuaeIrwJK8DjC2FoiXYAFG5KJhbKX4hDIXgkOhsxqRO2Uzrapl28vO1Tlpqpri5KRiT3RoMN-ajipuGSYCfcG17HW9qDEnoOSWFeQ3WyDLhlzQz6HE0FluqyANEGKLrLW_cfyM53gGDVBhZgRqUKFtMcFZxpX3UBx3r-dHQ3DnyPjvJVMscntEoUalOqdXnV9G8Vnucshixx8uT8_7JoDhVSOSopuD-Jwrk=&amp;p=3&amp;sk=&amp;fvj=0\" id=\"sja3\" onclick=\"setRefineByCookie(['salest']); sjoc('sja3',0); convCtr('SJ', pingUrlsForGA)\" onmousedown=\"sjomd('sja3'); clk('sja3');\" rel=\"nofollow\" target=\"_blank\" title=\"Research Analyst/Accountant III\">Research Analyst/Accountant III</a>, <a class=\"jobtitle turnstileLink\" data-tn-element=\"jobTitle\" href=\"/pagead/clk?mo=r&amp;ad=-6NYlbfkN0C643Sflugd-K2GhfIkdp7ER3rWOneS7bpzaR_MIcptfdHueUOK83QGLUezKslIQzOjvDDRekSwJR0-KAYgDGYguNacjYc8RSULLTjxC4YHBCagEDqugsjSaB6EIMJhirS413GeubJC9-97YvtnqiHHMS4mZuqG74kxxqnmgNszNX8BC4pNg7Jf7z69PYnZ5pBUUoa0qnkRt2AbsOpzTLjSXonkychl-3ArPKyQJbGqEsibJQfEGu92AzrhN2rXNOgsJVTSuSPZATenIRz2PwMC1csDOlo0eraLRl79OZnZn_Ou_BBryYi76rxsBmLDxP4j93RdaferFqXE9FyXOP72Hy4rm1OEiK5GjxJsancu1Bo_ftrGGjFt9UKkARjCLLplgSRKGE4BqrPefqH5wrMm_-D-QsUg_JaIIgl9LTjPuStTqWhH-Dq4KraQJI1_BXN9jjDQrkKrbDbwzm9B0vvgvl-RUrv-QiMLq0dau1npbkJP7aG--0ZMtFKdtjF9g5glKDfCpQSKETBSCPxYalBYBZIXcIyhLHbQ2LFedhrRLzHogAKLLLVsmzc60dSKMye3a4ZML76xOu_z3xlHR8tRUOYVinPDM7k=&amp;p=4&amp;sk=&amp;fvj=0\" id=\"sja4\" onclick=\"setRefineByCookie(['salest']); sjoc('sja4',0); convCtr('SJ', pingUrlsForGA)\" onmousedown=\"sjomd('sja4'); clk('sja4');\" rel=\"nofollow\" target=\"_blank\" title=\"Senior Quantitative Analyst, global investments strategies\">Senior Quantitative Analyst, global investments strategies</a>, <a class=\"jobtitle turnstileLink\" data-tn-element=\"jobTitle\" href=\"/pagead/clk?mo=r&amp;ad=-6NYlbfkN0BSCWuGwTuu3QMrdTW-t4zrCEiaThb9Yemd6Ku5rGHTKi7lSdTw8LbXM_9I3SxTOqfTvbwqKd-ayGpPtEWebfwsg-TZ6oGs7N3icrxzN8g2z3SyXVv3x-W38trazCFJ9lQZ-0B3gz9R3y_etwITqsiwTy_k3k8V5LehGDl27J2CB277t4NJziisGNNGQe2IFnkibYQqH1Nn8uNa5BRF6pHIb1kc7EsqiATV7x4uq9Q99ApoUPxwIsejW0Sc_nrpDztQ6oloe9UZekKhRTRrx1wRmfm4IaW5DQLjliT7LAlDcbq4ZzEoAamBQOgwXjxXWGNFkkCtwVY7vtdpQ-vPPBAMLKix_yuLliYQjqiGoIdI8mLJYphxZD6ZiU6RoQXy9ZFO9kQMzwmB4YJhHb3uzW_8FkcUnZ_97C_tdqIKglfuFkXgrHnWYJmxGfFLKdjZIbeU2PO0Ily7YDl6bgIrnPNUpgS8J0CNnd6yunoqxDOlinelczMSIWMB6yMhNmRgoyrMKZaSAYNg8DNSY0FBKfTqpsNwETmW_w-ph2_6c-j95Anke8oCKPshzR_gP_NT8F4ainOvJV8el34p_EQkwza025aB7EcSet3GPuBUjiSuAXMSczRPgXkOig05uk4SRt47hYT9jxE75lqiPMNLD8DHLCwk-pZCnuCI08MjAEgsZdez2zQcUbKuGbQEjb1y62p6AR4sfWCixobQ6Mo9aj9KsD82Rf8ERU3iBdNde2VAuQ2hBz4TV4heFTt4H3vkx3tLPkpyqECsOfhGNloKglXlovFHhs3XLT0Si9YdNavSntxsF7TpF4v53JZYD7wbij038u6hOhHsqg==&amp;p=5&amp;sk=&amp;fvj=0\" id=\"sja5\" onclick=\"setRefineByCookie(['salest']); sjoc('sja5',0); convCtr('SJ', pingUrlsForGA)\" onmousedown=\"sjomd('sja5'); clk('sja5');\" rel=\"nofollow\" target=\"_blank\" title=\"Data Analyst\"><b>Data</b> Analyst</a>]\n",
      "New York, NY\n",
      "\n",
      "    Elti Solutions\n",
      "[<a class=\"jobtitle turnstileLink\" data-tn-element=\"jobTitle\" href=\"/pagead/clk?mo=r&amp;ad=-6NYlbfkN0A685IVOxDeoatz6vIylE5AY46nGr72CYzX_Ik6NYY6DysZHJzt1oXqY-wYsA5DaSAr0ANStCS2iTmVuqefNPzIvfkx-2JSX5kjSV4ZCn39wc0_czIKVrfX0cyQ3MDQpp34SMMDG5RyPgVWujoZrLu1-vtdVQIY--lsM-SsCXQgYKPPqLppaD-clNDISMMn9RsSDgRKsLLx7SDw2UQR1dvkl1iq75GtIMU-XKvymLscpl9C9jE-NPLDEkC1N5td6UQFp7v0Du42AXRhEQkj6o_ycvMukxsv15BWeiEnqqWCexbsq1KxzilTwUQCr1OScGzeiDEOn89qZJhkH6fJxdiejMdJVdkFiIUqGnT51fWQBstdlQUDLk7IwZJ_CsMLA3t2qqmvuknAs3ASfD4UxsmTfnyyOLwGspg=&amp;p=1&amp;sk=&amp;fvj=0\" id=\"sja1\" onclick=\"setRefineByCookie(['salest']); sjoc('sja1',0); convCtr('SJ', pingUrlsForGA)\" onmousedown=\"sjomd('sja1'); clk('sja1');\" rel=\"nofollow\" target=\"_blank\" title=\"Data Scientist, Workforce Intelligence\"><b>Data</b> <b>Scientist</b>, Workforce Intelligence</a>, <a class=\"jobtitle turnstileLink\" data-tn-element=\"jobTitle\" href=\"/pagead/clk?mo=r&amp;ad=-6NYlbfkN0Cn4Im-s36KJ-1O3dXdgPBebtUcKxZsLGiQHs_Un5nwi5wiOpqYbWjwBHgqhi9HrMUTpvrXyiGOkPiPQ7tks79zZZ__L7w2hxL-PdCgrX7NfMmphU0a4pg0udDfJtItRv3luKmJHXOfLMOVDqnUazVHsADHOhLzUoceF4Vsdao81KqJ3eZEZHfZ6GkN0RbFUEFLWuhY7u9g9o8CwvYMvCWUkSrgKpl1D0ORLKeaG2vHt2kQkj3w4UCQFmucFbaW9rE64-YSg_zKnHPX8_TiwpUo_uP-7kTVMYio3DF4pSY_exWCEw42-7YYGXES9Lxx1GufOGNXe9ZtiD8Un7ZSyecrScGmCrgGliGImVBl1BLZ8SKeigdCRiRBW76vqA5awINAGYG2TioRr7noyg4029oCkFz6AtYf901GuXKETF7pECiF98eetChGITx4J43bNdHgodN5niZONxI20oot-OUxD4IErcQaQuHRnY_Z2NOO6_PzAawS5BVgUrfJtsH09hSbsRJw0tF3zIiF7GA1u1jbWtd48jJ0NUrA_aXeL92qACVRirAuCtL-D6ghz13XH1QXE3lEYz_NIr7-fLdnDhvguEMp4PGWTOc=&amp;p=2&amp;sk=&amp;fvj=0\" id=\"sja2\" onclick=\"setRefineByCookie(['salest']); sjoc('sja2',1); convCtr('SJ', pingUrlsForGA)\" onmousedown=\"sjomd('sja2'); clk('sja2');\" rel=\"nofollow\" target=\"_blank\" title=\"Data Scientist\"><b>Data</b> <b>Scientist</b></a>, <a class=\"jobtitle turnstileLink\" data-tn-element=\"jobTitle\" href=\"/pagead/clk?mo=r&amp;ad=-6NYlbfkN0D-8NnA5uVQKDkAtHzTcLMov1KPiEqpKe-vlWczONZXG4AooBa1LsCvmr8e7GI7juflFtAYTjmbWRdZcv0cve6Rygtk7PvxfrrEUAGt55HaR7bbjHKTU7cbbRelnc13JHfZs3QA87_vsJknQCwm6IqafbNDwEMJPikc3meB-6do7Hs_Hd_onHFQX0XNsEZmYmivdzkkEO383LfUj5rgWCdqumQcIiP19WE9e1gjkZH88DVq_nPjVxUKW4LP7083nub57rAZ_tz3yjAVwgRwRGhZLXou2lpCl7R2qQMQ38mRX4N6rMF_UT6TCS4Usz9kTuaeIrwJK8DjC2FoiXYAFG5KJhbKX4hDIXgkOhsxqRO2Uzrapl28vO1Tlpqpri5KRiT3RoMN-ajipuGSYCfcG17HW9qDEnoOSWFeQ3WyDLhlzQz6HE0FluqyANEGKLrLW_cfyM53gGDVBhZgRqUKFtMcFZxpX3UBx3r-dHQ3DnyPjvJVMscntEoUalOqdXnV9G8Vnucshixx8uT8_7JoDhVSOSopuD-Jwrk=&amp;p=3&amp;sk=&amp;fvj=0\" id=\"sja3\" onclick=\"setRefineByCookie(['salest']); sjoc('sja3',0); convCtr('SJ', pingUrlsForGA)\" onmousedown=\"sjomd('sja3'); clk('sja3');\" rel=\"nofollow\" target=\"_blank\" title=\"Research Analyst/Accountant III\">Research Analyst/Accountant III</a>, <a class=\"jobtitle turnstileLink\" data-tn-element=\"jobTitle\" href=\"/pagead/clk?mo=r&amp;ad=-6NYlbfkN0C643Sflugd-K2GhfIkdp7ER3rWOneS7bpzaR_MIcptfdHueUOK83QGLUezKslIQzOjvDDRekSwJR0-KAYgDGYguNacjYc8RSULLTjxC4YHBCagEDqugsjSaB6EIMJhirS413GeubJC9-97YvtnqiHHMS4mZuqG74kxxqnmgNszNX8BC4pNg7Jf7z69PYnZ5pBUUoa0qnkRt2AbsOpzTLjSXonkychl-3ArPKyQJbGqEsibJQfEGu92AzrhN2rXNOgsJVTSuSPZATenIRz2PwMC1csDOlo0eraLRl79OZnZn_Ou_BBryYi76rxsBmLDxP4j93RdaferFqXE9FyXOP72Hy4rm1OEiK5GjxJsancu1Bo_ftrGGjFt9UKkARjCLLplgSRKGE4BqrPefqH5wrMm_-D-QsUg_JaIIgl9LTjPuStTqWhH-Dq4KraQJI1_BXN9jjDQrkKrbDbwzm9B0vvgvl-RUrv-QiMLq0dau1npbkJP7aG--0ZMtFKdtjF9g5glKDfCpQSKETBSCPxYalBYBZIXcIyhLHbQ2LFedhrRLzHogAKLLLVsmzc60dSKMye3a4ZML76xOu_z3xlHR8tRUOYVinPDM7k=&amp;p=4&amp;sk=&amp;fvj=0\" id=\"sja4\" onclick=\"setRefineByCookie(['salest']); sjoc('sja4',0); convCtr('SJ', pingUrlsForGA)\" onmousedown=\"sjomd('sja4'); clk('sja4');\" rel=\"nofollow\" target=\"_blank\" title=\"Senior Quantitative Analyst, global investments strategies\">Senior Quantitative Analyst, global investments strategies</a>, <a class=\"jobtitle turnstileLink\" data-tn-element=\"jobTitle\" href=\"/pagead/clk?mo=r&amp;ad=-6NYlbfkN0BSCWuGwTuu3QMrdTW-t4zrCEiaThb9Yemd6Ku5rGHTKi7lSdTw8LbXM_9I3SxTOqfTvbwqKd-ayGpPtEWebfwsg-TZ6oGs7N3icrxzN8g2z3SyXVv3x-W38trazCFJ9lQZ-0B3gz9R3y_etwITqsiwTy_k3k8V5LehGDl27J2CB277t4NJziisGNNGQe2IFnkibYQqH1Nn8uNa5BRF6pHIb1kc7EsqiATV7x4uq9Q99ApoUPxwIsejW0Sc_nrpDztQ6oloe9UZekKhRTRrx1wRmfm4IaW5DQLjliT7LAlDcbq4ZzEoAamBQOgwXjxXWGNFkkCtwVY7vtdpQ-vPPBAMLKix_yuLliYQjqiGoIdI8mLJYphxZD6ZiU6RoQXy9ZFO9kQMzwmB4YJhHb3uzW_8FkcUnZ_97C_tdqIKglfuFkXgrHnWYJmxGfFLKdjZIbeU2PO0Ily7YDl6bgIrnPNUpgS8J0CNnd6yunoqxDOlinelczMSIWMB6yMhNmRgoyrMKZaSAYNg8DNSY0FBKfTqpsNwETmW_w-ph2_6c-j95Anke8oCKPshzR_gP_NT8F4ainOvJV8el34p_EQkwza025aB7EcSet3GPuBUjiSuAXMSczRPgXkOig05uk4SRt47hYT9jxE75lqiPMNLD8DHLCwk-pZCnuCI08MjAEgsZdez2zQcUbKuGbQEjb1y62p6AR4sfWCixobQ6Mo9aj9KsD82Rf8ERU3iBdNde2VAuQ2hBz4TV4heFTt4H3vkx3tLPkpyqECsOfhGNloKglXlovFHhs3XLT0Si9YdNavSntxsF7TpF4v53JZYD7wbij038u6hOhHsqg==&amp;p=5&amp;sk=&amp;fvj=0\" id=\"sja5\" onclick=\"setRefineByCookie(['salest']); sjoc('sja5',0); convCtr('SJ', pingUrlsForGA)\" onmousedown=\"sjomd('sja5'); clk('sja5');\" rel=\"nofollow\" target=\"_blank\" title=\"Data Analyst\"><b>Data</b> Analyst</a>]\n",
      "New York, NY\n",
      "\n",
      "    Elti Solutions\n",
      "[<a class=\"jobtitle turnstileLink\" data-tn-element=\"jobTitle\" href=\"/pagead/clk?mo=r&amp;ad=-6NYlbfkN0A685IVOxDeoatz6vIylE5AY46nGr72CYzX_Ik6NYY6DysZHJzt1oXqY-wYsA5DaSAr0ANStCS2iTmVuqefNPzIvfkx-2JSX5kjSV4ZCn39wc0_czIKVrfX0cyQ3MDQpp34SMMDG5RyPgVWujoZrLu1-vtdVQIY--lsM-SsCXQgYKPPqLppaD-clNDISMMn9RsSDgRKsLLx7SDw2UQR1dvkl1iq75GtIMU-XKvymLscpl9C9jE-NPLDEkC1N5td6UQFp7v0Du42AXRhEQkj6o_ycvMukxsv15BWeiEnqqWCexbsq1KxzilTwUQCr1OScGzeiDEOn89qZJhkH6fJxdiejMdJVdkFiIUqGnT51fWQBstdlQUDLk7IwZJ_CsMLA3t2qqmvuknAs3ASfD4UxsmTfnyyOLwGspg=&amp;p=1&amp;sk=&amp;fvj=0\" id=\"sja1\" onclick=\"setRefineByCookie(['salest']); sjoc('sja1',0); convCtr('SJ', pingUrlsForGA)\" onmousedown=\"sjomd('sja1'); clk('sja1');\" rel=\"nofollow\" target=\"_blank\" title=\"Data Scientist, Workforce Intelligence\"><b>Data</b> <b>Scientist</b>, Workforce Intelligence</a>, <a class=\"jobtitle turnstileLink\" data-tn-element=\"jobTitle\" href=\"/pagead/clk?mo=r&amp;ad=-6NYlbfkN0Cn4Im-s36KJ-1O3dXdgPBebtUcKxZsLGiQHs_Un5nwi5wiOpqYbWjwBHgqhi9HrMUTpvrXyiGOkPiPQ7tks79zZZ__L7w2hxL-PdCgrX7NfMmphU0a4pg0udDfJtItRv3luKmJHXOfLMOVDqnUazVHsADHOhLzUoceF4Vsdao81KqJ3eZEZHfZ6GkN0RbFUEFLWuhY7u9g9o8CwvYMvCWUkSrgKpl1D0ORLKeaG2vHt2kQkj3w4UCQFmucFbaW9rE64-YSg_zKnHPX8_TiwpUo_uP-7kTVMYio3DF4pSY_exWCEw42-7YYGXES9Lxx1GufOGNXe9ZtiD8Un7ZSyecrScGmCrgGliGImVBl1BLZ8SKeigdCRiRBW76vqA5awINAGYG2TioRr7noyg4029oCkFz6AtYf901GuXKETF7pECiF98eetChGITx4J43bNdHgodN5niZONxI20oot-OUxD4IErcQaQuHRnY_Z2NOO6_PzAawS5BVgUrfJtsH09hSbsRJw0tF3zIiF7GA1u1jbWtd48jJ0NUrA_aXeL92qACVRirAuCtL-D6ghz13XH1QXE3lEYz_NIr7-fLdnDhvguEMp4PGWTOc=&amp;p=2&amp;sk=&amp;fvj=0\" id=\"sja2\" onclick=\"setRefineByCookie(['salest']); sjoc('sja2',1); convCtr('SJ', pingUrlsForGA)\" onmousedown=\"sjomd('sja2'); clk('sja2');\" rel=\"nofollow\" target=\"_blank\" title=\"Data Scientist\"><b>Data</b> <b>Scientist</b></a>, <a class=\"jobtitle turnstileLink\" data-tn-element=\"jobTitle\" href=\"/pagead/clk?mo=r&amp;ad=-6NYlbfkN0D-8NnA5uVQKDkAtHzTcLMov1KPiEqpKe-vlWczONZXG4AooBa1LsCvmr8e7GI7juflFtAYTjmbWRdZcv0cve6Rygtk7PvxfrrEUAGt55HaR7bbjHKTU7cbbRelnc13JHfZs3QA87_vsJknQCwm6IqafbNDwEMJPikc3meB-6do7Hs_Hd_onHFQX0XNsEZmYmivdzkkEO383LfUj5rgWCdqumQcIiP19WE9e1gjkZH88DVq_nPjVxUKW4LP7083nub57rAZ_tz3yjAVwgRwRGhZLXou2lpCl7R2qQMQ38mRX4N6rMF_UT6TCS4Usz9kTuaeIrwJK8DjC2FoiXYAFG5KJhbKX4hDIXgkOhsxqRO2Uzrapl28vO1Tlpqpri5KRiT3RoMN-ajipuGSYCfcG17HW9qDEnoOSWFeQ3WyDLhlzQz6HE0FluqyANEGKLrLW_cfyM53gGDVBhZgRqUKFtMcFZxpX3UBx3r-dHQ3DnyPjvJVMscntEoUalOqdXnV9G8Vnucshixx8uT8_7JoDhVSOSopuD-Jwrk=&amp;p=3&amp;sk=&amp;fvj=0\" id=\"sja3\" onclick=\"setRefineByCookie(['salest']); sjoc('sja3',0); convCtr('SJ', pingUrlsForGA)\" onmousedown=\"sjomd('sja3'); clk('sja3');\" rel=\"nofollow\" target=\"_blank\" title=\"Research Analyst/Accountant III\">Research Analyst/Accountant III</a>, <a class=\"jobtitle turnstileLink\" data-tn-element=\"jobTitle\" href=\"/pagead/clk?mo=r&amp;ad=-6NYlbfkN0C643Sflugd-K2GhfIkdp7ER3rWOneS7bpzaR_MIcptfdHueUOK83QGLUezKslIQzOjvDDRekSwJR0-KAYgDGYguNacjYc8RSULLTjxC4YHBCagEDqugsjSaB6EIMJhirS413GeubJC9-97YvtnqiHHMS4mZuqG74kxxqnmgNszNX8BC4pNg7Jf7z69PYnZ5pBUUoa0qnkRt2AbsOpzTLjSXonkychl-3ArPKyQJbGqEsibJQfEGu92AzrhN2rXNOgsJVTSuSPZATenIRz2PwMC1csDOlo0eraLRl79OZnZn_Ou_BBryYi76rxsBmLDxP4j93RdaferFqXE9FyXOP72Hy4rm1OEiK5GjxJsancu1Bo_ftrGGjFt9UKkARjCLLplgSRKGE4BqrPefqH5wrMm_-D-QsUg_JaIIgl9LTjPuStTqWhH-Dq4KraQJI1_BXN9jjDQrkKrbDbwzm9B0vvgvl-RUrv-QiMLq0dau1npbkJP7aG--0ZMtFKdtjF9g5glKDfCpQSKETBSCPxYalBYBZIXcIyhLHbQ2LFedhrRLzHogAKLLLVsmzc60dSKMye3a4ZML76xOu_z3xlHR8tRUOYVinPDM7k=&amp;p=4&amp;sk=&amp;fvj=0\" id=\"sja4\" onclick=\"setRefineByCookie(['salest']); sjoc('sja4',0); convCtr('SJ', pingUrlsForGA)\" onmousedown=\"sjomd('sja4'); clk('sja4');\" rel=\"nofollow\" target=\"_blank\" title=\"Senior Quantitative Analyst, global investments strategies\">Senior Quantitative Analyst, global investments strategies</a>, <a class=\"jobtitle turnstileLink\" data-tn-element=\"jobTitle\" href=\"/pagead/clk?mo=r&amp;ad=-6NYlbfkN0BSCWuGwTuu3QMrdTW-t4zrCEiaThb9Yemd6Ku5rGHTKi7lSdTw8LbXM_9I3SxTOqfTvbwqKd-ayGpPtEWebfwsg-TZ6oGs7N3icrxzN8g2z3SyXVv3x-W38trazCFJ9lQZ-0B3gz9R3y_etwITqsiwTy_k3k8V5LehGDl27J2CB277t4NJziisGNNGQe2IFnkibYQqH1Nn8uNa5BRF6pHIb1kc7EsqiATV7x4uq9Q99ApoUPxwIsejW0Sc_nrpDztQ6oloe9UZekKhRTRrx1wRmfm4IaW5DQLjliT7LAlDcbq4ZzEoAamBQOgwXjxXWGNFkkCtwVY7vtdpQ-vPPBAMLKix_yuLliYQjqiGoIdI8mLJYphxZD6ZiU6RoQXy9ZFO9kQMzwmB4YJhHb3uzW_8FkcUnZ_97C_tdqIKglfuFkXgrHnWYJmxGfFLKdjZIbeU2PO0Ily7YDl6bgIrnPNUpgS8J0CNnd6yunoqxDOlinelczMSIWMB6yMhNmRgoyrMKZaSAYNg8DNSY0FBKfTqpsNwETmW_w-ph2_6c-j95Anke8oCKPshzR_gP_NT8F4ainOvJV8el34p_EQkwza025aB7EcSet3GPuBUjiSuAXMSczRPgXkOig05uk4SRt47hYT9jxE75lqiPMNLD8DHLCwk-pZCnuCI08MjAEgsZdez2zQcUbKuGbQEjb1y62p6AR4sfWCixobQ6Mo9aj9KsD82Rf8ERU3iBdNde2VAuQ2hBz4TV4heFTt4H3vkx3tLPkpyqECsOfhGNloKglXlovFHhs3XLT0Si9YdNavSntxsF7TpF4v53JZYD7wbij038u6hOhHsqg==&amp;p=5&amp;sk=&amp;fvj=0\" id=\"sja5\" onclick=\"setRefineByCookie(['salest']); sjoc('sja5',0); convCtr('SJ', pingUrlsForGA)\" onmousedown=\"sjomd('sja5'); clk('sja5');\" rel=\"nofollow\" target=\"_blank\" title=\"Data Analyst\"><b>Data</b> Analyst</a>]\n",
      "New York, NY\n"
     ]
    }
   ],
   "source": [
    "# #for entry in soup.find_all(name='a', attrs={'class': 'jobtitle turnstileLink'}):\n",
    "# for entry in soup:\n",
    "#     company = row.find('span', {'class':'company'}).text\n",
    "#     print company\n",
    "#     title =  soup.find_all(name='a', attrs={'class': 'jobtitle turnstileLink'})#row.find('span', {'data-tn-element':'jobTitle'})\n",
    "#     print title\n",
    "#     # grab the location \n",
    "#     location = row.find('span', {'class':'location'}).text\n",
    "#     print location\n",
    "#     # grab the price\n",
    "# #     try:\n",
    "# #         salary =  entry.find('div', {'class':'rest-row-pricing'}).find('i').renderContents().count('$')\n",
    "# #         match = re.search(r'\\d+', temp)\n",
    "# #         if match:\n",
    "# #             bookings = match.group()\n",
    "# #     except:\n",
    "# #         bookings = 'NA'\n",
    "#     data_science.loc[len(data_science)]=[company, location, title, salary]"
   ]
  },
  {
   "cell_type": "code",
   "execution_count": 26,
   "metadata": {
    "collapsed": true
   },
   "outputs": [],
   "source": [
    "# sort_by = 'date' # sort by date\n",
    "# start_from = '&start='"
   ]
  },
  {
   "cell_type": "markdown",
   "metadata": {},
   "source": [
    "Let's look at one result more closely. A single result looks like\n",
    "```JSON\n",
    "<div class=\" row result\" data-jk=\"2480d203f7e97210\" data-tn-component=\"organicJob\" id=\"p_2480d203f7e97210\" itemscope=\"\" itemtype=\"http://schema.org/JobPosting\">\n",
    "<h2 class=\"jobtitle\" id=\"jl_2480d203f7e97210\">\n",
    "<a class=\"turnstileLink\" data-tn-element=\"jobTitle\" onmousedown=\"return rclk(this,jobmap[0],1);\" rel=\"nofollow\" target=\"_blank\" title=\"AVP/Quantitative Analyst\">AVP/Quantitative Analyst</a>\n",
    "</h2>\n",
    "<span class=\"company\" itemprop=\"hiringOrganization\" itemtype=\"http://schema.org/Organization\">\n",
    "<span itemprop=\"name\">\n",
    "<a href=\"/cmp/Alliancebernstein?from=SERP&campaignid=serp-linkcompanyname&fromjk=2480d203f7e97210&jcid=b374f2a780e04789\" target=\"_blank\">\n",
    "    AllianceBernstein</a></span>\n",
    "</span>\n",
    "<tr>\n",
    "<td class=\"snip\">\n",
    "<nobr>$117,500 - $127,500 a year</nobr>\n",
    "<div>\n",
    "<span class=\"summary\" itemprop=\"description\">\n",
    "C onduct quantitative and statistical research as well as portfolio management for various investment portfolios. Collaborate with Quantitative Analysts and</span>\n",
    "</div>\n",
    "</div>\n",
    "</td>\n",
    "</tr>\n",
    "</table>\n",
    "</div>\n",
    "```"
   ]
  },
  {
   "cell_type": "markdown",
   "metadata": {},
   "source": [
    "While this has some more verbose elements removed, we can see that there is some structure to the above:\n",
    "- The salary is available in a nobr element inside of a td element with class='snip.\n",
    "- The title of a job is in a link with class set to jobtitle and a data-tn-element=\"jobTitle.\n",
    "- The location is set in a span with class='location'.\n",
    "- The company is set in a span with class='company'."
   ]
  },
  {
   "cell_type": "markdown",
   "metadata": {},
   "source": [
    "## Write 4 functions to extract each item: location, company, job, and salary.¶\n",
    "Example\n",
    "```python\n",
    "def extract_location_from_result(result):\n",
    "    return result.find ...\n",
    "```\n",
    "\n",
    "##### - Make sure these functions are robust and can handle cases where the data/field may not be available.\n",
    ">- Remember to check if a field is empty or None for attempting to call methods on it\n",
    ">- Remember to use try/except if you anticipate errors.\n",
    "\n",
    "- **Test** the functions on the results above and simple examples"
   ]
  },
  {
   "cell_type": "code",
   "execution_count": null,
   "metadata": {
    "collapsed": true
   },
   "outputs": [],
   "source": [
    "## YOUR CODE HERE"
   ]
  },
  {
   "cell_type": "markdown",
   "metadata": {},
   "source": [
    "Now, to scale up our scraping, we need to accumulate more results. We can do this by examining the URL above.\n",
    "- \"http://www.indeed.com/jobs?q=data+scientist+%2420%2C000&l=New+York&start=10\"\n",
    "\n",
    "There are two query parameters here we can alter to collect more results, the l=New+York and the start=10. The first controls the location of the results (so we can try a different city). The second controls where in the results to start and gives 10 results (thus, we can keep incrementing by 10 to go further in the list).\n",
    "##### Complete the following code to collect results from multiple cities and starting points.\n",
    "- Enter your city below to add it to the search\n",
    "- Remember to convert your salary to U.S. Dollars to match the other cities if the currency is different"
   ]
  },
  {
   "cell_type": "code",
   "execution_count": null,
   "metadata": {
    "collapsed": true
   },
   "outputs": [],
   "source": [
    "# YOUR_CITY = ''"
   ]
  },
  {
   "cell_type": "code",
   "execution_count": null,
   "metadata": {
    "collapsed": true
   },
   "outputs": [],
   "source": [
    "# url_template = \"http://www.indeed.com/jobs?q=data+scientist+%2420%2C000&l={}&start={}\"\n",
    "# max_results_per_city = 100 # Set this to a high-value (5000) to generate more results. \n",
    "# # Crawling more results, will also take much longer. First test your code on a small number of results and then expand.\n",
    "\n",
    "# results = []\n",
    "\n",
    "# for city in set(['New+York', 'Chicago', 'San+Francisco', 'Austin', 'Seattle', \n",
    "#     'Los+Angeles', 'Philadelphia', 'Atlanta', 'Dallas', 'Pittsburgh', \n",
    "#     'Portland', 'Phoenix', 'Denver', 'Houston', 'Miami', YOUR_CITY]):\n",
    "#     for start in range(0, max_results_per_city, 10):\n",
    "#         # Grab the results from the request (as above)\n",
    "#         # Append to the full set of results\n",
    "#         pass"
   ]
  },
  {
   "cell_type": "markdown",
   "metadata": {
    "focus": false,
    "id": "20339c09-5032-4e27-91be-286e9b46cd13"
   },
   "source": [
    "#### Use the functions you wrote above to parse out the 4 fields - location, title, company and salary. Create a dataframe from the results with those 4 columns."
   ]
  },
  {
   "cell_type": "code",
   "execution_count": 149,
   "metadata": {
    "collapsed": false,
    "focus": false,
    "id": "6e259594-1c52-436b-ab9e-527e071941c1"
   },
   "outputs": [],
   "source": [
    "## YOUR CODE HERE"
   ]
  },
  {
   "cell_type": "markdown",
   "metadata": {
    "focus": false,
    "id": "ff98ce64-78a7-441f-a675-63464e32c834"
   },
   "source": [
    "Lastly, we need to clean up salary data. \n",
    "\n",
    "1. Only a small number of the scraped results have salary information - only these will be used for modeling.\n",
    "1. Some of the salaries are not yearly but hourly or weekly, these will not be useful to us for now\n",
    "1. Some of the entries may be duplicated\n",
    "1. The salaries are given as text and usually with ranges.\n",
    "\n",
    "#### Find the entries with annual salary entries, by filtering the entries without salaries or salaries that are not yearly (filter those that refer to hour or week). Also, remove duplicate entries"
   ]
  },
  {
   "cell_type": "code",
   "execution_count": 9,
   "metadata": {
    "collapsed": false,
    "focus": false,
    "id": "58533e57-f86b-494a-b841-e7b59c6229c6"
   },
   "outputs": [],
   "source": [
    "## YOUR CODE HERE\n"
   ]
  },
  {
   "cell_type": "markdown",
   "metadata": {
    "focus": false,
    "id": "7d4bc860-b214-4f75-9cd0-b234830b1ec2"
   },
   "source": [
    "#### Write a function that takes a salary string and converts it to a number, averaging a salary range if necessary"
   ]
  },
  {
   "cell_type": "code",
   "execution_count": 10,
   "metadata": {
    "collapsed": true,
    "focus": false,
    "id": "a0f701e0-80bd-40ba-9101-4535860c0968"
   },
   "outputs": [],
   "source": [
    "## YOUR CODE HERE\n"
   ]
  },
  {
   "cell_type": "markdown",
   "metadata": {
    "collapsed": false,
    "focus": false,
    "id": "43e71edd-210e-42b1-9336-70a931f048af"
   },
   "source": [
    "### Save your results as a CSV"
   ]
  },
  {
   "cell_type": "code",
   "execution_count": 457,
   "metadata": {
    "collapsed": true,
    "focus": false,
    "id": "783fd153-28ac-47ab-bfca-27e7c1de95b4"
   },
   "outputs": [],
   "source": [
    "yearly.to_csv('~/Desktop/yearly.csv')\n"
   ]
  },
  {
   "cell_type": "markdown",
   "metadata": {
    "focus": false,
    "id": "04563b69-f7b6-466f-9d65-fc62c9ddee6a"
   },
   "source": [
    "## Predicting salaries using Random Forests + Another Classifier"
   ]
  },
  {
   "cell_type": "markdown",
   "metadata": {
    "focus": false,
    "id": "243e949e-2742-40af-872e-fec475fd306c"
   },
   "source": [
    "#### Load in the the data of scraped salaries"
   ]
  },
  {
   "cell_type": "code",
   "execution_count": 478,
   "metadata": {
    "collapsed": false,
    "focus": false,
    "id": "588f9845-6143-4bcc-bfd1-85d45b79303d"
   },
   "outputs": [],
   "source": [
    "p = pd.read_csv('~/Desktop/yearly.csv')"
   ]
  },
  {
   "cell_type": "code",
   "execution_count": 479,
   "metadata": {
    "collapsed": false
   },
   "outputs": [],
   "source": [
    "p.drop(\"Unnamed: 0\", axis=1, inplace=True)"
   ]
  },
  {
   "cell_type": "code",
   "execution_count": 480,
   "metadata": {
    "collapsed": false
   },
   "outputs": [],
   "source": [
    "dummy = pd.get_dummies(p['state'])"
   ]
  },
  {
   "cell_type": "code",
   "execution_count": 481,
   "metadata": {
    "collapsed": false
   },
   "outputs": [],
   "source": [
    "pbb = pd.concat([p, dummy], axis=1)"
   ]
  },
  {
   "cell_type": "code",
   "execution_count": 487,
   "metadata": {
    "collapsed": false
   },
   "outputs": [
    {
     "data": {
      "text/html": [
       "<div>\n",
       "<table border=\"1\" class=\"dataframe\">\n",
       "  <thead>\n",
       "    <tr style=\"text-align: right;\">\n",
       "      <th></th>\n",
       "      <th>title</th>\n",
       "      <th>company</th>\n",
       "      <th>mean</th>\n",
       "      <th>city</th>\n",
       "      <th>state</th>\n",
       "      <th>high_low</th>\n",
       "      <th>AZ</th>\n",
       "      <th>CA</th>\n",
       "      <th>CO</th>\n",
       "      <th>DC</th>\n",
       "      <th>...</th>\n",
       "      <th>GA</th>\n",
       "      <th>IL</th>\n",
       "      <th>MD</th>\n",
       "      <th>NJ</th>\n",
       "      <th>NY</th>\n",
       "      <th>OR</th>\n",
       "      <th>PA</th>\n",
       "      <th>TX</th>\n",
       "      <th>VA</th>\n",
       "      <th>WA</th>\n",
       "    </tr>\n",
       "  </thead>\n",
       "  <tbody>\n",
       "    <tr>\n",
       "      <th>0</th>\n",
       "      <td>Data Scientist</td>\n",
       "      <td>Platinum Solutions</td>\n",
       "      <td>100000.0</td>\n",
       "      <td>Houston</td>\n",
       "      <td>TX</td>\n",
       "      <td>1</td>\n",
       "      <td>0</td>\n",
       "      <td>0</td>\n",
       "      <td>0</td>\n",
       "      <td>0</td>\n",
       "      <td>...</td>\n",
       "      <td>0</td>\n",
       "      <td>0</td>\n",
       "      <td>0</td>\n",
       "      <td>0</td>\n",
       "      <td>0</td>\n",
       "      <td>0</td>\n",
       "      <td>0</td>\n",
       "      <td>1</td>\n",
       "      <td>0</td>\n",
       "      <td>0</td>\n",
       "    </tr>\n",
       "    <tr>\n",
       "      <th>1</th>\n",
       "      <td>Bioinformatics Software Developer</td>\n",
       "      <td>Genialis</td>\n",
       "      <td>65000.0</td>\n",
       "      <td>Houston</td>\n",
       "      <td>TX</td>\n",
       "      <td>0</td>\n",
       "      <td>0</td>\n",
       "      <td>0</td>\n",
       "      <td>0</td>\n",
       "      <td>0</td>\n",
       "      <td>...</td>\n",
       "      <td>0</td>\n",
       "      <td>0</td>\n",
       "      <td>0</td>\n",
       "      <td>0</td>\n",
       "      <td>0</td>\n",
       "      <td>0</td>\n",
       "      <td>0</td>\n",
       "      <td>1</td>\n",
       "      <td>0</td>\n",
       "      <td>0</td>\n",
       "    </tr>\n",
       "    <tr>\n",
       "      <th>2</th>\n",
       "      <td>Quality Assurance Analyst (Research)</td>\n",
       "      <td>Baylor College of Medicine</td>\n",
       "      <td>43794.0</td>\n",
       "      <td>Houston</td>\n",
       "      <td>TX</td>\n",
       "      <td>0</td>\n",
       "      <td>0</td>\n",
       "      <td>0</td>\n",
       "      <td>0</td>\n",
       "      <td>0</td>\n",
       "      <td>...</td>\n",
       "      <td>0</td>\n",
       "      <td>0</td>\n",
       "      <td>0</td>\n",
       "      <td>0</td>\n",
       "      <td>0</td>\n",
       "      <td>0</td>\n",
       "      <td>0</td>\n",
       "      <td>1</td>\n",
       "      <td>0</td>\n",
       "      <td>0</td>\n",
       "    </tr>\n",
       "    <tr>\n",
       "      <th>3</th>\n",
       "      <td>Sr Data Scientist (Hadoop) - Duluth, Georgia</td>\n",
       "      <td>Horn Solutions, Inc.</td>\n",
       "      <td>105000.0</td>\n",
       "      <td>Houston</td>\n",
       "      <td>TX</td>\n",
       "      <td>1</td>\n",
       "      <td>0</td>\n",
       "      <td>0</td>\n",
       "      <td>0</td>\n",
       "      <td>0</td>\n",
       "      <td>...</td>\n",
       "      <td>0</td>\n",
       "      <td>0</td>\n",
       "      <td>0</td>\n",
       "      <td>0</td>\n",
       "      <td>0</td>\n",
       "      <td>0</td>\n",
       "      <td>0</td>\n",
       "      <td>1</td>\n",
       "      <td>0</td>\n",
       "      <td>0</td>\n",
       "    </tr>\n",
       "    <tr>\n",
       "      <th>4</th>\n",
       "      <td>Flow Cytometry Specialist I</td>\n",
       "      <td>Baylor College of Medicine</td>\n",
       "      <td>46831.0</td>\n",
       "      <td>Houston</td>\n",
       "      <td>TX</td>\n",
       "      <td>0</td>\n",
       "      <td>0</td>\n",
       "      <td>0</td>\n",
       "      <td>0</td>\n",
       "      <td>0</td>\n",
       "      <td>...</td>\n",
       "      <td>0</td>\n",
       "      <td>0</td>\n",
       "      <td>0</td>\n",
       "      <td>0</td>\n",
       "      <td>0</td>\n",
       "      <td>0</td>\n",
       "      <td>0</td>\n",
       "      <td>1</td>\n",
       "      <td>0</td>\n",
       "      <td>0</td>\n",
       "    </tr>\n",
       "  </tbody>\n",
       "</table>\n",
       "<p>5 rows × 22 columns</p>\n",
       "</div>"
      ],
      "text/plain": [
       "                                          title                     company  \\\n",
       "0                                Data Scientist          Platinum Solutions   \n",
       "1             Bioinformatics Software Developer                    Genialis   \n",
       "2          Quality Assurance Analyst (Research)  Baylor College of Medicine   \n",
       "3  Sr Data Scientist (Hadoop) - Duluth, Georgia        Horn Solutions, Inc.   \n",
       "4                   Flow Cytometry Specialist I  Baylor College of Medicine   \n",
       "\n",
       "       mean     city state  high_low   AZ   CA   CO   DC ...    GA   IL   MD  \\\n",
       "0  100000.0  Houston    TX         1    0    0    0    0 ...     0    0    0   \n",
       "1   65000.0  Houston    TX         0    0    0    0    0 ...     0    0    0   \n",
       "2   43794.0  Houston    TX         0    0    0    0    0 ...     0    0    0   \n",
       "3  105000.0  Houston    TX         1    0    0    0    0 ...     0    0    0   \n",
       "4   46831.0  Houston    TX         0    0    0    0    0 ...     0    0    0   \n",
       "\n",
       "    NJ   NY   OR   PA   TX   VA   WA  \n",
       "0    0    0    0    0    1    0    0  \n",
       "1    0    0    0    0    1    0    0  \n",
       "2    0    0    0    0    1    0    0  \n",
       "3    0    0    0    0    1    0    0  \n",
       "4    0    0    0    0    1    0    0  \n",
       "\n",
       "[5 rows x 22 columns]"
      ]
     },
     "execution_count": 487,
     "metadata": {},
     "output_type": "execute_result"
    }
   ],
   "source": [
    "pbb.head()"
   ]
  },
  {
   "cell_type": "code",
   "execution_count": 522,
   "metadata": {
    "collapsed": false
   },
   "outputs": [
    {
     "name": "stderr",
     "output_type": "stream",
     "text": [
      "ERROR:root:Line magic function `%matplot` not found.\n"
     ]
    }
   ],
   "source": [
    "import seaborn as sns\n",
    "import matplotlib.pyplot as plt\n",
    "%matplot inline"
   ]
  },
  {
   "cell_type": "markdown",
   "metadata": {
    "focus": false,
    "id": "c7631f51-07f2-4c79-a093-3e9bc7849a48"
   },
   "source": [
    "#### We want to predict a binary variable - whether the salary was low or high. Compute the median salary and create a new binary variable that is true when the salary is high (above the median)\n",
    "\n",
    "We could also perform Linear Regression (or any regression) to predict the salary value here. Instead, we are going to convert this into a _binary_ classification problem, by predicting two classes, HIGH vs LOW salary.\n",
    "\n",
    "While performing regression may be better, performing classification may help remove some of the noise of the extreme salaries. We don't _have_ to choose the `median` as the splitting point - we could also split on the 75th percentile or any other reasonable breaking point.\n",
    "\n",
    "In fact, the ideal scenario may be to predict many levels of salaries, "
   ]
  },
  {
   "cell_type": "code",
   "execution_count": 614,
   "metadata": {
    "collapsed": false,
    "focus": false,
    "id": "c20d2498-151c-44c3-a453-3a333c79a0ac"
   },
   "outputs": [
    {
     "data": {
      "text/plain": [
       "0.62578616352201255"
      ]
     },
     "execution_count": 614,
     "metadata": {},
     "output_type": "execute_result"
    }
   ],
   "source": [
    "from sklearn.linear_model import LogisticRegression\n",
    "from sklearn.model_selection import train_test_split\n",
    "from sklearn import linear_model\n",
    "from sklearn import metrics\n",
    "lr = LogisticRegression(random_state=77)\n",
    "X= pbb[[' CA',' NY', ' DE',' IL',' PA',' VA' ]]\n",
    "y = pbb['high_low']\n",
    "X_train, X_test, y_train, y_test = train_test_split(X, y, test_size=0.33)\n",
    "lr.fit(X_train, y_train)\n",
    "Y_pred = lr.predict(X_test)\n",
    "lr.score(X,y)\n"
   ]
  },
  {
   "cell_type": "code",
   "execution_count": 526,
   "metadata": {
    "collapsed": true
   },
   "outputs": [
    {
     "data": {
      "image/png": "[encoded data removed]",
      "text/plain": [
       "<matplotlib.figure.Figure at 0x114f4dad0>"
      ]
     },
     "metadata": {},
     "output_type": "display_data"
    }
   ],
   "source": [
    "corrmat = pbb.corr()\n",
    "sns.heatmap(corrmat)\n",
    "plt.show()"
   ]
  },
  {
   "cell_type": "code",
   "execution_count": 518,
   "metadata": {
    "collapsed": true
   },
   "outputs": [],
   "source": [
    "cols = list(pbb.columns)"
   ]
  },
  {
   "cell_type": "code",
   "execution_count": 519,
   "metadata": {
    "collapsed": true
   },
   "outputs": [
    {
     "data": {
      "text/html": [
       "<div>\n",
       "<table border=\"1\" class=\"dataframe\">\n",
       "  <thead>\n",
       "    <tr style=\"text-align: right;\">\n",
       "      <th></th>\n",
       "      <th>0</th>\n",
       "      <th>1</th>\n",
       "      <th>2</th>\n",
       "      <th>3</th>\n",
       "      <th>4</th>\n",
       "      <th>5</th>\n",
       "      <th>6</th>\n",
       "      <th>7</th>\n",
       "      <th>8</th>\n",
       "      <th>9</th>\n",
       "      <th>...</th>\n",
       "      <th>12</th>\n",
       "      <th>13</th>\n",
       "      <th>14</th>\n",
       "      <th>15</th>\n",
       "      <th>16</th>\n",
       "      <th>17</th>\n",
       "      <th>18</th>\n",
       "      <th>19</th>\n",
       "      <th>20</th>\n",
       "      <th>21</th>\n",
       "    </tr>\n",
       "  </thead>\n",
       "  <tbody>\n",
       "    <tr>\n",
       "      <th>0</th>\n",
       "      <td>title</td>\n",
       "      <td>company</td>\n",
       "      <td>mean</td>\n",
       "      <td>city</td>\n",
       "      <td>state</td>\n",
       "      <td>high_low</td>\n",
       "      <td>AZ</td>\n",
       "      <td>CA</td>\n",
       "      <td>CO</td>\n",
       "      <td>DC</td>\n",
       "      <td>...</td>\n",
       "      <td>GA</td>\n",
       "      <td>IL</td>\n",
       "      <td>MD</td>\n",
       "      <td>NJ</td>\n",
       "      <td>NY</td>\n",
       "      <td>OR</td>\n",
       "      <td>PA</td>\n",
       "      <td>TX</td>\n",
       "      <td>VA</td>\n",
       "      <td>WA</td>\n",
       "    </tr>\n",
       "    <tr>\n",
       "      <th>1</th>\n",
       "      <td>3.2151</td>\n",
       "      <td>0.722186</td>\n",
       "      <td>1.08758</td>\n",
       "      <td>0.0214853</td>\n",
       "      <td>None</td>\n",
       "      <td>None</td>\n",
       "      <td>None</td>\n",
       "      <td>None</td>\n",
       "      <td>None</td>\n",
       "      <td>None</td>\n",
       "      <td>...</td>\n",
       "      <td>None</td>\n",
       "      <td>None</td>\n",
       "      <td>None</td>\n",
       "      <td>None</td>\n",
       "      <td>None</td>\n",
       "      <td>None</td>\n",
       "      <td>None</td>\n",
       "      <td>None</td>\n",
       "      <td>None</td>\n",
       "      <td>None</td>\n",
       "    </tr>\n",
       "    <tr>\n",
       "      <th>2</th>\n",
       "      <td>2.95106</td>\n",
       "      <td>0.624771</td>\n",
       "      <td>0.819751</td>\n",
       "      <td>0.0210079</td>\n",
       "      <td>None</td>\n",
       "      <td>None</td>\n",
       "      <td>None</td>\n",
       "      <td>None</td>\n",
       "      <td>None</td>\n",
       "      <td>None</td>\n",
       "      <td>...</td>\n",
       "      <td>None</td>\n",
       "      <td>None</td>\n",
       "      <td>None</td>\n",
       "      <td>None</td>\n",
       "      <td>None</td>\n",
       "      <td>None</td>\n",
       "      <td>None</td>\n",
       "      <td>None</td>\n",
       "      <td>None</td>\n",
       "      <td>None</td>\n",
       "    </tr>\n",
       "  </tbody>\n",
       "</table>\n",
       "<p>3 rows × 22 columns</p>\n",
       "</div>"
      ],
      "text/plain": [
       "        0         1         2          3      4         5     6     7     8   \\\n",
       "0    title   company      mean       city  state  high_low    AZ    CA    CO   \n",
       "1   3.2151  0.722186   1.08758  0.0214853   None      None  None  None  None   \n",
       "2  2.95106  0.624771  0.819751  0.0210079   None      None  None  None  None   \n",
       "\n",
       "     9   ...     12    13    14    15    16    17    18    19    20    21  \n",
       "0    DC  ...     GA    IL    MD    NJ    NY    OR    PA    TX    VA    WA  \n",
       "1  None  ...   None  None  None  None  None  None  None  None  None  None  \n",
       "2  None  ...   None  None  None  None  None  None  None  None  None  None  \n",
       "\n",
       "[3 rows x 22 columns]"
      ]
     },
     "execution_count": 519,
     "metadata": {},
     "output_type": "execute_result"
    }
   ],
   "source": [
    "# from sklearn.feature_selection import SelectKBest, SelectFpr, chi2, SelectPercentile, GenericUnivariateSelect, f_classif\n",
    "# #knn = KNeighborsClassifier()\n",
    "# #build the selector (we'll build one with each score type)\n",
    "# skb_f = SelectKBest(f_classif, k='all')\n",
    "# skb_chi2 = SelectKBest(chi2, k='all')\n",
    "\n",
    "# #train the selector on our data\n",
    "# skb_f.fit(X, y)\n",
    "# skb_chi2.fit(X, y)\n",
    "\n",
    "# #examine results\n",
    "# pd.DataFrame([cols, list(skb_f.scores_), list(skb_chi2.scores_)])"
   ]
  },
  {
   "cell_type": "code",
   "execution_count": null,
   "metadata": {
    "collapsed": true
   },
   "outputs": [],
   "source": [
    "model = LogisticRegression()\n",
    "model = model.fit(X, y)\n",
    "\n",
    "# check the accuracy on the training set\n",
    "model.score(X, y)"
   ]
  },
  {
   "cell_type": "code",
   "execution_count": 538,
   "metadata": {
    "collapsed": true
   },
   "outputs": [],
   "source": [
    "import statsmodels.formula.api as sm\n",
    "from sklearn.feature_extraction.text import CountVectorizer"
   ]
  },
  {
   "cell_type": "code",
   "execution_count": 2,
   "metadata": {
    "collapsed": false
   },
   "outputs": [
    {
     "ename": "NameError",
     "evalue": "name 'CountVectorizer' is not defined",
     "output_type": "error",
     "traceback": [
      "\u001b[0;31m---------------------------------------------------------------------------\u001b[0m",
      "\u001b[0;31mNameError\u001b[0m                                 Traceback (most recent call last)",
      "\u001b[0;32m<ipython-input-2-b4223a5f31f1>\u001b[0m in \u001b[0;36m<module>\u001b[0;34m()\u001b[0m\n\u001b[0;32m----> 1\u001b[0;31m \u001b[0mcvec\u001b[0m \u001b[0;34m=\u001b[0m \u001b[0mCountVectorizer\u001b[0m\u001b[0;34m(\u001b[0m\u001b[0mstop_words\u001b[0m \u001b[0;34m=\u001b[0m \u001b[0;34m'english'\u001b[0m\u001b[0;34m)\u001b[0m\u001b[0;34m\u001b[0m\u001b[0m\n\u001b[0m\u001b[1;32m      2\u001b[0m \u001b[0mX\u001b[0m\u001b[0;34m=\u001b[0m \u001b[0mpbb\u001b[0m\u001b[0;34m[\u001b[0m\u001b[0;34m'title'\u001b[0m\u001b[0;34m]\u001b[0m\u001b[0;34m\u001b[0m\u001b[0m\n\u001b[1;32m      3\u001b[0m \u001b[0my\u001b[0m\u001b[0;34m=\u001b[0m \u001b[0mpbb\u001b[0m\u001b[0;34m[\u001b[0m\u001b[0;34m'high_low'\u001b[0m\u001b[0;34m]\u001b[0m\u001b[0;34m\u001b[0m\u001b[0m\n\u001b[1;32m      4\u001b[0m \u001b[0mX_train\u001b[0m\u001b[0;34m,\u001b[0m \u001b[0mX_test\u001b[0m\u001b[0;34m,\u001b[0m \u001b[0my_train\u001b[0m\u001b[0;34m,\u001b[0m \u001b[0my_test\u001b[0m \u001b[0;34m=\u001b[0m \u001b[0mtrain_test_split\u001b[0m\u001b[0;34m(\u001b[0m\u001b[0mX\u001b[0m\u001b[0;34m,\u001b[0m \u001b[0my\u001b[0m\u001b[0;34m,\u001b[0m \u001b[0mtest_size\u001b[0m\u001b[0;34m=\u001b[0m\u001b[0;36m0.30\u001b[0m\u001b[0;34m)\u001b[0m\u001b[0;34m\u001b[0m\u001b[0m\n\u001b[1;32m      5\u001b[0m \u001b[0mcvec\u001b[0m\u001b[0;34m.\u001b[0m\u001b[0mfit\u001b[0m\u001b[0;34m(\u001b[0m\u001b[0mX_train\u001b[0m\u001b[0;34m)\u001b[0m\u001b[0;34m\u001b[0m\u001b[0m\n",
      "\u001b[0;31mNameError\u001b[0m: name 'CountVectorizer' is not defined"
     ]
    }
   ],
   "source": [
    "cvec = CountVectorizer(stop_words = 'english')\n",
    "X= pbb['title']\n",
    "y= pbb['high_low']\n",
    "X_train, X_test, y_train, y_test = train_test_split(X, y, test_size=0.30)\n",
    "cvec.fit(X_train)"
   ]
  },
  {
   "cell_type": "code",
   "execution_count": 610,
   "metadata": {
    "collapsed": false
   },
   "outputs": [],
   "source": [
    "five = pd.get_dummies(pbb['title'])"
   ]
  },
  {
   "cell_type": "code",
   "execution_count": 650,
   "metadata": {
    "collapsed": true
   },
   "outputs": [],
   "source": [
    "X_train_transform = pd.DataFrame(cvec.transform(X_train).todense(),\n",
    "                       columns=cvec.get_feature_names())"
   ]
  },
  {
   "cell_type": "code",
   "execution_count": 651,
   "metadata": {
    "collapsed": true
   },
   "outputs": [],
   "source": [
    "X_test_transform = pd.DataFrame(cvec.transform(X_test).todense(),\n",
    "                       columns=cvec.get_feature_names())"
   ]
  },
  {
   "cell_type": "code",
   "execution_count": 1,
   "metadata": {
    "collapsed": false
   },
   "outputs": [
    {
     "ename": "NameError",
     "evalue": "name 'X_train' is not defined",
     "output_type": "error",
     "traceback": [
      "\u001b[0;31m---------------------------------------------------------------------------\u001b[0m",
      "\u001b[0;31mNameError\u001b[0m                                 Traceback (most recent call last)",
      "\u001b[0;32m<ipython-input-1-50ee9de257be>\u001b[0m in \u001b[0;36m<module>\u001b[0;34m()\u001b[0m\n\u001b[0;32m----> 1\u001b[0;31m \u001b[0mword_counts\u001b[0m \u001b[0;34m=\u001b[0m \u001b[0mX_train\u001b[0m\u001b[0;34m.\u001b[0m\u001b[0msum\u001b[0m\u001b[0;34m(\u001b[0m\u001b[0maxis\u001b[0m\u001b[0;34m=\u001b[0m\u001b[0;36m0\u001b[0m\u001b[0;34m)\u001b[0m\u001b[0;34m\u001b[0m\u001b[0m\n\u001b[0m\u001b[1;32m      2\u001b[0m \u001b[0mword_counts\u001b[0m\u001b[0;34m.\u001b[0m\u001b[0msort_values\u001b[0m\u001b[0;34m(\u001b[0m\u001b[0mascending\u001b[0m \u001b[0;34m=\u001b[0m \u001b[0mFalse\u001b[0m\u001b[0;34m)\u001b[0m\u001b[0;34m.\u001b[0m\u001b[0mhead\u001b[0m\u001b[0;34m(\u001b[0m\u001b[0;36m20\u001b[0m\u001b[0;34m)\u001b[0m\u001b[0;34m\u001b[0m\u001b[0m\n",
      "\u001b[0;31mNameError\u001b[0m: name 'X_train' is not defined"
     ]
    }
   ],
   "source": [
    "word_counts = X_train.sum(axis=0)\n",
    "word_counts.sort_values(ascending = False).head(20)"
   ]
  },
  {
   "cell_type": "code",
   "execution_count": 653,
   "metadata": {
    "collapsed": false
   },
   "outputs": [
    {
     "data": {
      "text/plain": [
       "0.8125"
      ]
     },
     "execution_count": 653,
     "metadata": {},
     "output_type": "execute_result"
    }
   ],
   "source": [
    "lr = LogisticRegression()\n",
    "lr.fit(X_train_transform, y_train)\n",
    "lr.score(X_test_transform, y_test)"
   ]
  },
  {
   "cell_type": "code",
   "execution_count": 557,
   "metadata": {
    "collapsed": false
   },
   "outputs": [
    {
     "name": "stderr",
     "output_type": "stream",
     "text": [
      "/Users/brookeneubauer/anaconda/lib/python2.7/site-packages/sklearn/cross_validation.py:44: DeprecationWarning: This module was deprecated in version 0.18 in favor of the model_selection module into which all the refactored classes and functions are moved. Also note that the interface of the new CV iterators are different from that of this module. This module will be removed in 0.20.\n",
      "  \"This module will be removed in 0.20.\", DeprecationWarning)\n"
     ]
    }
   ],
   "source": [
    "from sklearn.ensemble import RandomForestClassifier, ExtraTreesClassifier, BaggingClassifier, AdaBoostClassifier\n",
    "from sklearn.cross_validation import cross_val_score, cross_val_predict"
   ]
  },
  {
   "cell_type": "code",
   "execution_count": 654,
   "metadata": {
    "collapsed": false
   },
   "outputs": [
    {
     "name": "stdout",
     "output_type": "stream",
     "text": [
      "Random Forrest Score:\t0.761 ± 0.023\n"
     ]
    }
   ],
   "source": [
    "rf = RandomForestClassifier(class_weight='balanced')\n",
    "rf.fit(X_train_transform, y_train)\n",
    "s = cross_val_score(rf, X_train_transform, y_train, n_jobs=-1)\n",
    "print \"{} Score:\\t{:0.3} ± {:0.3}\".format(\"Random Forrest\", s.mean().round(3), s.std().round(3))"
   ]
  },
  {
   "cell_type": "code",
   "execution_count": 656,
   "metadata": {
    "collapsed": false
   },
   "outputs": [
    {
     "data": {
      "text/html": [
       "<div>\n",
       "<table border=\"1\" class=\"dataframe\">\n",
       "  <thead>\n",
       "    <tr style=\"text-align: right;\">\n",
       "      <th></th>\n",
       "      <th>importance</th>\n",
       "    </tr>\n",
       "  </thead>\n",
       "  <tbody>\n",
       "    <tr>\n",
       "      <th>data</th>\n",
       "      <td>0.103982</td>\n",
       "    </tr>\n",
       "    <tr>\n",
       "      <th>scientist</th>\n",
       "      <td>0.062502</td>\n",
       "    </tr>\n",
       "    <tr>\n",
       "      <th>analyst</th>\n",
       "      <td>0.046910</td>\n",
       "    </tr>\n",
       "    <tr>\n",
       "      <th>research</th>\n",
       "      <td>0.041672</td>\n",
       "    </tr>\n",
       "    <tr>\n",
       "      <th>quantitative</th>\n",
       "      <td>0.031344</td>\n",
       "    </tr>\n",
       "    <tr>\n",
       "      <th>engineer</th>\n",
       "      <td>0.026864</td>\n",
       "    </tr>\n",
       "    <tr>\n",
       "      <th>senior</th>\n",
       "      <td>0.026683</td>\n",
       "    </tr>\n",
       "    <tr>\n",
       "      <th>machine</th>\n",
       "      <td>0.026538</td>\n",
       "    </tr>\n",
       "    <tr>\n",
       "      <th>lead</th>\n",
       "      <td>0.020314</td>\n",
       "    </tr>\n",
       "    <tr>\n",
       "      <th>learning</th>\n",
       "      <td>0.019334</td>\n",
       "    </tr>\n",
       "  </tbody>\n",
       "</table>\n",
       "</div>"
      ],
      "text/plain": [
       "              importance\n",
       "data            0.103982\n",
       "scientist       0.062502\n",
       "analyst         0.046910\n",
       "research        0.041672\n",
       "quantitative    0.031344\n",
       "engineer        0.026864\n",
       "senior          0.026683\n",
       "machine         0.026538\n",
       "lead            0.020314\n",
       "learning        0.019334"
      ]
     },
     "execution_count": 656,
     "metadata": {},
     "output_type": "execute_result"
    }
   ],
   "source": [
    "feature_importances = pd.DataFrame(rf.feature_importances_,\n",
    "                                   index = X_train_transform.columns,\n",
    "                                    columns=['importance']).sort_values('importance',\n",
    "                                                                        ascending=False)\n",
    "# empty = []\n",
    "# for i in X_train_transform:\n",
    "#     empty.append(np.median(pbb[pbb.]))\n",
    "feature_importances.head(10)"
   ]
  },
  {
   "cell_type": "code",
   "execution_count": null,
   "metadata": {
    "collapsed": true
   },
   "outputs": [],
   "source": []
  },
  {
   "cell_type": "code",
   "execution_count": 587,
   "metadata": {
    "collapsed": false
   },
   "outputs": [
    {
     "ename": "IndexError",
     "evalue": "tuple index out of range",
     "output_type": "error",
     "traceback": [
      "\u001b[0;31m---------------------------------------------------------------------------\u001b[0m",
      "\u001b[0;31mIndexError\u001b[0m                                Traceback (most recent call last)",
      "\u001b[0;32m<ipython-input-587-517a2bf587f8>\u001b[0m in \u001b[0;36m<module>\u001b[0;34m()\u001b[0m\n\u001b[1;32m      8\u001b[0m \u001b[0mplt\u001b[0m\u001b[0;34m.\u001b[0m\u001b[0mfigure\u001b[0m\u001b[0;34m(\u001b[0m\u001b[0;34m)\u001b[0m\u001b[0;34m\u001b[0m\u001b[0m\n\u001b[1;32m      9\u001b[0m \u001b[0mplt\u001b[0m\u001b[0;34m.\u001b[0m\u001b[0mtitle\u001b[0m\u001b[0;34m(\u001b[0m\u001b[0;34m\"Feature importances\"\u001b[0m\u001b[0;34m)\u001b[0m\u001b[0;34m\u001b[0m\u001b[0m\n\u001b[0;32m---> 10\u001b[0;31m plt.bar(range(X.shape[1]), importances[indices],\n\u001b[0m\u001b[1;32m     11\u001b[0m        color=\"r\")\n",
      "\u001b[0;31mIndexError\u001b[0m: tuple index out of range"
     ]
    }
   ],
   "source": [
    "# importances = rf.feature_importances_\n",
    "# std = np.std([tree.feature_importances_ for tree in rf.estimators_], axis=0)\n",
    "\n",
    "# indices = np.argsort(importances)[::-1]\n",
    "\n",
    "\n",
    "# # Plot the feature importances of the forest\n",
    "# plt.figure()\n",
    "# plt.title(\"Feature importances\")\n",
    "# plt.bar(range(X.shape[1]), importances[indices],\n",
    "#        color=\"r\")"
   ]
  },
  {
   "cell_type": "markdown",
   "metadata": {
    "focus": false,
    "id": "a7afb2c0-d41e-4779-8216-91cd8dd4473f"
   },
   "source": [
    "#### Thought experiment: What is the baseline accuracy for this model?"
   ]
  },
  {
   "cell_type": "code",
   "execution_count": 16,
   "metadata": {
    "collapsed": true,
    "focus": false,
    "id": "87a17d3d-b7f4-4747-9f75-f9af1d18a174"
   },
   "outputs": [],
   "source": [
    "## YOUR CODE HERE"
   ]
  },
  {
   "cell_type": "markdown",
   "metadata": {
    "focus": false,
    "id": "4fb29de2-5b98-474c-a4ad-5170b72b9aea"
   },
   "source": [
    "#### Create a Random Forest model to predict High/Low salary using Sklearn. Start by ONLY using the location as a feature. "
   ]
  },
  {
   "cell_type": "code",
   "execution_count": 17,
   "metadata": {
    "collapsed": false,
    "focus": false,
    "id": "ddbc6159-6854-4ca7-857f-bfecdaf6d9c2"
   },
   "outputs": [],
   "source": [
    "## YOUR CODE HERE"
   ]
  },
  {
   "cell_type": "markdown",
   "metadata": {
    "focus": false,
    "id": "0ef04f32-419c-4bf2-baf7-48201f03df89"
   },
   "source": [
    "#### Create a few new variables in your dataframe to represent interesting features of a job title.\n",
    "- For example, create a feature that represents whether 'Senior' is in the title \n",
    "- or whether 'Manager' is in the title. \n",
    "- Then build a new Random Forest with these features. Do they add any value? \n"
   ]
  },
  {
   "cell_type": "code",
   "execution_count": 18,
   "metadata": {
    "collapsed": false,
    "focus": false,
    "id": "068dc1cf-7fd7-4f27-a1f1-7f0a5a221d29"
   },
   "outputs": [],
   "source": [
    "## YOUR CODE HERE"
   ]
  },
  {
   "cell_type": "markdown",
   "metadata": {
    "focus": false,
    "id": "9c9274ef-c9f5-4d56-b286-ecc8709eff9f"
   },
   "source": [
    "#### Rebuild this model with the new variables\n",
    "- You can either create the dummy features manually or use the `dmatrix` function from `patsy`\n",
    "- Remember to scale the feature variables as well!\n"
   ]
  },
  {
   "cell_type": "code",
   "execution_count": 19,
   "metadata": {
    "collapsed": false,
    "focus": false,
    "id": "b76f65cd-cd3a-4e91-af55-12880be7b057"
   },
   "outputs": [],
   "source": [
    "## YOUR CODE HERE"
   ]
  },
  {
   "cell_type": "markdown",
   "metadata": {
    "focus": false,
    "id": "9367beff-72ba-4768-a0ba-a50b335de61d"
   },
   "source": [
    "#### Use cross-validation in scikit-learn to evaluate the model above. \n",
    "- Evaluate the accuracy of the model. "
   ]
  },
  {
   "cell_type": "code",
   "execution_count": 568,
   "metadata": {
    "collapsed": false,
    "focus": false,
    "id": "269b9e7c-60b5-4a06-8255-881d7395bc1b"
   },
   "outputs": [],
   "source": [
    "from sklearn.cross_validation import cross_val_score, cross_val_predict\n",
    "from sklearn import metrics\n",
    "from sklearn.metrics import accuracy_score"
   ]
  },
  {
   "cell_type": "code",
   "execution_count": 606,
   "metadata": {
    "collapsed": false,
    "focus": false,
    "id": "56cc8854-d722-411d-a6c7-e86310710f67"
   },
   "outputs": [
    {
     "name": "stdout",
     "output_type": "stream",
     "text": [
      "Cross-Predicted Accuracy: 0.788288288288\n"
     ]
    }
   ],
   "source": [
    "predictions = cross_val_predict(lr, X_train_transform, y_train, cv=6)\n",
    "# plt.scatter(y_train, predictions)\n",
    "accuracy = metrics.accuracy_score(y_train, predictions)\n",
    "print \"Cross-Predicted Accuracy:\", accuracy"
   ]
  },
  {
   "cell_type": "markdown",
   "metadata": {
    "focus": false,
    "id": "fead9b5b-7316-405d-87fd-e144dff0cbeb"
   },
   "source": [
    "#### Continue to incorporate other text features from the title or summary that you believe will predict the salary and examine their coefficients"
   ]
  },
  {
   "cell_type": "code",
   "execution_count": null,
   "metadata": {
    "collapsed": true
   },
   "outputs": [],
   "source": []
  }
 ],
 "metadata": {
  "anaconda-cloud": {},
  "kernelspec": {
   "display_name": "Python 2",
   "language": "python",
   "name": "python2"
  },
  "language_info": {
   "codemirror_mode": {
    "name": "ipython",
    "version": 2
   },
   "file_extension": ".py",
   "mimetype": "text/x-python",
   "name": "python",
   "nbconvert_exporter": "python",
   "pygments_lexer": "ipython2",
   "version": "2.7.13"
  }
 },
 "nbformat": 4,
 "nbformat_minor": 0
}
